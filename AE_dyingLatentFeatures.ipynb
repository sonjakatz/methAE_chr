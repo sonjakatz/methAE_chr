{
 "cells": [
  {
   "cell_type": "code",
   "execution_count": 12,
   "metadata": {},
   "outputs": [],
   "source": [
    "import pandas as pd\n",
    "import numpy as np\n",
    "import pickle \n",
    "import torch"
   ]
  },
  {
   "cell_type": "markdown",
   "metadata": {},
   "source": [
    "# Load test data"
   ]
  },
  {
   "cell_type": "code",
   "execution_count": 14,
   "metadata": {},
   "outputs": [],
   "source": [
    "PATH_data = \"data\"\n",
    "PATH_results = \"logs\"\n",
    "\n",
    "with open(os.path.join(PATH_data, \"chr22_overlap_test_methyl_array.pkl\"), \"rb\") as f: test_dataset = pickle.load(f) #\n",
    "test_tensor = torch.tensor(test_dataset[\"beta\"].values, dtype=torch.float32)"
   ]
  },
  {
   "cell_type": "code",
   "execution_count": 18,
   "metadata": {},
   "outputs": [
    {
     "name": "stdout",
     "output_type": "stream",
     "text": [
      "usage: train_AE.py [-h] [--name NAME] [--train_file TRAIN_FILE]\n",
      "                   [--val_file VAL_FILE]\n",
      "                   [--hidden_layer_encoder_topology HIDDEN_LAYER_ENCODER_TOPOLOGY [HIDDEN_LAYER_ENCODER_TOPOLOGY ...]]\n",
      "                   [--latentSize LATENTSIZE] [--learning_rate LEARNING_RATE]\n",
      "                   [--n_epochs N_EPOCHS]\n",
      "\n",
      "Train AE\n",
      "\n",
      "optional arguments:\n",
      "  -h, --help            show this help message and exit\n",
      "  --name NAME\n",
      "  --train_file TRAIN_FILE\n",
      "  --val_file VAL_FILE\n",
      "  --hidden_layer_encoder_topology HIDDEN_LAYER_ENCODER_TOPOLOGY [HIDDEN_LAYER_ENCODER_TOPOLOGY ...]\n",
      "  --latentSize LATENTSIZE\n",
      "  --learning_rate LEARNING_RATE\n",
      "  --n_epochs N_EPOCHS\n"
     ]
    }
   ],
   "source": [
    "!python train_AE.py --help"
   ]
  },
  {
   "cell_type": "code",
   "execution_count": 21,
   "metadata": {},
   "outputs": [
    {
     "name": "stdout",
     "output_type": "stream",
     "text": [
      "normalAE(\n",
      "  (encoder): Sequential(\n",
      "    (0): Linear(in_features=4671, out_features=500, bias=True)\n",
      "    (1): PReLU(num_parameters=1)\n",
      "    (2): BatchNorm1d(500, eps=1e-05, momentum=0.1, affine=True, track_running_stats=True)\n",
      "    (3): Linear(in_features=500, out_features=50, bias=True)\n",
      "    (4): PReLU(num_parameters=1)\n",
      "    (5): BatchNorm1d(50, eps=1e-05, momentum=0.1, affine=True, track_running_stats=True)\n",
      "  )\n",
      "  (decoder): Sequential(\n",
      "    (0): Linear(in_features=50, out_features=500, bias=True)\n",
      "    (1): PReLU(num_parameters=1)\n",
      "    (2): Linear(in_features=500, out_features=4671, bias=True)\n",
      "    (3): Sigmoid()\n",
      "  )\n",
      ")\n",
      "\t\tLogging to logs/test/checkpoint\n",
      "cpu\n",
      "Epoch: 1\n",
      "Training Loss: 231524.197\n",
      "Validation Loss: 31493.954\n",
      "Validation loss decreased (inf --> 31493.953857).  Saving model ...\n",
      "Epoch: 2\n",
      "Training Loss: 213389.719\n",
      "Validation Loss: 27483.368\n",
      "Validation loss decreased (31493.953857 --> 27483.368164).  Saving model ...\n",
      "Epoch: 3\n",
      "Training Loss: 193921.004\n",
      "Validation Loss: 21625.459\n",
      "Validation loss decreased (27483.368164 --> 21625.458984).  Saving model ...\n",
      "Epoch: 4\n",
      "Training Loss: 173594.447\n",
      "Validation Loss: 17226.388\n",
      "Validation loss decreased (21625.458984 --> 17226.387817).  Saving model ...\n",
      "Epoch: 5\n",
      "Training Loss: 153062.875\n",
      "Validation Loss: 13663.701\n",
      "Validation loss decreased (17226.387817 --> 13663.700684).  Saving model ...\n",
      "Epoch: 6\n",
      "Training Loss: 132216.47\n",
      "Validation Loss: 13504.63\n",
      "Validation loss decreased (13663.700684 --> 13504.630371).  Saving model ...\n",
      "Epoch: 7\n",
      "Training Loss: 112288.656\n",
      "Validation Loss: 10928.533\n",
      "Validation loss decreased (13504.630371 --> 10928.533203).  Saving model ...\n",
      "Epoch: 8\n",
      "Training Loss: 93086.049\n",
      "Validation Loss: 10234.439\n",
      "Validation loss decreased (10928.533203 --> 10234.438965).  Saving model ...\n",
      "Epoch: 9\n",
      "Training Loss: 75675.621\n",
      "Validation Loss: 6299.298\n",
      "Validation loss decreased (10234.438965 --> 6299.297729).  Saving model ...\n",
      "Epoch: 10\n",
      "Training Loss: 59584.461\n",
      "Validation Loss: 3890.133\n",
      "Validation loss decreased (6299.297729 --> 3890.132874).  Saving model ...\n"
     ]
    }
   ],
   "source": [
    "!python train_AE.py --name test \\\n",
    "                    --train_file chr22_overlap_train_methyl_array.pkl \\\n",
    "                    --val_file chr22_overlap_val_methyl_array.pkl \\\n",
    "                    --hidden_layer_encoder_topology 500 \\\n",
    "                    --latentSize 50 \\\n",
    "                    --learning_rate 1e-04 \\\n",
    "                    --n_epochs 10"
   ]
  },
  {
   "cell_type": "code",
   "execution_count": null,
   "metadata": {},
   "outputs": [],
   "source": [
    "model = torch.load(f\"{PATH_results}/trainedModel.pth\", map_location=torch.device('cpu'))"
   ]
  }
 ],
 "metadata": {
  "interpreter": {
   "hash": "3992ab943128cc4cf985d7ce129cb55b97cc0536705b4d7d2d01b5a593c32f90"
  },
  "kernelspec": {
   "display_name": "Python 3.8.5 ('base')",
   "language": "python",
   "name": "python3"
  },
  "language_info": {
   "codemirror_mode": {
    "name": "ipython",
    "version": 3
   },
   "file_extension": ".py",
   "mimetype": "text/x-python",
   "name": "python",
   "nbconvert_exporter": "python",
   "pygments_lexer": "ipython3",
   "version": "3.8.5"
  },
  "orig_nbformat": 4
 },
 "nbformat": 4,
 "nbformat_minor": 2
}
