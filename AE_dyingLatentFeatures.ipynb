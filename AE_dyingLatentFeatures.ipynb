{
 "cells": [
  {
   "cell_type": "code",
   "execution_count": 33,
   "metadata": {},
   "outputs": [
    {
     "ename": "ModuleNotFoundError",
     "evalue": "No module named 'scripts.visualisation'",
     "output_type": "error",
     "traceback": [
      "\u001b[0;31m---------------------------------------------------------------------------\u001b[0m",
      "\u001b[0;31mModuleNotFoundError\u001b[0m                       Traceback (most recent call last)",
      "\u001b[0;32m/tmp/ipykernel_12054/621719940.py\u001b[0m in \u001b[0;36m<module>\u001b[0;34m\u001b[0m\n\u001b[1;32m      3\u001b[0m \u001b[0;32mimport\u001b[0m \u001b[0mpickle\u001b[0m\u001b[0;34m\u001b[0m\u001b[0;34m\u001b[0m\u001b[0m\n\u001b[1;32m      4\u001b[0m \u001b[0;32mimport\u001b[0m \u001b[0mtorch\u001b[0m\u001b[0;34m\u001b[0m\u001b[0;34m\u001b[0m\u001b[0m\n\u001b[0;32m----> 5\u001b[0;31m \u001b[0;32mfrom\u001b[0m \u001b[0mscripts\u001b[0m\u001b[0;34m.\u001b[0m\u001b[0mvisualisation\u001b[0m \u001b[0;32mimport\u001b[0m \u001b[0mplot_cpg_reconstruction\u001b[0m\u001b[0;34m\u001b[0m\u001b[0;34m\u001b[0m\u001b[0m\n\u001b[0m",
      "\u001b[0;31mModuleNotFoundError\u001b[0m: No module named 'scripts.visualisation'"
     ]
    }
   ],
   "source": [
    "import pandas as pd\n",
    "import numpy as np\n",
    "import pickle \n",
    "import torch\n",
    "from scripts.visualisation import plot_cpg_reconstruction"
   ]
  },
  {
   "cell_type": "markdown",
   "metadata": {},
   "source": [
    "# Load test data"
   ]
  },
  {
   "cell_type": "code",
   "execution_count": 23,
   "metadata": {},
   "outputs": [],
   "source": [
    "PATH_data = \"data\"\n",
    "PATH_results = \"logs\"\n",
    "\n",
    "with open(os.path.join(PATH_data, \"chr22_overlap_test_methyl_array.pkl\"), \"rb\") as f: test_dataset = pickle.load(f) #\n",
    "test_tensor = torch.tensor(test_dataset[\"beta\"].values, dtype=torch.float32)"
   ]
  },
  {
   "cell_type": "markdown",
   "metadata": {},
   "source": [
    "# Train model"
   ]
  },
  {
   "cell_type": "code",
   "execution_count": 18,
   "metadata": {},
   "outputs": [
    {
     "name": "stdout",
     "output_type": "stream",
     "text": [
      "usage: train_AE.py [-h] [--name NAME] [--train_file TRAIN_FILE]\n",
      "                   [--val_file VAL_FILE]\n",
      "                   [--hidden_layer_encoder_topology HIDDEN_LAYER_ENCODER_TOPOLOGY [HIDDEN_LAYER_ENCODER_TOPOLOGY ...]]\n",
      "                   [--latentSize LATENTSIZE] [--learning_rate LEARNING_RATE]\n",
      "                   [--n_epochs N_EPOCHS]\n",
      "\n",
      "Train AE\n",
      "\n",
      "optional arguments:\n",
      "  -h, --help            show this help message and exit\n",
      "  --name NAME\n",
      "  --train_file TRAIN_FILE\n",
      "  --val_file VAL_FILE\n",
      "  --hidden_layer_encoder_topology HIDDEN_LAYER_ENCODER_TOPOLOGY [HIDDEN_LAYER_ENCODER_TOPOLOGY ...]\n",
      "  --latentSize LATENTSIZE\n",
      "  --learning_rate LEARNING_RATE\n",
      "  --n_epochs N_EPOCHS\n"
     ]
    }
   ],
   "source": [
    "!python train_AE.py --help"
   ]
  },
  {
   "cell_type": "code",
   "execution_count": 27,
   "metadata": {},
   "outputs": [
    {
     "name": "stdout",
     "output_type": "stream",
     "text": [
      "normalAE(\n",
      "  (encoder): Sequential(\n",
      "    (0): Linear(in_features=4671, out_features=2000, bias=True)\n",
      "    (1): PReLU(num_parameters=1)\n",
      "    (2): BatchNorm1d(2000, eps=1e-05, momentum=0.1, affine=True, track_running_stats=True)\n",
      "    (3): Linear(in_features=2000, out_features=500, bias=True)\n",
      "    (4): PReLU(num_parameters=1)\n",
      "    (5): BatchNorm1d(500, eps=1e-05, momentum=0.1, affine=True, track_running_stats=True)\n",
      "    (6): Linear(in_features=500, out_features=50, bias=True)\n",
      "    (7): PReLU(num_parameters=1)\n",
      "    (8): BatchNorm1d(50, eps=1e-05, momentum=0.1, affine=True, track_running_stats=True)\n",
      "  )\n",
      "  (decoder): Sequential(\n",
      "    (0): Linear(in_features=50, out_features=500, bias=True)\n",
      "    (1): PReLU(num_parameters=1)\n",
      "    (2): Linear(in_features=500, out_features=2000, bias=True)\n",
      "    (3): PReLU(num_parameters=1)\n",
      "    (4): Linear(in_features=2000, out_features=4671, bias=True)\n",
      "    (5): Sigmoid()\n",
      "  )\n",
      ")\n",
      "\t\tLogging to logs/AE_HeInit/checkpoint\n",
      "cpu\n",
      "Epoch: 1\n",
      "Training Loss: 315744.219\n",
      "Validation Loss: 28359.176\n",
      "Validation loss decreased (inf --> 28359.176270).  Saving model ...\n",
      "Epoch: 2\n",
      "Training Loss: 167456.32\n",
      "Validation Loss: 14019.246\n",
      "Validation loss decreased (28359.176270 --> 14019.246094).  Saving model ...\n",
      "Epoch: 3\n",
      "Training Loss: 84515.519\n",
      "Validation Loss: 6043.903\n",
      "Validation loss decreased (14019.246094 --> 6043.903198).  Saving model ...\n",
      "Epoch: 4\n",
      "Training Loss: 43569.41\n",
      "Validation Loss: 4150.055\n",
      "Validation loss decreased (6043.903198 --> 4150.055115).  Saving model ...\n",
      "Epoch: 5\n",
      "Training Loss: 28297.731\n",
      "Validation Loss: 4877.706\n",
      "EarlyStopping counter: 1 out of 10\n",
      "Epoch: 6\n",
      "Training Loss: 21810.712\n",
      "Validation Loss: 4020.129\n",
      "Validation loss decreased (4150.055115 --> 4020.129333).  Saving model ...\n",
      "Epoch: 7\n",
      "Training Loss: 17736.285\n",
      "Validation Loss: 3203.406\n",
      "Validation loss decreased (4020.129333 --> 3203.406433).  Saving model ...\n",
      "Epoch: 8\n",
      "Training Loss: 14933.225\n",
      "Validation Loss: 2994.806\n",
      "Validation loss decreased (3203.406433 --> 2994.806061).  Saving model ...\n",
      "Epoch: 9\n",
      "Training Loss: 13102.682\n",
      "Validation Loss: 2564.538\n",
      "Validation loss decreased (2994.806061 --> 2564.538483).  Saving model ...\n",
      "Epoch: 10\n",
      "Training Loss: 11784.259\n",
      "Validation Loss: 3216.291\n",
      "EarlyStopping counter: 1 out of 10\n",
      "Epoch: 11\n",
      "Training Loss: 10687.789\n",
      "Validation Loss: 2318.397\n",
      "Validation loss decreased (2564.538483 --> 2318.397430).  Saving model ...\n",
      "Epoch: 12\n",
      "Training Loss: 9811.693\n",
      "Validation Loss: 1972.988\n",
      "Validation loss decreased (2318.397430 --> 1972.987900).  Saving model ...\n",
      "Epoch: 13\n",
      "Training Loss: 9139.517\n",
      "Validation Loss: 1727.34\n",
      "Validation loss decreased (1972.987900 --> 1727.339813).  Saving model ...\n",
      "Epoch: 14\n",
      "Training Loss: 8858.82\n",
      "Validation Loss: 1651.585\n",
      "Validation loss decreased (1727.339813 --> 1651.585022).  Saving model ...\n",
      "Epoch: 15\n",
      "Training Loss: 8100.564\n",
      "Validation Loss: 1723.792\n",
      "EarlyStopping counter: 1 out of 10\n",
      "Epoch: 16\n",
      "Training Loss: 7894.666\n",
      "Validation Loss: 1933.874\n",
      "EarlyStopping counter: 2 out of 10\n",
      "Epoch: 17\n",
      "Training Loss: 7597.757\n",
      "Validation Loss: 1847.133\n",
      "EarlyStopping counter: 3 out of 10\n",
      "Epoch: 18\n",
      "Training Loss: 7225.702\n",
      "Validation Loss: 1605.849\n",
      "Validation loss decreased (1651.585022 --> 1605.848907).  Saving model ...\n",
      "Epoch: 19\n",
      "Training Loss: 6945.347\n",
      "Validation Loss: 1871.48\n",
      "EarlyStopping counter: 1 out of 10\n",
      "Epoch: 20\n",
      "Training Loss: 6674.842\n",
      "Validation Loss: 1674.7\n",
      "EarlyStopping counter: 2 out of 10\n",
      "Epoch: 21\n",
      "Training Loss: 6773.641\n",
      "Validation Loss: 1630.023\n",
      "EarlyStopping counter: 3 out of 10\n",
      "Epoch: 22\n",
      "Training Loss: 6585.909\n",
      "Validation Loss: 1300.738\n",
      "Validation loss decreased (1605.848907 --> 1300.738007).  Saving model ...\n",
      "Epoch: 23\n",
      "Training Loss: 6504.564\n",
      "Validation Loss: 1323.332\n",
      "EarlyStopping counter: 1 out of 10\n",
      "Epoch: 24\n",
      "Training Loss: 6298.768\n",
      "Validation Loss: 1320.41\n",
      "EarlyStopping counter: 2 out of 10\n",
      "Epoch: 25\n",
      "Training Loss: 6345.875\n",
      "Validation Loss: 1290.937\n",
      "Validation loss decreased (1300.738007 --> 1290.937073).  Saving model ...\n",
      "Epoch: 26\n",
      "Training Loss: 6362.497\n",
      "Validation Loss: 1102.347\n",
      "Validation loss decreased (1290.937073 --> 1102.347305).  Saving model ...\n",
      "Epoch: 27\n",
      "Training Loss: 5985.914\n",
      "Validation Loss: 1377.986\n",
      "EarlyStopping counter: 1 out of 10\n",
      "Epoch: 28\n",
      "Training Loss: 6094.374\n",
      "Validation Loss: 1382.437\n",
      "EarlyStopping counter: 2 out of 10\n",
      "Epoch: 29\n",
      "Training Loss: 5814.075\n",
      "Validation Loss: 1605.668\n",
      "EarlyStopping counter: 3 out of 10\n",
      "Epoch: 30\n",
      "Training Loss: 6118.727\n",
      "Validation Loss: 1498.119\n",
      "EarlyStopping counter: 4 out of 10\n",
      "Epoch: 31\n",
      "Training Loss: 5730.417\n",
      "Validation Loss: 1296.791\n",
      "EarlyStopping counter: 5 out of 10\n",
      "Epoch: 32\n",
      "Training Loss: 5619.712\n",
      "Validation Loss: 1152.479\n",
      "EarlyStopping counter: 6 out of 10\n",
      "Epoch: 33\n",
      "Training Loss: 5800.479\n",
      "Validation Loss: 1219.972\n",
      "EarlyStopping counter: 7 out of 10\n",
      "Epoch: 34\n",
      "Training Loss: 5443.44\n",
      "Validation Loss: 1986.502\n",
      "EarlyStopping counter: 8 out of 10\n",
      "Epoch: 35\n",
      "Training Loss: 5489.217\n",
      "Validation Loss: 1763.192\n",
      "EarlyStopping counter: 9 out of 10\n",
      "Epoch: 36\n",
      "Training Loss: 5476.938\n",
      "Validation Loss: 1178.181\n",
      "EarlyStopping counter: 10 out of 10\n",
      "Early stopping\n"
     ]
    }
   ],
   "source": [
    "!python train_AE.py --name AE_HeInit \\\n",
    "                    --train_file chr22_overlap_train_methyl_array.pkl \\\n",
    "                    --val_file chr22_overlap_val_methyl_array.pkl \\\n",
    "                    --hidden_layer_encoder_topology 2000 500 \\\n",
    "                    --latentSize 50 \\\n",
    "                    --learning_rate 1e-04 \\\n",
    "                    --n_epochs 500"
   ]
  },
  {
   "cell_type": "markdown",
   "metadata": {},
   "source": [
    "# Reconstruction"
   ]
  },
  {
   "cell_type": "code",
   "execution_count": 28,
   "metadata": {},
   "outputs": [],
   "source": [
    "name=\"AE_HeInit\"\n",
    "model = torch.load(f\"logs/{name}/checkpoint/trainedModel.pth\", map_location=torch.device('cpu'))"
   ]
  },
  {
   "cell_type": "code",
   "execution_count": 29,
   "metadata": {},
   "outputs": [
    {
     "data": {
      "text/plain": [
       "normalAE(\n",
       "  (encoder): Sequential(\n",
       "    (0): Linear(in_features=4671, out_features=2000, bias=True)\n",
       "    (1): PReLU(num_parameters=1)\n",
       "    (2): BatchNorm1d(2000, eps=1e-05, momentum=0.1, affine=True, track_running_stats=True)\n",
       "    (3): Linear(in_features=2000, out_features=500, bias=True)\n",
       "    (4): PReLU(num_parameters=1)\n",
       "    (5): BatchNorm1d(500, eps=1e-05, momentum=0.1, affine=True, track_running_stats=True)\n",
       "    (6): Linear(in_features=500, out_features=50, bias=True)\n",
       "    (7): PReLU(num_parameters=1)\n",
       "    (8): BatchNorm1d(50, eps=1e-05, momentum=0.1, affine=True, track_running_stats=True)\n",
       "  )\n",
       "  (decoder): Sequential(\n",
       "    (0): Linear(in_features=50, out_features=500, bias=True)\n",
       "    (1): PReLU(num_parameters=1)\n",
       "    (2): Linear(in_features=500, out_features=2000, bias=True)\n",
       "    (3): PReLU(num_parameters=1)\n",
       "    (4): Linear(in_features=2000, out_features=4671, bias=True)\n",
       "    (5): Sigmoid()\n",
       "  )\n",
       ")"
      ]
     },
     "execution_count": 29,
     "metadata": {},
     "output_type": "execute_result"
    }
   ],
   "source": [
    "model"
   ]
  },
  {
   "cell_type": "code",
   "execution_count": null,
   "metadata": {},
   "outputs": [],
   "source": []
  }
 ],
 "metadata": {
  "interpreter": {
   "hash": "3992ab943128cc4cf985d7ce129cb55b97cc0536705b4d7d2d01b5a593c32f90"
  },
  "kernelspec": {
   "display_name": "Python 3.8.5 ('base')",
   "language": "python",
   "name": "python3"
  },
  "language_info": {
   "codemirror_mode": {
    "name": "ipython",
    "version": 3
   },
   "file_extension": ".py",
   "mimetype": "text/x-python",
   "name": "python",
   "nbconvert_exporter": "python",
   "pygments_lexer": "ipython3",
   "version": "3.8.5"
  },
  "orig_nbformat": 4
 },
 "nbformat": 4,
 "nbformat_minor": 2
}
