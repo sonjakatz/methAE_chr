{
 "cells": [
  {
   "cell_type": "code",
   "execution_count": 1,
   "metadata": {},
   "outputs": [],
   "source": [
    "import pandas as pd\n",
    "import numpy as np\n",
    "import pickle \n",
    "import torch\n",
    "from data.prepareData import prepareDataLoader_fromPkl\n",
    "import matplotlib.pyplot as plt"
   ]
  },
  {
   "cell_type": "markdown",
   "metadata": {},
   "source": [
    "# Train models with different latent space sizes\n",
    "\n",
    "Training parameters:\n",
    "\n",
    "Setups tried:\n",
    "\n",
    "input = ~24247\n",
    "\n",
    "`latentSize = 10` + `hidden_layer_encoder_topology = 5000 500`\n",
    "\n",
    "`latentSize = 25` + `hidden_layer_encoder_topology = 5000 500`\n",
    "\n",
    "`latentSize = 50` + `hidden_layer_encoder_topology = 5000 500`\n",
    "\n",
    "`latentSize = 50` + `hidden_layer_encoder_topology = 10000 2500 500`  --> high memory GPU\n",
    "\n",
    "`latentSize = 100` + `hidden_layer_encoder_topology = 5000 500`\n",
    "\n",
    "`latentSize = 100` + `hidden_layer_encoder_topology = 10000 2500 500`  --> high memory GPU\n",
    "\n",
    "`latentSize = 100` + `hidden_layer_encoder_topology = 5000 500` --> long training (700 epochs)\n",
    "\n",
    "`latentSize = 200` + `hidden_layer_encoder_topology = 5000 500`\n",
    "\n",
    "`latentSize = 200` + `hidden_layer_encoder_topology = 5000 500` --> long training (700 epochs)\n",
    "\n",
    "\n"
   ]
  },
  {
   "cell_type": "code",
   "execution_count": 23,
   "metadata": {},
   "outputs": [
    {
     "name": "stdout",
     "output_type": "stream",
     "text": [
      "Overwriting submit.sh\n"
     ]
    }
   ],
   "source": [
    "%%writefile submit.sh\n",
    "#!/bin/bash\n",
    "#SBATCH --ntasks=1\n",
    "#SBATCH --mem=14G\n",
    "#SBATCH -p express\n",
    "#SBATCH --gres=gpu:1\n",
    "#SBATCH -t 02:00:00\n",
    "#SBATCH -o out_%j.log\n",
    "#SBATCH -e error_%j.log\n",
    "\n",
    "#Load the modules & venv\n",
    "module purge\n",
    "module load Python/3.9.5-GCCcore-10.3.0\n",
    "source \"/tmp/${SLURM_JOB_USER}.${SLURM_JOB_ID}/prolog.env\"  # this is in tutorial script -- what does it do?\n",
    "source \"/trinity/home/skatz/venv_pytorch/bin/activate\"\n",
    "\n",
    "python train_AE.py --name smoking_chr5/latSize_100_longTrg \\\n",
    "                    --train_file chr5_smoking_train.pkl \\\n",
    "                    --val_file chr5_smoking_val.pkl \\\n",
    "                    --hidden_layer_encoder_topology 5000 500 \\\n",
    "                    --latentSize 100 \\\n",
    "                    --learning_rate 1e-04 \\\n",
    "                    --n_epochs 700 \\\n",
    "                    --patienceEarlyStopping 700"
   ]
  },
  {
   "cell_type": "code",
   "execution_count": 24,
   "metadata": {},
   "outputs": [
    {
     "name": "stdout",
     "output_type": "stream",
     "text": [
      "Submitted batch job 110079\r\n"
     ]
    }
   ],
   "source": [
    "!sbatch submit.sh"
   ]
  },
  {
   "cell_type": "code",
   "execution_count": null,
   "metadata": {},
   "outputs": [],
   "source": []
  }
 ],
 "metadata": {
  "interpreter": {
   "hash": "3992ab943128cc4cf985d7ce129cb55b97cc0536705b4d7d2d01b5a593c32f90"
  },
  "kernelspec": {
   "display_name": "Python 3 (ipykernel)",
   "language": "python",
   "name": "python3"
  },
  "language_info": {
   "codemirror_mode": {
    "name": "ipython",
    "version": 3
   },
   "file_extension": ".py",
   "mimetype": "text/x-python",
   "name": "python",
   "nbconvert_exporter": "python",
   "pygments_lexer": "ipython3",
   "version": "3.9.5"
  }
 },
 "nbformat": 4,
 "nbformat_minor": 2
}
