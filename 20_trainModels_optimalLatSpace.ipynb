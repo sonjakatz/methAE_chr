{
 "cells": [
  {
   "cell_type": "code",
   "execution_count": 1,
   "metadata": {},
   "outputs": [],
   "source": [
    "import pandas as pd\n",
    "import numpy as np\n",
    "import pickle \n",
    "import torch\n",
    "from data.prepareData import prepareDataLoader_fromPkl\n",
    "import matplotlib.pyplot as plt"
   ]
  },
  {
   "cell_type": "markdown",
   "metadata": {},
   "source": [
    "# AE stability?\n",
    "\n",
    "Train same AE 3 times and check final loss value etc. --> is it stable?\n",
    "\n",
    "`n_epochs` = 500  (should be trained properly!)"
   ]
  },
  {
   "cell_type": "code",
   "execution_count": 2,
   "metadata": {},
   "outputs": [
    {
     "name": "stdout",
     "output_type": "stream",
     "text": [
      "normalAE(\n",
      "  (encoder): Sequential(\n",
      "    (0): Linear(in_features=4671, out_features=2000, bias=True)\n",
      "    (1): PReLU(num_parameters=1)\n",
      "    (2): BatchNorm1d(2000, eps=1e-05, momentum=0.1, affine=True, track_running_stats=True)\n",
      "    (3): Linear(in_features=2000, out_features=500, bias=True)\n",
      "    (4): PReLU(num_parameters=1)\n",
      "    (5): BatchNorm1d(500, eps=1e-05, momentum=0.1, affine=True, track_running_stats=True)\n",
      "    (6): Linear(in_features=500, out_features=50, bias=True)\n",
      "    (7): PReLU(num_parameters=1)\n",
      "    (8): BatchNorm1d(50, eps=1e-05, momentum=0.1, affine=True, track_running_stats=True)\n",
      "  )\n",
      "  (decoder): Sequential(\n",
      "    (0): Linear(in_features=50, out_features=500, bias=True)\n",
      "    (1): PReLU(num_parameters=1)\n",
      "    (2): Linear(in_features=500, out_features=2000, bias=True)\n",
      "    (3): PReLU(num_parameters=1)\n",
      "    (4): Linear(in_features=2000, out_features=4671, bias=True)\n",
      "    (5): Sigmoid()\n",
      "  )\n",
      ")\n",
      "\t\tLogging to logs/iter_1/checkpoint\n",
      "cpu\n",
      "Epoch: 1\n",
      "Training Loss: 314767.049\n",
      "Validation Loss: 29376.614\n",
      "Validation loss decreased (inf --> 29376.613525).  Saving model ...\n",
      "Epoch: 2\n",
      "Training Loss: 171855.736\n",
      "Validation Loss: 16083.143\n",
      "Validation loss decreased (29376.613525 --> 16083.143311).  Saving model ...\n",
      "Epoch: 3\n",
      "Training Loss: 89134.698\n",
      "Validation Loss: 8136.992\n",
      "Validation loss decreased (16083.143311 --> 8136.991882).  Saving model ...\n",
      "Epoch: 4\n",
      "Training Loss: 46285.561\n",
      "Validation Loss: 4477.685\n",
      "Validation loss decreased (8136.991882 --> 4477.685364).  Saving model ...\n",
      "Epoch: 5\n",
      "Training Loss: 29322.454\n",
      "Validation Loss: 3645.36\n",
      "Validation loss decreased (4477.685364 --> 3645.359558).  Saving model ...\n",
      "Epoch: 6\n",
      "Training Loss: 22625.358\n",
      "Validation Loss: 3621.425\n",
      "Validation loss decreased (3645.359558 --> 3621.424591).  Saving model ...\n",
      "^C\n",
      "Traceback (most recent call last):\n",
      "  File \"train_AE.py\", line 70, in <module>\n",
      "    main()\n",
      "  File \"train_AE.py\", line 47, in main\n",
      "    train_AE(logName=args.name,\n",
      "  File \"/home/sonja/PROJECTS/VAE_methylation/methAE_chr22/scripts/train_EarlyStopping.py\", line 193, in train_AE\n",
      "    loss.backward()\n",
      "  File \"/home/sonja/anaconda3/lib/python3.8/site-packages/torch/_tensor.py\", line 307, in backward\n",
      "    torch.autograd.backward(self, gradient, retain_graph, create_graph, inputs=inputs)\n",
      "  File \"/home/sonja/anaconda3/lib/python3.8/site-packages/torch/autograd/__init__.py\", line 154, in backward\n",
      "    Variable._execution_engine.run_backward(\n",
      "KeyboardInterrupt\n"
     ]
    }
   ],
   "source": [
    "!python train_AE.py --name iter_1 \\\n",
    "                    --train_file chr22_overlap_train_methyl_array.pkl \\\n",
    "                    --val_file chr22_overlap_val_methyl_array.pkl \\\n",
    "                    --hidden_layer_encoder_topology 2000 500 \\\n",
    "                    --latentSize 50 \\\n",
    "                    --learning_rate 1e-04 \\\n",
    "                    --n_epochs 500 \\\n",
    "                    --patienceEarlyStopping 500"
   ]
  },
  {
   "cell_type": "code",
   "execution_count": null,
   "metadata": {},
   "outputs": [],
   "source": [
    "!python train_AE.py --name iter_2 \\\n",
    "                    --train_file chr22_overlap_train_methyl_array.pkl \\\n",
    "                    --val_file chr22_overlap_val_methyl_array.pkl \\\n",
    "                    --hidden_layer_encoder_topology 2000 500 \\\n",
    "                    --latentSize 50 \\\n",
    "                    --learning_rate 1e-04 \\\n",
    "                    --n_epochs 500 \\\n",
    "                    --patienceEarlyStopping 500"
   ]
  },
  {
   "cell_type": "code",
   "execution_count": null,
   "metadata": {},
   "outputs": [],
   "source": [
    "!python train_AE.py --name iter_3 \\\n",
    "                    --train_file chr22_overlap_train_methyl_array.pkl \\\n",
    "                    --val_file chr22_overlap_val_methyl_array.pkl \\\n",
    "                    --hidden_layer_encoder_topology 2000 500 \\\n",
    "                    --latentSize 50 \\\n",
    "                    --learning_rate 1e-04 \\\n",
    "                    --n_epochs 500 \\\n",
    "                    --patienceEarlyStopping 500"
   ]
  }
 ],
 "metadata": {
  "interpreter": {
   "hash": "3992ab943128cc4cf985d7ce129cb55b97cc0536705b4d7d2d01b5a593c32f90"
  },
  "kernelspec": {
   "display_name": "Python 3.8.5 ('base')",
   "language": "python",
   "name": "python3"
  },
  "language_info": {
   "codemirror_mode": {
    "name": "ipython",
    "version": 3
   },
   "file_extension": ".py",
   "mimetype": "text/x-python",
   "name": "python",
   "nbconvert_exporter": "python",
   "pygments_lexer": "ipython3",
   "version": "3.8.5"
  },
  "orig_nbformat": 4
 },
 "nbformat": 4,
 "nbformat_minor": 2
}
