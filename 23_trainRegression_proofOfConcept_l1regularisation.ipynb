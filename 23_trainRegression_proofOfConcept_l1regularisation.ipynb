{
 "cells": [
  {
   "cell_type": "markdown",
   "metadata": {},
   "source": [
    "# Idea & Plan\n",
    "\n",
    "A few (mostly one) latent feature is always much more important for prediction than the rest (check `feature_importance`) \n",
    "\n",
    "- Are the CpGs connected to this latent feature also important? \n",
    "- Can we recover the CpGs important for prediction through perturbation? --> **PROOF OF CONCEPT THAT PERTURBATIONS WORK?!**\n",
    "\n",
    "**Workflow**:\n",
    "\n",
    "1. Predict with input CpGs: maximum R2?\n",
    "2. Predict with all latent features: maximum R2 + important latent features? \n",
    "3. Predict only with important latent feature --> this is the maximum we can achieve!\n",
    "4. Recover CpGs connected to this latent feature through perturbations (`low` + `medium` + `high` effect)\n",
    "5. Predict AGE with those CpGs --> compare to other results!"
   ]
  },
  {
   "cell_type": "code",
   "execution_count": 1,
   "metadata": {},
   "outputs": [],
   "source": [
    "import pandas as pd\n",
    "import numpy as np\n",
    "import pickle \n",
    "import torch\n",
    "from data.prepareData import prepareDataLoader_fromPkl\n",
    "import seaborn as sns\n",
    "\n",
    "from sklearn.ensemble import RandomForestRegressor\n",
    "import matplotlib.pyplot as plt\n"
   ]
  },
  {
   "cell_type": "code",
   "execution_count": 2,
   "metadata": {},
   "outputs": [],
   "source": [
    "def RFregression(X_train, y_train, X_test, y_test, saveModel=False, plot=True, color=\"orange\", title=None):\n",
    "    ## Remove samples with NA in target\n",
    "    # Train\n",
    "    mask_train = ~np.isnan(y_train)\n",
    "    X_train = X_train[mask_train]\n",
    "    y_train = y_train[mask_train]\n",
    "    # Test\n",
    "    mask_test = ~np.isnan(y_test)\n",
    "    X_test = X_test[mask_test]\n",
    "    y_test = y_test[mask_test]\n",
    "\n",
    "    #print(X_train.shape, X_test.shape, y_train.shape, y_test.shape)\n",
    "\n",
    "    # Train RFregression model\n",
    "    regr = RandomForestRegressor(random_state=None)\n",
    "    regr.fit(X_train, y_train)\n",
    "    featureImportances = regr.feature_importances_\n",
    "\n",
    "    # Score on Test set\n",
    "    y_pred = regr.predict(X_test)\n",
    "    r2 = regr.score(X_test, y_test)\n",
    "\n",
    "    if saveModel:\n",
    "        # save model\n",
    "        outPath = f\"logs/{name}/regression/\"\n",
    "        os.makedirs(outPath, exist_ok=True)\n",
    "        pickle.dump(regr, open(f\"{outPath}/RFregressor.sav\", 'wb'))\n",
    "\n",
    "    if plot:\n",
    "        fig, (ax, ax2) = plt.subplots(1, 2,figsize=(15,5))\n",
    "        ax.scatter(y_test, y_pred, color=color)\n",
    "        ax.plot([0, 1], [0, 1], transform=ax.transAxes, color=\"red\", linestyle=\"dashed\", alpha=0.5)\n",
    "        ax.text(55, 10, f\"R² = {round(r2.mean(),2)}\")\n",
    "        ax.set_xlim(0,100)\n",
    "        ax.set_ylim(0,100)\n",
    "        if title: \n",
    "            ax.set_title(f\"{title}\")\n",
    "        else: \n",
    "            ax.set_title(f\"{X_train.shape[1]} features\")\n",
    "        ax.set_xlabel(\"True Age\")\n",
    "        ax.set_ylabel(\"Predicted Age\")\n",
    "\n",
    "        ax2.bar(x=range(len(featureImportances)), height=featureImportances, color=color)\n",
    "        ax2.set_title(\"Feature importance\")\n",
    "        ax2.set_xlabel(\"# Feature\")\n",
    "\n",
    "    return featureImportances, r2"
   ]
  },
  {
   "cell_type": "markdown",
   "metadata": {},
   "source": [
    "# Load Data"
   ]
  },
  {
   "cell_type": "code",
   "execution_count": 3,
   "metadata": {},
   "outputs": [],
   "source": [
    "PATH_data = \"data\"\n",
    "PATH_results = \"logs\"\n",
    "\n",
    "batch_size = 64\n",
    "with open(os.path.join(PATH_data, \"chr22_overlap_train_methyl_array.pkl\"), \"rb\") as f: train_dataset = pickle.load(f) #\n",
    "train_tensor = prepareDataLoader_fromPkl(f\"{PATH_data}/chr22_overlap_train_methyl_array.pkl\", colName=\"Age\").returnTensor_()\n",
    "\n",
    "with open(os.path.join(PATH_data, \"chr22_overlap_test_methyl_array.pkl\"), \"rb\") as f: test_dataset = pickle.load(f) #\n",
    "test_tensor = torch.tensor(test_dataset[\"beta\"].values, dtype=torch.float32)"
   ]
  },
  {
   "cell_type": "markdown",
   "metadata": {},
   "source": [
    "# Read in AE model (latent features = 25)"
   ]
  },
  {
   "cell_type": "code",
   "execution_count": 4,
   "metadata": {},
   "outputs": [],
   "source": [
    "name = f\"l1_regularisation/latSize_25\" \n",
    "global name\n",
    "model = torch.load(f\"logs/{name}/checkpoint/trainedModel.pth\", map_location=torch.device('cpu'))"
   ]
  },
  {
   "cell_type": "markdown",
   "metadata": {},
   "source": [
    "# From input CpGs "
   ]
  },
  {
   "cell_type": "markdown",
   "metadata": {},
   "source": [
    "## All input CpGs (4671 CpGs)"
   ]
  },
  {
   "cell_type": "code",
   "execution_count": null,
   "metadata": {},
   "outputs": [],
   "source": [
    "fi_all, _ = RFregression(X_train=train_tensor[0].detach().numpy(), \n",
    "                         y_train=train_tensor[1].detach().numpy(),\n",
    "                         X_test=test_dataset[\"beta\"].values,\n",
    "                         y_test=test_dataset[\"pheno\"][\"Age\"].values,\n",
    "                         plot=True,\n",
    "                         color=\"red\")"
   ]
  },
  {
   "cell_type": "markdown",
   "metadata": {},
   "source": [
    "## Top xx input Cpgs\n",
    "\n",
    "- tried Recursive Feature Addition - too slow"
   ]
  },
  {
   "cell_type": "code",
   "execution_count": null,
   "metadata": {},
   "outputs": [],
   "source": [
    "### Test: with xx best CpGs (from input)\n",
    "i_best = 10\n",
    "cpgs_best = pd.DataFrame(fi_all, index=test_dataset[\"beta\"].columns).sort_values(by=0, ascending=False)[:i_best].index\n",
    "\n",
    "## parse only CpGs connected to latent feature \n",
    "X_train_latFeature = train_dataset[\"beta\"].loc[:,cpgs_best]\n",
    "y_train_latFeature = train_dataset[\"pheno\"][\"Age\"].values\n",
    "X_test_latFeature = test_dataset[\"beta\"].loc[:,cpgs_best]\n",
    "y_test_latFeature = test_dataset[\"pheno\"][\"Age\"].values\n",
    "\n",
    "## predict with those CpGs\n",
    "_, r2 = RFregression(X_train=X_train_latFeature, \n",
    "                                y_train=y_train_latFeature,\n",
    "                                X_test=X_test_latFeature,\n",
    "                                y_test=y_test_latFeature,\n",
    "                                plot=True,\n",
    "                                color=\"darkred\")\n",
    "\n",
    "print(cpgs_best)"
   ]
  },
  {
   "cell_type": "code",
   "execution_count": null,
   "metadata": {},
   "outputs": [],
   "source": [
    "### check which number of top features is best\n",
    "\n",
    "r2_tmp = []\n",
    "\n",
    "tmp = list(range(5,501, 5)) #0\n",
    "#tmp[0] += 1\n",
    "\n",
    "for i_best in tmp: \n",
    "    ### Test: with xx best CpGs (from input)\n",
    "    cpgs_best = pd.DataFrame(fi_all, index=test_dataset[\"beta\"].columns).sort_values(by=0, ascending=False)[:i_best].index\n",
    "\n",
    "    ## parse only CpGs connected to latent feature \n",
    "    X_train_latFeature = train_dataset[\"beta\"].loc[:,cpgs_best]\n",
    "    y_train_latFeature = train_dataset[\"pheno\"][\"Age\"].values\n",
    "    X_test_latFeature = test_dataset[\"beta\"].loc[:,cpgs_best]\n",
    "    y_test_latFeature = test_dataset[\"pheno\"][\"Age\"].values\n",
    "\n",
    "    ## predict with those CpGs\n",
    "    _, r2 = RFregression(X_train=X_train_latFeature, \n",
    "                                    y_train=y_train_latFeature,\n",
    "                                    X_test=X_test_latFeature,\n",
    "                                    y_test=y_test_latFeature,\n",
    "                                    plot=False,\n",
    "                                    color=\"darkred\")\n",
    "\n",
    "    r2_tmp.append(r2)\n",
    "\n",
    "\n",
    "fig, ax = plt.subplots(figsize=(8,5))\n",
    "sns.lineplot(x=tmp, y=r2_tmp, color=\"darkred\", marker=\"o\")\n",
    "ax.set_xlabel(\"Number of features\")\n",
    "ax.set_ylabel(\"R2\")\n",
    "ax.set_title(\"Optimal number of CpG features\")"
   ]
  },
  {
   "cell_type": "code",
   "execution_count": null,
   "metadata": {},
   "outputs": [],
   "source": [
    "np.argmax(r2_tmp)\n",
    "tmp[np.argmax(r2_tmp)]"
   ]
  },
  {
   "cell_type": "code",
   "execution_count": null,
   "metadata": {},
   "outputs": [],
   "source": [
    "### Test: with xx best CpGs (from input)\n",
    "i_best = tmp[np.argmax(r2_tmp)]\n",
    "cpgs_best = pd.DataFrame(fi_all, index=test_dataset[\"beta\"].columns).sort_values(by=0, ascending=False)[:i_best].index\n",
    "\n",
    "## parse only CpGs connected to latent feature \n",
    "X_train_latFeature = train_dataset[\"beta\"].loc[:,cpgs_best]\n",
    "y_train_latFeature = train_dataset[\"pheno\"][\"Age\"].values\n",
    "X_test_latFeature = test_dataset[\"beta\"].loc[:,cpgs_best]\n",
    "y_test_latFeature = test_dataset[\"pheno\"][\"Age\"].values\n",
    "\n",
    "## predict with those CpGs\n",
    "_, r2 = RFregression(X_train=X_train_latFeature, \n",
    "                                y_train=y_train_latFeature,\n",
    "                                X_test=X_test_latFeature,\n",
    "                                y_test=y_test_latFeature,\n",
    "                                plot=True,\n",
    "                                color=\"brown\")\n",
    "\n",
    "print(cpgs_best)"
   ]
  },
  {
   "cell_type": "markdown",
   "metadata": {},
   "source": [
    "## Everything except top xx CpGs (e.g. top 100)"
   ]
  },
  {
   "cell_type": "code",
   "execution_count": null,
   "metadata": {},
   "outputs": [],
   "source": [
    "i_best = 100\n",
    "### everything BUT best `i_best` features\n",
    "cpgs_best = pd.DataFrame(fi_all, index=test_dataset[\"beta\"].columns).sort_values(by=0, ascending=False)[i_best:].index\n",
    "\n",
    "\n",
    "## parse only CpGs connected to latent feature \n",
    "X_train_latFeature = train_dataset[\"beta\"].loc[:,cpgs_best]\n",
    "y_train_latFeature = train_dataset[\"pheno\"][\"Age\"].values\n",
    "X_test_latFeature = test_dataset[\"beta\"].loc[:,cpgs_best]\n",
    "y_test_latFeature = test_dataset[\"pheno\"][\"Age\"].values\n",
    "\n",
    "## predict with those CpGs\n",
    "_, r2 = RFregression(X_train=X_train_latFeature, \n",
    "                                y_train=y_train_latFeature,\n",
    "                                X_test=X_test_latFeature,\n",
    "                                y_test=y_test_latFeature,\n",
    "                                plot=True,\n",
    "                                color=\"tomato\")\n",
    "\n",
    "print(cpgs_best.shape)"
   ]
  },
  {
   "cell_type": "markdown",
   "metadata": {},
   "source": [
    "# From all latent space features"
   ]
  },
  {
   "cell_type": "code",
   "execution_count": 14,
   "metadata": {},
   "outputs": [
    {
     "data": {
      "image/png": "[encoded data removed]",
      "text/plain": [
       "<Figure size 1080x360 with 2 Axes>"
      ]
     },
     "metadata": {
      "needs_background": "light"
     },
     "output_type": "display_data"
    }
   ],
   "source": [
    "# Generate latent space\n",
    "with torch.no_grad():\n",
    "    latSpace_train = model.generate_embedding(train_tensor[0])\n",
    "    latSpace_test = model.generate_embedding(test_tensor)  \n",
    "\n",
    "fi, r2 = RFregression(X_train=latSpace_train, \n",
    "                     y_train=train_tensor[1].detach().numpy(),\n",
    "                     X_test=latSpace_test,\n",
    "                     y_test=test_dataset[\"pheno\"][\"Age\"].values,\n",
    "                     plot=True,\n",
    "                     color=\"orange\")\n",
    "\n",
    "df_fi = pd.DataFrame(fi, index=range(latSpace_train.size(1)), columns=[\"fi\"])\n",
    "#df_fi"
   ]
  },
  {
   "cell_type": "markdown",
   "metadata": {},
   "source": [
    "## Pre-experiment: permutation == deletion == perturbation?"
   ]
  },
  {
   "cell_type": "code",
   "execution_count": null,
   "metadata": {},
   "outputs": [],
   "source": [
    "### Pre-experiment: permutation == deletion == perturbation?\n",
    "\n",
    "latFeature_i = [14,15,16]\n",
    "print(f\"Permuted feature: {latFeature_i}\")\n",
    "\n",
    "### PERTURBATION\n",
    "with torch.no_grad():\n",
    "    latSpace_train_pert = model.generate_embedding(train_tensor[0])\n",
    "    latSpace_train_pert[:,latFeature_i] = latSpace_train_pert[:,latFeature_i] + 10 #3*latSpace_train_pert[:,latFeature_i].std()\n",
    "    #\n",
    "    latSpace_test_pert = model.generate_embedding(test_tensor)  \n",
    "    latSpace_test_pert[:,latFeature_i] = latSpace_test_pert[:,latFeature_i] + 10 #3*latSpace_test_pert[:,latFeature_i].std()\n",
    "\n",
    "print(latSpace_train_pert.shape)\n",
    "fi_perm, _ = RFregression(X_train=latSpace_train_pert, \n",
    "                          y_train=train_tensor[1].detach().numpy(),\n",
    "                          X_test=latSpace_test_pert,\n",
    "                          y_test=test_dataset[\"pheno\"][\"Age\"].values,\n",
    "                          plot=True,\n",
    "                          color=\"moccasin\")\n",
    "\n",
    "\n",
    "### PERMUTATION\n",
    "with torch.no_grad():\n",
    "    latSpace_train_perm = model.generate_embedding(train_tensor[0])\n",
    "    latSpace_train_perm[:,latFeature_i] = torch.tensor(np.random.permutation(latSpace_train_perm[:,latFeature_i]))\n",
    "    #\n",
    "    latSpace_test_perm = model.generate_embedding(test_tensor)  \n",
    "    latSpace_test_perm[:,latFeature_i] = torch.tensor(np.random.permutation(latSpace_test_perm[:,latFeature_i]))\n",
    "\n",
    "print(latSpace_train_perm.shape)\n",
    "fi_perm, _ = RFregression(X_train=latSpace_train_perm, \n",
    "                     y_train=train_tensor[1].detach().numpy(),\n",
    "                     X_test=latSpace_test_perm,\n",
    "                     y_test=test_dataset[\"pheno\"][\"Age\"].values,\n",
    "                     plot=True,\n",
    "                     color=\"gold\")\n",
    "\n",
    "### DELETION\n",
    "with torch.no_grad():\n",
    "    latSpace_train_del = model.generate_embedding(train_tensor[0])\n",
    "    latSpace_train_del = np.delete(latSpace_train_del, latFeature_i, axis=1)\n",
    "    #\n",
    "    latSpace_test_del = model.generate_embedding(test_tensor)  \n",
    "    latSpace_test_del = np.delete(latSpace_test_del, latFeature_i, axis=1)\n",
    "\n",
    "print(latSpace_train_del.shape)\n",
    "fi_perm, _ = RFregression(X_train=latSpace_train_del, \n",
    "                     y_train=train_tensor[1].detach().numpy(),\n",
    "                     X_test=latSpace_test_del,\n",
    "                     y_test=test_dataset[\"pheno\"][\"Age\"].values,\n",
    "                     plot=True,\n",
    "                     color=\"goldenrod\")\n"
   ]
  },
  {
   "cell_type": "markdown",
   "metadata": {},
   "source": [
    "## RFE latent features \n",
    "Trying to solve mystery that all features are important?!"
   ]
  },
  {
   "cell_type": "code",
   "execution_count": 15,
   "metadata": {},
   "outputs": [
    {
     "name": "stdout",
     "output_type": "stream",
     "text": [
      "Permuted feature: [12]\n",
      "Permuted feature: [12, 13]\n",
      "Permuted feature: [12, 13, 3]\n",
      "Permuted feature: [12, 13, 3, 23]\n",
      "Permuted feature: [12, 13, 3, 23, 11]\n",
      "Number of permuted features: 5 - [12, 13, 3, 23, 11]\n"
     ]
    },
    {
     "data": {
      "image/png": "[encoded data removed]",
      "text/plain": [
       "<Figure size 1080x360 with 2 Axes>"
      ]
     },
     "metadata": {
      "needs_background": "light"
     },
     "output_type": "display_data"
    },
    {
     "name": "stdout",
     "output_type": "stream",
     "text": [
      "Permuted feature: [12, 13, 3, 23, 11, 2]\n",
      "Permuted feature: [12, 13, 3, 23, 11, 2, 15]\n",
      "Permuted feature: [12, 13, 3, 23, 11, 2, 15, 18]\n",
      "Permuted feature: [12, 13, 3, 23, 11, 2, 15, 18, 22]\n",
      "Permuted feature: [12, 13, 3, 23, 11, 2, 15, 18, 22, 21]\n",
      "Number of permuted features: 10 - [12, 13, 3, 23, 11, 2, 15, 18, 22, 21]\n"
     ]
    },
    {
     "data": {
      "image/png": "[encoded data removed]",
      "text/plain": [
       "<Figure size 1080x360 with 2 Axes>"
      ]
     },
     "metadata": {
      "needs_background": "light"
     },
     "output_type": "display_data"
    },
    {
     "name": "stdout",
     "output_type": "stream",
     "text": [
      "Permuted feature: [12, 13, 3, 23, 11, 2, 15, 18, 22, 21, 5]\n",
      "Permuted feature: [12, 13, 3, 23, 11, 2, 15, 18, 22, 21, 5, 20]\n",
      "Permuted feature: [12, 13, 3, 23, 11, 2, 15, 18, 22, 21, 5, 20, 14]\n",
      "Permuted feature: [12, 13, 3, 23, 11, 2, 15, 18, 22, 21, 5, 20, 14, 19]\n",
      "Permuted feature: [12, 13, 3, 23, 11, 2, 15, 18, 22, 21, 5, 20, 14, 19, 9]\n",
      "Number of permuted features: 15 - [12, 13, 3, 23, 11, 2, 15, 18, 22, 21, 5, 20, 14, 19, 9]\n"
     ]
    },
    {
     "data": {
      "image/png": "[encoded data removed]",
      "text/plain": [
       "<Figure size 1080x360 with 2 Axes>"
      ]
     },
     "metadata": {
      "needs_background": "light"
     },
     "output_type": "display_data"
    },
    {
     "name": "stdout",
     "output_type": "stream",
     "text": [
      "Permuted feature: [12, 13, 3, 23, 11, 2, 15, 18, 22, 21, 5, 20, 14, 19, 9, 10]\n",
      "Permuted feature: [12, 13, 3, 23, 11, 2, 15, 18, 22, 21, 5, 20, 14, 19, 9, 10, 24]\n",
      "Permuted feature: [12, 13, 3, 23, 11, 2, 15, 18, 22, 21, 5, 20, 14, 19, 9, 10, 24, 8]\n",
      "Permuted feature: [12, 13, 3, 23, 11, 2, 15, 18, 22, 21, 5, 20, 14, 19, 9, 10, 24, 8, 1]\n",
      "Permuted feature: [12, 13, 3, 23, 11, 2, 15, 18, 22, 21, 5, 20, 14, 19, 9, 10, 24, 8, 1, 17]\n",
      "Number of permuted features: 20 - [12, 13, 3, 23, 11, 2, 15, 18, 22, 21, 5, 20, 14, 19, 9, 10, 24, 8, 1, 17]\n"
     ]
    },
    {
     "data": {
      "image/png": "[encoded data removed]",
      "text/plain": [
       "<Figure size 1080x360 with 2 Axes>"
      ]
     },
     "metadata": {
      "needs_background": "light"
     },
     "output_type": "display_data"
    },
    {
     "name": "stdout",
     "output_type": "stream",
     "text": [
      "Permuted feature: [12, 13, 3, 23, 11, 2, 15, 18, 22, 21, 5, 20, 14, 19, 9, 10, 24, 8, 1, 17, 16]\n",
      "Permuted feature: [12, 13, 3, 23, 11, 2, 15, 18, 22, 21, 5, 20, 14, 19, 9, 10, 24, 8, 1, 17, 16, 4]\n",
      "Permuted feature: [12, 13, 3, 23, 11, 2, 15, 18, 22, 21, 5, 20, 14, 19, 9, 10, 24, 8, 1, 17, 16, 4, 7]\n",
      "Permuted feature: [12, 13, 3, 23, 11, 2, 15, 18, 22, 21, 5, 20, 14, 19, 9, 10, 24, 8, 1, 17, 16, 4, 7, 6]\n",
      "Permuted feature: [12, 13, 3, 23, 11, 2, 15, 18, 22, 21, 5, 20, 14, 19, 9, 10, 24, 8, 1, 17, 16, 4, 7, 6, 10]\n",
      "Number of permuted features: 25 - [12, 13, 3, 23, 11, 2, 15, 18, 22, 21, 5, 20, 14, 19, 9, 10, 24, 8, 1, 17, 16, 4, 7, 6, 10]\n"
     ]
    },
    {
     "data": {
      "image/png": "[encoded data removed]",
      "text/plain": [
       "<Figure size 1080x360 with 2 Axes>"
      ]
     },
     "metadata": {
      "needs_background": "light"
     },
     "output_type": "display_data"
    }
   ],
   "source": [
    "latFeature_i = [np.argmax(fi)]\n",
    "\n",
    "dic_rfe = dict()\n",
    "for i in range(25):\n",
    "    print(f\"Permuted feature: {latFeature_i}\")\n",
    "    ### PERMUTATION\n",
    "    with torch.no_grad():\n",
    "        latSpace_train_perm = model.generate_embedding(train_tensor[0])\n",
    "        latSpace_train_perm[:,latFeature_i] = torch.tensor(np.random.permutation(latSpace_train_perm[:,latFeature_i]))\n",
    "        #\n",
    "        latSpace_test_perm = model.generate_embedding(test_tensor)  \n",
    "        latSpace_test_perm[:,latFeature_i] = torch.tensor(np.random.permutation(latSpace_test_perm[:,latFeature_i]))\n",
    "\n",
    "    ## plot every 5 features\n",
    "    if len(latFeature_i) % 5 == 0:\n",
    "        print(f\"Number of permuted features: {len(latFeature_i)} - {latFeature_i}\")\n",
    "        fi_perm, r2_perm = RFregression(X_train=latSpace_train_perm, \n",
    "                            y_train=train_tensor[1].detach().numpy(),\n",
    "                            X_test=latSpace_test_perm,\n",
    "                            y_test=test_dataset[\"pheno\"][\"Age\"].values,\n",
    "                            plot=True,\n",
    "                            color=\"dodgerblue\", \n",
    "                            title=f\"Number of permuted features: {len(latFeature_i)}\")   ## make it even nicer by coloring the perturbed ones?!\n",
    "        plt.show()\n",
    "    else:\n",
    "        fi_perm, r2_perm = RFregression(X_train=latSpace_train_perm, \n",
    "                            y_train=train_tensor[1].detach().numpy(),\n",
    "                            X_test=latSpace_test_perm,\n",
    "                            y_test=test_dataset[\"pheno\"][\"Age\"].values,\n",
    "                            plot=False)\n",
    "\n",
    "    dic_rfe[str(latFeature_i)] = r2_perm\n",
    "    latFeature_i.append(np.argmax(fi_perm))\n",
    "    \n",
    "    i += 1\n",
    "\n"
   ]
  },
  {
   "cell_type": "code",
   "execution_count": 16,
   "metadata": {},
   "outputs": [
    {
     "data": {
      "text/plain": [
       "Text(0.5, 1.0, 'Prediction accuracy upon latent feature permutation')"
      ]
     },
     "execution_count": 16,
     "metadata": {},
     "output_type": "execute_result"
    },
    {
     "data": {
      "image/png": "[encoded data removed]",
      "text/plain": [
       "<Figure size 576x360 with 1 Axes>"
      ]
     },
     "metadata": {
      "needs_background": "light"
     },
     "output_type": "display_data"
    }
   ],
   "source": [
    "fig, ax = plt.subplots(figsize=(8,5))\n",
    "sns.lineplot(y=dic_rfe.values(), \n",
    "             x=[len(list(dic_rfe.keys())[i].split(\",\")) for i in range(len(dic_rfe.keys()))],\n",
    "             marker=\"o\",\n",
    "             ax=ax,\n",
    "             color=\"dodgerblue\",\n",
    "             label=\"permuation\")\n",
    "ax.scatter(x=0, y=r2, color=\"dodgerblue\", label=\"no permutation\", marker=\"x\")\n",
    "ax.legend()\n",
    "ax.set_xlabel(\"Number of permutated features\")\n",
    "ax.set_ylabel(\"R2\")\n",
    "ax.set_title(\"Prediction accuracy upon latent feature permutation\")"
   ]
  },
  {
   "cell_type": "code",
   "execution_count": 25,
   "metadata": {},
   "outputs": [
    {
     "data": {
      "text/plain": [
       "{'[12]': 0.7246416464111793,\n",
       " '[12, 13]': 0.7121605927290832,\n",
       " '[12, 13, 3]': 0.7419947865477166,\n",
       " '[12, 13, 3, 23]': 0.7015135569467414,\n",
       " '[12, 13, 3, 23, 11]': 0.6884541826598989,\n",
       " '[12, 13, 3, 23, 11, 2]': 0.7187799892532805,\n",
       " '[12, 13, 3, 23, 11, 2, 15]': 0.688646869454252,\n",
       " '[12, 13, 3, 23, 11, 2, 15, 18]': 0.6124138461239135,\n",
       " '[12, 13, 3, 23, 11, 2, 15, 18, 22]': 0.5476071652465508,\n",
       " '[12, 13, 3, 23, 11, 2, 15, 18, 22, 21]': 0.5057033102299845,\n",
       " '[12, 13, 3, 23, 11, 2, 15, 18, 22, 21, 5]': 0.4781196493982868,\n",
       " '[12, 13, 3, 23, 11, 2, 15, 18, 22, 21, 5, 20]': 0.49080682484220406,\n",
       " '[12, 13, 3, 23, 11, 2, 15, 18, 22, 21, 5, 20, 14]': 0.437725962300645,\n",
       " '[12, 13, 3, 23, 11, 2, 15, 18, 22, 21, 5, 20, 14, 19]': 0.5327106962249144,\n",
       " '[12, 13, 3, 23, 11, 2, 15, 18, 22, 21, 5, 20, 14, 19, 9]': 0.2943762472661102,\n",
       " '[12, 13, 3, 23, 11, 2, 15, 18, 22, 21, 5, 20, 14, 19, 9, 10]': 0.3059423434944579,\n",
       " '[12, 13, 3, 23, 11, 2, 15, 18, 22, 21, 5, 20, 14, 19, 9, 10, 24]': 0.12529571200164802,\n",
       " '[12, 13, 3, 23, 11, 2, 15, 18, 22, 21, 5, 20, 14, 19, 9, 10, 24, 8]': 0.10014852809998243,\n",
       " '[12, 13, 3, 23, 11, 2, 15, 18, 22, 21, 5, 20, 14, 19, 9, 10, 24, 8, 1]': 0.11157625021888284,\n",
       " '[12, 13, 3, 23, 11, 2, 15, 18, 22, 21, 5, 20, 14, 19, 9, 10, 24, 8, 1, 17]': -0.030221703978804193,\n",
       " '[12, 13, 3, 23, 11, 2, 15, 18, 22, 21, 5, 20, 14, 19, 9, 10, 24, 8, 1, 17, 16]': 0.06454182187226398,\n",
       " '[12, 13, 3, 23, 11, 2, 15, 18, 22, 21, 5, 20, 14, 19, 9, 10, 24, 8, 1, 17, 16, 4]': 0.05729094259832579,\n",
       " '[12, 13, 3, 23, 11, 2, 15, 18, 22, 21, 5, 20, 14, 19, 9, 10, 24, 8, 1, 17, 16, 4, 7]': -0.03894574241062987,\n",
       " '[12, 13, 3, 23, 11, 2, 15, 18, 22, 21, 5, 20, 14, 19, 9, 10, 24, 8, 1, 17, 16, 4, 7, 6]': -0.17963214412506945,\n",
       " '[12, 13, 3, 23, 11, 2, 15, 18, 22, 21, 5, 20, 14, 19, 9, 10, 24, 8, 1, 17, 16, 4, 7, 6, 10]': -0.06542247910455434}"
      ]
     },
     "execution_count": 25,
     "metadata": {},
     "output_type": "execute_result"
    }
   ],
   "source": [
    "dic_rfe\n"
   ]
  },
  {
   "cell_type": "markdown",
   "metadata": {},
   "source": [
    "# Predict with individual (best) latent features"
   ]
  },
  {
   "cell_type": "code",
   "execution_count": 91,
   "metadata": {},
   "outputs": [
    {
     "name": "stdout",
     "output_type": "stream",
     "text": [
      "Latent space feature with highest importance: 0\n"
     ]
    },
    {
     "data": {
      "image/png": "[encoded data removed]",
      "text/plain": [
       "<Figure size 1080x360 with 2 Axes>"
      ]
     },
     "metadata": {
      "needs_background": "light"
     },
     "output_type": "display_data"
    }
   ],
   "source": [
    "# Generate latent space\n",
    "\n",
    "i = 0 #np.argmax(fi)\n",
    "\n",
    "with torch.no_grad():\n",
    "    latSpace_train = model.generate_embedding(train_tensor[0])\n",
    "    latSpace_test = model.generate_embedding(test_tensor)  \n",
    "\n",
    "print(f\"Latent space feature with highest importance: {i}\")\n",
    "latSpace_train_highest = latSpace_train[:,i].reshape(-1, 1)\n",
    "latSpace_test_highest = latSpace_test[:,i].reshape(-1, 1)    \n",
    "\n",
    "_, _ = RFregression(X_train=latSpace_train_highest, \n",
    "                     y_train=train_tensor[1].detach().numpy(),\n",
    "                     X_test=latSpace_test_highest,\n",
    "                     y_test=test_dataset[\"pheno\"][\"Age\"].values,\n",
    "                     plot=True,\n",
    "                     color=\"green\")"
   ]
  },
  {
   "cell_type": "markdown",
   "metadata": {},
   "source": [
    "# CpG connections"
   ]
  },
  {
   "cell_type": "markdown",
   "metadata": {},
   "source": [
    "## Connection of input CpGs with highest importance\n",
    "\n",
    "- connected to many latent features? --> **YES**"
   ]
  },
  {
   "cell_type": "code",
   "execution_count": 21,
   "metadata": {},
   "outputs": [
    {
     "ename": "FileNotFoundError",
     "evalue": "[Errno 2] No such file or directory: '/home/sonja/PROJECTS/VAE_methylation/perturbations/results/l1_regularisation/latSize_25/quantileCutoff_CpGfocus.csv'",
     "output_type": "error",
     "traceback": [
      "\u001b[0;31m---------------------------------------------------------------------------\u001b[0m",
      "\u001b[0;31mFileNotFoundError\u001b[0m                         Traceback (most recent call last)",
      "\u001b[1;32m/home/sonja/PROJECTS/VAE_methylation/methAE_chr/23_trainRegression_proofOfConcept.ipynb Cell 30'\u001b[0m in \u001b[0;36m<cell line: 2>\u001b[0;34m()\u001b[0m\n\u001b[1;32m      <a href='vscode-notebook-cell:/home/sonja/PROJECTS/VAE_methylation/methAE_chr/23_trainRegression_proofOfConcept.ipynb#ch0000029?line=0'>1</a>\u001b[0m PATH_allcpgs \u001b[39m=\u001b[39m \u001b[39m\"\u001b[39m\u001b[39m/home/sonja/PROJECTS/VAE_methylation/perturbations/results/l1_regularisation/latSize_25/quantileCutoff_CpGfocus.csv\u001b[39m\u001b[39m\"\u001b[39m\n\u001b[0;32m----> <a href='vscode-notebook-cell:/home/sonja/PROJECTS/VAE_methylation/methAE_chr/23_trainRegression_proofOfConcept.ipynb#ch0000029?line=1'>2</a>\u001b[0m connections_allcpgs \u001b[39m=\u001b[39m pd\u001b[39m.\u001b[39;49mread_csv(PATH_allcpgs, header\u001b[39m=\u001b[39;49m\u001b[39m0\u001b[39;49m, index_col\u001b[39m=\u001b[39;49m\u001b[39m0\u001b[39;49m)\n",
      "File \u001b[0;32m~/anaconda3/lib/python3.8/site-packages/pandas/util/_decorators.py:311\u001b[0m, in \u001b[0;36mdeprecate_nonkeyword_arguments.<locals>.decorate.<locals>.wrapper\u001b[0;34m(*args, **kwargs)\u001b[0m\n\u001b[1;32m    305\u001b[0m \u001b[39mif\u001b[39;00m \u001b[39mlen\u001b[39m(args) \u001b[39m>\u001b[39m num_allow_args:\n\u001b[1;32m    306\u001b[0m     warnings\u001b[39m.\u001b[39mwarn(\n\u001b[1;32m    307\u001b[0m         msg\u001b[39m.\u001b[39mformat(arguments\u001b[39m=\u001b[39marguments),\n\u001b[1;32m    308\u001b[0m         \u001b[39mFutureWarning\u001b[39;00m,\n\u001b[1;32m    309\u001b[0m         stacklevel\u001b[39m=\u001b[39mstacklevel,\n\u001b[1;32m    310\u001b[0m     )\n\u001b[0;32m--> 311\u001b[0m \u001b[39mreturn\u001b[39;00m func(\u001b[39m*\u001b[39;49margs, \u001b[39m*\u001b[39;49m\u001b[39m*\u001b[39;49mkwargs)\n",
      "File \u001b[0;32m~/anaconda3/lib/python3.8/site-packages/pandas/io/parsers/readers.py:680\u001b[0m, in \u001b[0;36mread_csv\u001b[0;34m(filepath_or_buffer, sep, delimiter, header, names, index_col, usecols, squeeze, prefix, mangle_dupe_cols, dtype, engine, converters, true_values, false_values, skipinitialspace, skiprows, skipfooter, nrows, na_values, keep_default_na, na_filter, verbose, skip_blank_lines, parse_dates, infer_datetime_format, keep_date_col, date_parser, dayfirst, cache_dates, iterator, chunksize, compression, thousands, decimal, lineterminator, quotechar, quoting, doublequote, escapechar, comment, encoding, encoding_errors, dialect, error_bad_lines, warn_bad_lines, on_bad_lines, delim_whitespace, low_memory, memory_map, float_precision, storage_options)\u001b[0m\n\u001b[1;32m    665\u001b[0m kwds_defaults \u001b[39m=\u001b[39m _refine_defaults_read(\n\u001b[1;32m    666\u001b[0m     dialect,\n\u001b[1;32m    667\u001b[0m     delimiter,\n\u001b[0;32m   (...)\u001b[0m\n\u001b[1;32m    676\u001b[0m     defaults\u001b[39m=\u001b[39m{\u001b[39m\"\u001b[39m\u001b[39mdelimiter\u001b[39m\u001b[39m\"\u001b[39m: \u001b[39m\"\u001b[39m\u001b[39m,\u001b[39m\u001b[39m\"\u001b[39m},\n\u001b[1;32m    677\u001b[0m )\n\u001b[1;32m    678\u001b[0m kwds\u001b[39m.\u001b[39mupdate(kwds_defaults)\n\u001b[0;32m--> 680\u001b[0m \u001b[39mreturn\u001b[39;00m _read(filepath_or_buffer, kwds)\n",
      "File \u001b[0;32m~/anaconda3/lib/python3.8/site-packages/pandas/io/parsers/readers.py:575\u001b[0m, in \u001b[0;36m_read\u001b[0;34m(filepath_or_buffer, kwds)\u001b[0m\n\u001b[1;32m    572\u001b[0m _validate_names(kwds\u001b[39m.\u001b[39mget(\u001b[39m\"\u001b[39m\u001b[39mnames\u001b[39m\u001b[39m\"\u001b[39m, \u001b[39mNone\u001b[39;00m))\n\u001b[1;32m    574\u001b[0m \u001b[39m# Create the parser.\u001b[39;00m\n\u001b[0;32m--> 575\u001b[0m parser \u001b[39m=\u001b[39m TextFileReader(filepath_or_buffer, \u001b[39m*\u001b[39;49m\u001b[39m*\u001b[39;49mkwds)\n\u001b[1;32m    577\u001b[0m \u001b[39mif\u001b[39;00m chunksize \u001b[39mor\u001b[39;00m iterator:\n\u001b[1;32m    578\u001b[0m     \u001b[39mreturn\u001b[39;00m parser\n",
      "File \u001b[0;32m~/anaconda3/lib/python3.8/site-packages/pandas/io/parsers/readers.py:933\u001b[0m, in \u001b[0;36mTextFileReader.__init__\u001b[0;34m(self, f, engine, **kwds)\u001b[0m\n\u001b[1;32m    930\u001b[0m     \u001b[39mself\u001b[39m\u001b[39m.\u001b[39moptions[\u001b[39m\"\u001b[39m\u001b[39mhas_index_names\u001b[39m\u001b[39m\"\u001b[39m] \u001b[39m=\u001b[39m kwds[\u001b[39m\"\u001b[39m\u001b[39mhas_index_names\u001b[39m\u001b[39m\"\u001b[39m]\n\u001b[1;32m    932\u001b[0m \u001b[39mself\u001b[39m\u001b[39m.\u001b[39mhandles: IOHandles \u001b[39m|\u001b[39m \u001b[39mNone\u001b[39;00m \u001b[39m=\u001b[39m \u001b[39mNone\u001b[39;00m\n\u001b[0;32m--> 933\u001b[0m \u001b[39mself\u001b[39m\u001b[39m.\u001b[39m_engine \u001b[39m=\u001b[39m \u001b[39mself\u001b[39;49m\u001b[39m.\u001b[39;49m_make_engine(f, \u001b[39mself\u001b[39;49m\u001b[39m.\u001b[39;49mengine)\n",
      "File \u001b[0;32m~/anaconda3/lib/python3.8/site-packages/pandas/io/parsers/readers.py:1217\u001b[0m, in \u001b[0;36mTextFileReader._make_engine\u001b[0;34m(self, f, engine)\u001b[0m\n\u001b[1;32m   1213\u001b[0m     mode \u001b[39m=\u001b[39m \u001b[39m\"\u001b[39m\u001b[39mrb\u001b[39m\u001b[39m\"\u001b[39m\n\u001b[1;32m   1214\u001b[0m \u001b[39m# error: No overload variant of \"get_handle\" matches argument types\u001b[39;00m\n\u001b[1;32m   1215\u001b[0m \u001b[39m# \"Union[str, PathLike[str], ReadCsvBuffer[bytes], ReadCsvBuffer[str]]\"\u001b[39;00m\n\u001b[1;32m   1216\u001b[0m \u001b[39m# , \"str\", \"bool\", \"Any\", \"Any\", \"Any\", \"Any\", \"Any\"\u001b[39;00m\n\u001b[0;32m-> 1217\u001b[0m \u001b[39mself\u001b[39m\u001b[39m.\u001b[39mhandles \u001b[39m=\u001b[39m get_handle(  \u001b[39m# type: ignore[call-overload]\u001b[39;49;00m\n\u001b[1;32m   1218\u001b[0m     f,\n\u001b[1;32m   1219\u001b[0m     mode,\n\u001b[1;32m   1220\u001b[0m     encoding\u001b[39m=\u001b[39;49m\u001b[39mself\u001b[39;49m\u001b[39m.\u001b[39;49moptions\u001b[39m.\u001b[39;49mget(\u001b[39m\"\u001b[39;49m\u001b[39mencoding\u001b[39;49m\u001b[39m\"\u001b[39;49m, \u001b[39mNone\u001b[39;49;00m),\n\u001b[1;32m   1221\u001b[0m     compression\u001b[39m=\u001b[39;49m\u001b[39mself\u001b[39;49m\u001b[39m.\u001b[39;49moptions\u001b[39m.\u001b[39;49mget(\u001b[39m\"\u001b[39;49m\u001b[39mcompression\u001b[39;49m\u001b[39m\"\u001b[39;49m, \u001b[39mNone\u001b[39;49;00m),\n\u001b[1;32m   1222\u001b[0m     memory_map\u001b[39m=\u001b[39;49m\u001b[39mself\u001b[39;49m\u001b[39m.\u001b[39;49moptions\u001b[39m.\u001b[39;49mget(\u001b[39m\"\u001b[39;49m\u001b[39mmemory_map\u001b[39;49m\u001b[39m\"\u001b[39;49m, \u001b[39mFalse\u001b[39;49;00m),\n\u001b[1;32m   1223\u001b[0m     is_text\u001b[39m=\u001b[39;49mis_text,\n\u001b[1;32m   1224\u001b[0m     errors\u001b[39m=\u001b[39;49m\u001b[39mself\u001b[39;49m\u001b[39m.\u001b[39;49moptions\u001b[39m.\u001b[39;49mget(\u001b[39m\"\u001b[39;49m\u001b[39mencoding_errors\u001b[39;49m\u001b[39m\"\u001b[39;49m, \u001b[39m\"\u001b[39;49m\u001b[39mstrict\u001b[39;49m\u001b[39m\"\u001b[39;49m),\n\u001b[1;32m   1225\u001b[0m     storage_options\u001b[39m=\u001b[39;49m\u001b[39mself\u001b[39;49m\u001b[39m.\u001b[39;49moptions\u001b[39m.\u001b[39;49mget(\u001b[39m\"\u001b[39;49m\u001b[39mstorage_options\u001b[39;49m\u001b[39m\"\u001b[39;49m, \u001b[39mNone\u001b[39;49;00m),\n\u001b[1;32m   1226\u001b[0m )\n\u001b[1;32m   1227\u001b[0m \u001b[39massert\u001b[39;00m \u001b[39mself\u001b[39m\u001b[39m.\u001b[39mhandles \u001b[39mis\u001b[39;00m \u001b[39mnot\u001b[39;00m \u001b[39mNone\u001b[39;00m\n\u001b[1;32m   1228\u001b[0m f \u001b[39m=\u001b[39m \u001b[39mself\u001b[39m\u001b[39m.\u001b[39mhandles\u001b[39m.\u001b[39mhandle\n",
      "File \u001b[0;32m~/anaconda3/lib/python3.8/site-packages/pandas/io/common.py:789\u001b[0m, in \u001b[0;36mget_handle\u001b[0;34m(path_or_buf, mode, encoding, compression, memory_map, is_text, errors, storage_options)\u001b[0m\n\u001b[1;32m    784\u001b[0m \u001b[39melif\u001b[39;00m \u001b[39misinstance\u001b[39m(handle, \u001b[39mstr\u001b[39m):\n\u001b[1;32m    785\u001b[0m     \u001b[39m# Check whether the filename is to be opened in binary mode.\u001b[39;00m\n\u001b[1;32m    786\u001b[0m     \u001b[39m# Binary mode does not support 'encoding' and 'newline'.\u001b[39;00m\n\u001b[1;32m    787\u001b[0m     \u001b[39mif\u001b[39;00m ioargs\u001b[39m.\u001b[39mencoding \u001b[39mand\u001b[39;00m \u001b[39m\"\u001b[39m\u001b[39mb\u001b[39m\u001b[39m\"\u001b[39m \u001b[39mnot\u001b[39;00m \u001b[39min\u001b[39;00m ioargs\u001b[39m.\u001b[39mmode:\n\u001b[1;32m    788\u001b[0m         \u001b[39m# Encoding\u001b[39;00m\n\u001b[0;32m--> 789\u001b[0m         handle \u001b[39m=\u001b[39m \u001b[39mopen\u001b[39;49m(\n\u001b[1;32m    790\u001b[0m             handle,\n\u001b[1;32m    791\u001b[0m             ioargs\u001b[39m.\u001b[39;49mmode,\n\u001b[1;32m    792\u001b[0m             encoding\u001b[39m=\u001b[39;49mioargs\u001b[39m.\u001b[39;49mencoding,\n\u001b[1;32m    793\u001b[0m             errors\u001b[39m=\u001b[39;49merrors,\n\u001b[1;32m    794\u001b[0m             newline\u001b[39m=\u001b[39;49m\u001b[39m\"\u001b[39;49m\u001b[39m\"\u001b[39;49m,\n\u001b[1;32m    795\u001b[0m         )\n\u001b[1;32m    796\u001b[0m     \u001b[39melse\u001b[39;00m:\n\u001b[1;32m    797\u001b[0m         \u001b[39m# Binary mode\u001b[39;00m\n\u001b[1;32m    798\u001b[0m         handle \u001b[39m=\u001b[39m \u001b[39mopen\u001b[39m(handle, ioargs\u001b[39m.\u001b[39mmode)\n",
      "\u001b[0;31mFileNotFoundError\u001b[0m: [Errno 2] No such file or directory: '/home/sonja/PROJECTS/VAE_methylation/perturbations/results/l1_regularisation/latSize_25/quantileCutoff_CpGfocus.csv'"
     ]
    }
   ],
   "source": [
    "PATH_allcpgs = \"/home/sonja/PROJECTS/VAE_methylation/perturbations/results/l1_regularisation/latSize_25/quantileCutoff_CpGfocus.csv\"\n",
    "connections_allcpgs = pd.read_csv(PATH_allcpgs, header=0, index_col=0)"
   ]
  },
  {
   "cell_type": "code",
   "execution_count": null,
   "metadata": {},
   "outputs": [],
   "source": [
    "connections_allcpgs"
   ]
  },
  {
   "cell_type": "code",
   "execution_count": null,
   "metadata": {},
   "outputs": [],
   "source": [
    "i_best = 50 #4671\n",
    "best_cpgs = pd.DataFrame(fi_all, index=test_dataset[\"beta\"].columns).sort_values(by=0, ascending=False)[:i_best].index\n",
    "#print(best_cpgs)\n",
    "\n",
    "### DENSITY\n",
    "fig, (ax, ax2) = plt.subplots(1,2,figsize=(16,6))\n",
    "## all CpGs\n",
    "sns.kdeplot(data=connections_allcpgs.sum(axis=0), label=\"all CpGs\", ax=ax)\n",
    "## best CpGs\n",
    "sns.kdeplot(data=connections_allcpgs.loc[:,best_cpgs].sum(axis=0), label=\"most important CpGs\", ax=ax)\n",
    "## same number of randomly drawn CpGs\n",
    "sns.kdeplot(data=connections_allcpgs.iloc[:,np.random.randint(len(connections_allcpgs.columns), size=i_best)].sum(axis=0), label=\"random CpGs\", ax=ax)\n",
    "ax.legend()\n",
    "ax.set_title(\"Connectedness of important CpGs \\n(per CpG)\")\n",
    "\n",
    "### PER LATENT FEATURE\n",
    "sns.barplot(y=connections_allcpgs.loc[:,best_cpgs].sum(axis=1), \n",
    "            x=connections_allcpgs.index, \n",
    "            ax=ax2)\n",
    "ax2.set_xticklabels(connections_allcpgs.index,rotation=90)\n",
    "ax2.set_ylabel(\"Sum of Connectedness of all CpGs\")\n",
    "ax2.set_title(\"Connectedness of important CpGs \\n(per latent feature)\")\n",
    "plt.suptitle(f\"Top {i_best} CpGs\", fontsize=20, fontweight =\"bold\", y=1.05)\n",
    "plt.show()\n",
    "\n",
    "print(\"Order of latent feature permutations:\")\n",
    "print(list(dic_rfe.keys())[-1])"
   ]
  },
  {
   "cell_type": "markdown",
   "metadata": {},
   "source": [
    "## Retrieve CpG connections for all features\n",
    "\n",
    "- retrieve CpGs (high effect of perturbation?) for each latent feature\n",
    "- replicate old findings "
   ]
  },
  {
   "cell_type": "markdown",
   "metadata": {},
   "source": [
    "## For all features"
   ]
  },
  {
   "cell_type": "code",
   "execution_count": 27,
   "metadata": {},
   "outputs": [
    {
     "name": "stdout",
     "output_type": "stream",
     "text": [
      "Latent space feature: 0\n",
      "Number of CpGs connected: 87\n",
      "0.491575094185441\n",
      "Latent space feature: 1\n",
      "Number of CpGs connected: 96\n",
      "0.7162652396037792\n",
      "Latent space feature: 2\n",
      "Number of CpGs connected: 77\n",
      "0.6268107189658428\n",
      "Latent space feature: 3\n",
      "Number of CpGs connected: 74\n",
      "0.7328087220559539\n",
      "Latent space feature: 4\n",
      "Number of CpGs connected: 95\n",
      "0.6255451070609038\n",
      "Latent space feature: 5\n",
      "Number of CpGs connected: 88\n",
      "0.6318851089607499\n",
      "Latent space feature: 6\n",
      "Number of CpGs connected: 75\n",
      "0.658153277154351\n",
      "Latent space feature: 7\n",
      "Number of CpGs connected: 54\n",
      "0.4337463887703076\n",
      "Latent space feature: 8\n",
      "Number of CpGs connected: 69\n",
      "0.5110750010472043\n",
      "Latent space feature: 9\n",
      "Number of CpGs connected: 27\n",
      "0.31273108214545275\n",
      "Latent space feature: 10\n",
      "Number of CpGs connected: 63\n",
      "0.6751001850518739\n",
      "Latent space feature: 11\n",
      "Number of CpGs connected: 54\n",
      "0.5824508622096585\n",
      "Latent space feature: 12\n",
      "Number of CpGs connected: 118\n",
      "0.7776707575693416\n",
      "Latent space feature: 13\n",
      "Number of CpGs connected: 90\n",
      "0.6642496379076515\n",
      "Latent space feature: 14\n",
      "Number of CpGs connected: 46\n",
      "0.6353962589055284\n",
      "Latent space feature: 15\n",
      "Number of CpGs connected: 88\n",
      "0.7482043175489697\n",
      "Latent space feature: 16\n",
      "Number of CpGs connected: 96\n",
      "0.5861363999633765\n",
      "Latent space feature: 17\n",
      "Number of CpGs connected: 80\n",
      "0.5876048882238156\n",
      "Latent space feature: 18\n",
      "Number of CpGs connected: 96\n",
      "0.7931373952194838\n",
      "Latent space feature: 19\n",
      "Number of CpGs connected: 24\n",
      "0.17671672350945067\n",
      "Latent space feature: 20\n",
      "Number of CpGs connected: 54\n",
      "0.5517139560860882\n",
      "Latent space feature: 21\n",
      "Number of CpGs connected: 75\n",
      "0.6909867173978976\n",
      "Latent space feature: 22\n",
      "Number of CpGs connected: 40\n",
      "0.7192886228176091\n",
      "Latent space feature: 23\n",
      "Number of CpGs connected: 43\n",
      "0.6864817661014816\n",
      "Latent space feature: 24\n",
      "Number of CpGs connected: 51\n",
      "0.6134219924006157\n",
      "[0.491575094185441, 0.7162652396037792, 0.6268107189658428, 0.7328087220559539, 0.6255451070609038, 0.6318851089607499, 0.658153277154351, 0.4337463887703076, 0.5110750010472043, 0.31273108214545275, 0.6751001850518739, 0.5824508622096585, 0.7776707575693416, 0.6642496379076515, 0.6353962589055284, 0.7482043175489697, 0.5861363999633765, 0.5876048882238156, 0.7931373952194838, 0.17671672350945067, 0.5517139560860882, 0.6909867173978976, 0.7192886228176091, 0.6864817661014816, 0.6134219924006157]\n"
     ]
    }
   ],
   "source": [
    "### Test: with CpGs from another (unimportant) latent feature\n",
    "\n",
    "all_r2 = []\n",
    "all_fi = []\n",
    "dic = dict()\n",
    "for latFeature_i in range(25): #25\n",
    "\n",
    "    print(f\"Latent space feature: {latFeature_i}\")\n",
    "    PATH_pert= f\"/home/sonja/PROJECTS/VAE_methylation/perturbations/results/l1_regularisation/latSize_25/latFeature_{latFeature_i}\"\n",
    "\n",
    "    cpgs = pd.read_csv(f\"{PATH_pert}/cpgs_high.txt\", header=None) #cpgs_high_medium_low.txt\n",
    "    print(f\"Number of CpGs connected: {cpgs.shape[0]}\")\n",
    "\n",
    "    ## parse only CpGs connected to latent feature \n",
    "    X_train_latFeature = train_dataset[\"beta\"].loc[:,cpgs[0]]\n",
    "    y_train_latFeature = train_dataset[\"pheno\"][\"Age\"].values\n",
    "\n",
    "    X_test_latFeature = test_dataset[\"beta\"].loc[:,cpgs[0]]\n",
    "    y_test_latFeature = test_dataset[\"pheno\"][\"Age\"].values\n",
    "\n",
    "    ## predict with those CpGs\n",
    "    fi_tmp, r2 = RFregression(X_train=X_train_latFeature, \n",
    "                                    y_train=y_train_latFeature,\n",
    "                                    X_test=X_test_latFeature,\n",
    "                                    y_test=y_test_latFeature,\n",
    "                                    plot=False)\n",
    "                                    #color=\"lightblue\")\n",
    "    print(r2)\n",
    "\n",
    "    all_fi.append(fi_tmp)\n",
    "    all_r2.append(r2)\n",
    "    dic[latFeature_i] = cpgs[0].tolist()\n",
    "\n",
    "print(all_r2)"
   ]
  },
  {
   "cell_type": "code",
   "execution_count": 82,
   "metadata": {},
   "outputs": [
    {
     "data": {
      "text/plain": [
       "[0.491575094185441,\n",
       " 0.7162652396037792,\n",
       " 0.6268107189658428,\n",
       " 0.7328087220559539,\n",
       " 0.6255451070609038,\n",
       " 0.6318851089607499,\n",
       " 0.658153277154351,\n",
       " 0.4337463887703076,\n",
       " 0.5110750010472043,\n",
       " 0.31273108214545275,\n",
       " 0.6751001850518739,\n",
       " 0.5824508622096585,\n",
       " 0.7776707575693416,\n",
       " 0.6642496379076515,\n",
       " 0.6353962589055284,\n",
       " 0.7482043175489697,\n",
       " 0.5861363999633765,\n",
       " 0.5876048882238156,\n",
       " 0.7931373952194838,\n",
       " 0.17671672350945067,\n",
       " 0.5517139560860882,\n",
       " 0.6909867173978976,\n",
       " 0.7192886228176091,\n",
       " 0.6864817661014816,\n",
       " 0.6134219924006157]"
      ]
     },
     "execution_count": 82,
     "metadata": {},
     "output_type": "execute_result"
    }
   ],
   "source": [
    "all_r2"
   ]
  },
  {
   "cell_type": "code",
   "execution_count": 53,
   "metadata": {},
   "outputs": [
    {
     "data": {
      "text/plain": [
       "Text(0.5, 1.0, 'Prediction with CpGs (high effect) for each latent feature')"
      ]
     },
     "execution_count": 53,
     "metadata": {},
     "output_type": "execute_result"
    },
    {
     "data": {
      "image/png": "[encoded data removed]",
      "text/plain": [
       "<Figure size 576x360 with 1 Axes>"
      ]
     },
     "metadata": {
      "needs_background": "light"
     },
     "output_type": "display_data"
    }
   ],
   "source": [
    "### TROUBLE PLOT\n",
    "\n",
    "fig, ax = plt.subplots(figsize=(8,5))\n",
    "sns.barplot(x=list(range(len(all_r2))), y=all_r2, ax=ax)\n",
    "ax.set_xlabel('Number of latent feature')\n",
    "ax.set_ylabel('R2')\n",
    "ax.set_title('Prediction with CpGs (high effect) for each latent feature')\n",
    "#ax.set_ylim(0.6, 0.8)"
   ]
  },
  {
   "cell_type": "markdown",
   "metadata": {},
   "source": [
    "### Analyse in more detail why retrieved latent feature CpGs perform so similar\n",
    "\n",
    "There should be a difference in mapped CpGs -- therefore also a difference in prediction performance...\n",
    "--> we don't see this!\n",
    "\n",
    "- we see that important CpGs have high connectivity and are mapped together in features (resulting in a high degree of connectedness for the features)\n",
    "- if latent feature inspected alone: diluted and unclear picture -- perturbation deliver too broad results?!"
   ]
  },
  {
   "cell_type": "code",
   "execution_count": null,
   "metadata": {},
   "outputs": [],
   "source": [
    "# def runRFR(cpglist, title, c):\n",
    "#     ## parse only CpGs connected to latent feature \n",
    "#     X_train_latFeature = train_dataset[\"beta\"].loc[:,cpglist]\n",
    "#     y_train_latFeature = train_dataset[\"pheno\"][\"Age\"].values\n",
    "#     X_test_latFeature = test_dataset[\"beta\"].loc[:,cpglist]\n",
    "#     y_test_latFeature = test_dataset[\"pheno\"][\"Age\"].values\n",
    "\n",
    "#     ## predict with those CpGs\n",
    "#     fi, r2 = RFregression(X_train=X_train_latFeature, \n",
    "#                                     y_train=y_train_latFeature,\n",
    "#                                     X_test=X_test_latFeature,\n",
    "#                                     y_test=y_test_latFeature,\n",
    "#                                     plot=True,\n",
    "#                                     color=c,\n",
    "#                                     title=title)\n",
    "#     plt.show()"
   ]
  },
  {
   "cell_type": "code",
   "execution_count": 32,
   "metadata": {},
   "outputs": [],
   "source": [
    "## load feature importances of all CpGs\n",
    "df_fi = pd.DataFrame(fi_all, index=test_dataset[\"beta\"].columns).sort_values(by=0, ascending=False)\n",
    "df_fi['idx'] = range(df_fi.shape[0])"
   ]
  },
  {
   "cell_type": "code",
   "execution_count": 40,
   "metadata": {},
   "outputs": [
    {
     "name": "stdout",
     "output_type": "stream",
     "text": [
      "['cg03308092', 'cg05519582', 'cg27166177', 'cg17662493', 'cg13896476', 'cg10874317', 'cg02940070', 'cg16122736']\n",
      "                   0   idx\n",
      "cg03308092  0.000080   586\n",
      "cg05519582  0.000006  2762\n",
      "cg27166177  0.015169     8\n",
      "cg17662493  0.000034  1215\n",
      "cg13896476  0.000032  1254\n",
      "cg10874317  0.000003  3286\n",
      "cg02940070  0.000001  3742\n",
      "cg16122736  0.000066   712\n",
      "['cg07127410', 'cg05450667', 'cg16210088', 'cg01808030', 'cg15425811', 'cg17662493', 'cg13896476', 'cg11247378', 'cg20548231', 'cg02940070', 'cg00147172', 'cg01234420']\n",
      "                       0   idx\n",
      "cg07127410  1.544132e-02     7\n",
      "cg05450667  9.905114e-05   474\n",
      "cg16210088  1.003610e-07  4468\n",
      "cg01808030  1.444410e-06  3643\n",
      "cg15425811  1.923615e-06  3481\n",
      "cg17662493  3.398607e-05  1215\n",
      "cg13896476  3.226065e-05  1254\n",
      "cg11247378  2.100953e-04   196\n",
      "cg20548231  2.139741e-05  1594\n",
      "cg02940070  1.249695e-06  3742\n",
      "cg00147172  1.057924e-04   434\n",
      "cg01234420  6.239361e-02     1\n",
      "['cg15242686', 'cg11141652', 'cg04234412', 'cg14112997', 'cg27376941', 'cg11224765', 'cg05338731']\n",
      "                       0   idx\n",
      "cg15242686  5.975126e-06  2695\n",
      "cg11141652  1.031041e-05  2225\n",
      "cg04234412  9.768732e-07  3850\n",
      "cg14112997  1.715315e-06  3543\n",
      "cg27376941  2.649596e-05  1428\n",
      "cg11224765  8.077418e-05   582\n",
      "cg05338731  1.187054e-05  2105\n"
     ]
    }
   ],
   "source": [
    "### CpGs overlapping between features\n",
    "\n",
    "#[12, 13, 3, 23, 11, 2, 15, 18, 22, 21, 5, 20, 14, 19, 9, 10, 24, 8, 1, 17, 16, 4, 7, 6, 10]\n",
    "\n",
    "cpgs_0 = dic[10]   ### This feature is very very unimportant for prediction - should have worthless CpGs connected to it \n",
    "cpgs_15 = dic[12]   ### This feature is important for prediction - should have important CpGs connected to it \n",
    "cpgs_3 = dic[13]     ### Another important feature\n",
    "cpgs_10 = dic[4]     ### Unimportant feature\n",
    "\n",
    "## 1. CpGs overlapping between important and unimportant features             ## Overlapping CpGs are not important at all - they can not be the reason for the same performance\n",
    "print([i for i in cpgs_15 if i in cpgs_0])\n",
    "print(df_fi.loc[[i for i in cpgs_15 if i in cpgs_0],:])     \n",
    "\n",
    "## 1B. CpGs overlapping between important features\n",
    "print([i for i in cpgs_15 if i in cpgs_3])\n",
    "print(df_fi.loc[[i for i in cpgs_15 if i in cpgs_3],:])   \n",
    "\n",
    "## 1c. CpGs overlapping between unimportant features\n",
    "print([i for i in cpgs_0 if i in cpgs_10])\n",
    "print(df_fi.loc[[i for i in cpgs_0 if i in cpgs_10],:])   \n"
   ]
  },
  {
   "cell_type": "markdown",
   "metadata": {},
   "source": [
    "## For a selected latent feature (e.g. 12)"
   ]
  },
  {
   "cell_type": "code",
   "execution_count": 79,
   "metadata": {},
   "outputs": [
    {
     "name": "stdout",
     "output_type": "stream",
     "text": [
      "Latent space feature with highest importance: 12\n",
      "Number of CpGs connected: 118\n"
     ]
    },
    {
     "data": {
      "image/png": "[encoded data removed]",
      "text/plain": [
       "<Figure size 1080x360 with 2 Axes>"
      ]
     },
     "metadata": {
      "needs_background": "light"
     },
     "output_type": "display_data"
    }
   ],
   "source": [
    "latFeature_i = 12\n",
    "\n",
    "print(f\"Latent space feature with highest importance: {latFeature_i}\")\n",
    "PATH_pert= f\"/home/sonja/PROJECTS/VAE_methylation/perturbations/results/l1_regularisation/latSize_25/latFeature_{latFeature_i}\"\n",
    "\n",
    "cpgs = pd.read_csv(f\"{PATH_pert}/cpgs_high.txt\", header=None) #cpgs_high_medium_low.txt\n",
    "print(f\"Number of CpGs connected: {cpgs.shape[0]}\")\n",
    "\n",
    "## parse only CpGs connected to latent feature \n",
    "X_train_latFeature = train_dataset[\"beta\"].loc[:,cpgs[0]]\n",
    "y_train_latFeature = train_dataset[\"pheno\"][\"Age\"].values\n",
    "\n",
    "X_test_latFeature = test_dataset[\"beta\"].loc[:,cpgs[0]]\n",
    "y_test_latFeature = test_dataset[\"pheno\"][\"Age\"].values\n",
    "\n",
    "## predict with those CpGs\n",
    "fi_i, r2_cpgRetrieved = RFregression(X_train=X_train_latFeature, \n",
    "                    y_train=y_train_latFeature,\n",
    "                    X_test=X_test_latFeature,\n",
    "                    y_test=y_test_latFeature,\n",
    "                    plot=True,\n",
    "                    color=\"blue\",\n",
    "                    title=f\"{len(cpgs[0])} CpGs of latent feature: {latFeature_i}\")"
   ]
  },
  {
   "cell_type": "markdown",
   "metadata": {},
   "source": [
    "## For randomly selected CpGs (with same number of CpGs as latent features)"
   ]
  },
  {
   "cell_type": "code",
   "execution_count": 80,
   "metadata": {},
   "outputs": [],
   "source": [
    "all_r2_random = []\n",
    "\n",
    "for i_iter in range(30):\n",
    "    ### Test: with xx random CpGs (same as best latent feature)\n",
    "    i = len(fi_i)\n",
    "    cpgs = np.random.choice(train_dataset[\"beta\"].columns, i)\n",
    "\n",
    "\n",
    "    ## parse only CpGs connected to latent feature \n",
    "    X_train_latFeature = train_dataset[\"beta\"].loc[:,cpgs]\n",
    "    y_train_latFeature = train_dataset[\"pheno\"][\"Age\"].values\n",
    "\n",
    "    X_test_latFeature = test_dataset[\"beta\"].loc[:,cpgs]\n",
    "    y_test_latFeature = test_dataset[\"pheno\"][\"Age\"].values\n",
    "\n",
    "    ## predict with those CpGs\n",
    "    _, r2 = RFregression(X_train=X_train_latFeature, \n",
    "                                    y_train=y_train_latFeature,\n",
    "                                    X_test=X_test_latFeature,\n",
    "                                    y_test=y_test_latFeature,\n",
    "                                    plot=False)\n",
    "                                    # plot=True,\n",
    "                                    # color=\"cyan\")\n",
    "    all_r2_random.append(r2)"
   ]
  },
  {
   "cell_type": "code",
   "execution_count": 81,
   "metadata": {},
   "outputs": [
    {
     "name": "stdout",
     "output_type": "stream",
     "text": [
      "0.6684755109372765 0.049730656448217454\n"
     ]
    },
    {
     "data": {
      "image/png": "[encoded data removed]",
      "text/plain": [
       "<Figure size 504x504 with 1 Axes>"
      ]
     },
     "metadata": {
      "needs_background": "light"
     },
     "output_type": "display_data"
    },
    {
     "name": "stdout",
     "output_type": "stream",
     "text": [
      "0.6684755109372765 0.6624697903073516 0.049730656448217454\n"
     ]
    }
   ],
   "source": [
    "fig, ax = plt.subplots(figsize=(7,7))\n",
    "\n",
    "print(np.array(all_r2_random).mean(), np.array(all_r2_random).std())\n",
    "\n",
    "sns.violinplot(data=all_r2_random, color=\"cornflowerblue\", inner=\"point\") #\"cornflowerblue\"\n",
    "ax.hlines(r2_cpgRetrieved, -0.5,0.5, color=\"red\", linestyles='dashed')\n",
    "ax.set_title(f\"R2 of {len(fi_i)} random CpGs\")\n",
    "ax.set_xticklabels(\"\")\n",
    "plt.show()\n",
    "\n",
    "print(np.array(all_r2_random).mean(), np.median(all_r2_random),np.array(all_r2_random).std())"
   ]
  },
  {
   "cell_type": "code",
   "execution_count": 69,
   "metadata": {},
   "outputs": [
    {
     "data": {
      "text/plain": [
       "0.6549831247630439"
      ]
     },
     "execution_count": 69,
     "metadata": {},
     "output_type": "execute_result"
    }
   ],
   "source": [
    "np.mean(all_r2_random)"
   ]
  },
  {
   "cell_type": "markdown",
   "metadata": {},
   "source": [
    "# Idea: always put accuracy in relation to R2 of random CpGs\n",
    "\n",
    "because age prediction is so messy..."
   ]
  },
  {
   "cell_type": "code",
   "execution_count": 5,
   "metadata": {},
   "outputs": [
    {
     "name": "stdout",
     "output_type": "stream",
     "text": [
      "Latent space feature with highest importance: 0\n",
      "Latent space feature with highest importance: 1\n",
      "Latent space feature with highest importance: 2\n",
      "Latent space feature with highest importance: 3\n",
      "Latent space feature with highest importance: 4\n",
      "Latent space feature with highest importance: 5\n",
      "Latent space feature with highest importance: 6\n",
      "Latent space feature with highest importance: 7\n",
      "Latent space feature with highest importance: 8\n",
      "Latent space feature with highest importance: 9\n",
      "Latent space feature with highest importance: 10\n",
      "Latent space feature with highest importance: 11\n",
      "Latent space feature with highest importance: 12\n",
      "Latent space feature with highest importance: 13\n",
      "Latent space feature with highest importance: 14\n",
      "Latent space feature with highest importance: 15\n",
      "Latent space feature with highest importance: 16\n",
      "Latent space feature with highest importance: 17\n",
      "Latent space feature with highest importance: 18\n",
      "Latent space feature with highest importance: 19\n",
      "Latent space feature with highest importance: 20\n",
      "Latent space feature with highest importance: 21\n",
      "Latent space feature with highest importance: 22\n",
      "Latent space feature with highest importance: 23\n",
      "Latent space feature with highest importance: 24\n",
      "[-0.4417126255872641, -0.25156083235002935, -0.07778521702307839, 0.04777554383093674, -0.3927570443545385, -0.3003509256828285, -0.42981152748768237, -0.5294152945505315, -0.6198233525530612, -0.14655759294081272, -0.4409782014294623, -0.1866907343019497, 0.6037355036022684, 0.4435723940349413, -0.24232087414664272, -0.40006034766038523, -0.4514849842690454, -0.19538761966455098, -0.23928454203981664, -0.1716113801694985, -0.15309537314235677, -0.25264248225188957, -0.18813106461193385, 0.175042308244302, -0.31166822215609646]\n"
     ]
    }
   ],
   "source": [
    "## 1. derive prediction for each latent feature only\n",
    "\n",
    "all_r2_latFeature = []\n",
    "\n",
    "for latFeature_i in range(25): #25\n",
    "    with torch.no_grad():\n",
    "        latSpace_train = model.generate_embedding(train_tensor[0])\n",
    "        latSpace_test = model.generate_embedding(test_tensor)  \n",
    "\n",
    "    print(f\"Latent space feature with highest importance: {latFeature_i}\")\n",
    "    latSpace_train_highest = latSpace_train[:,latFeature_i].reshape(-1, 1)\n",
    "    latSpace_test_highest = latSpace_test[:,latFeature_i].reshape(-1, 1)    \n",
    "\n",
    "    _, r2 = RFregression(X_train=latSpace_train_highest, \n",
    "                        y_train=train_tensor[1].detach().numpy(),\n",
    "                        X_test=latSpace_test_highest,\n",
    "                        y_test=test_dataset[\"pheno\"][\"Age\"].values,\n",
    "                        plot=False,\n",
    "                        color=\"green\")\n",
    "    all_r2_latFeature.append(r2)\n",
    "\n",
    "print(all_r2_latFeature)"
   ]
  },
  {
   "cell_type": "code",
   "execution_count": 6,
   "metadata": {},
   "outputs": [
    {
     "name": "stdout",
     "output_type": "stream",
     "text": [
      "/home/sonja/PROJECTS/VAE_methylation/perturbations/results/l1_regularisation/latSize_25/latFeature_0\n",
      "Number of CpGs connected: 87\n",
      "/home/sonja/PROJECTS/VAE_methylation/perturbations/results/l1_regularisation/latSize_25/latFeature_1\n",
      "Number of CpGs connected: 96\n",
      "/home/sonja/PROJECTS/VAE_methylation/perturbations/results/l1_regularisation/latSize_25/latFeature_2\n",
      "Number of CpGs connected: 77\n",
      "/home/sonja/PROJECTS/VAE_methylation/perturbations/results/l1_regularisation/latSize_25/latFeature_3\n",
      "Number of CpGs connected: 74\n",
      "/home/sonja/PROJECTS/VAE_methylation/perturbations/results/l1_regularisation/latSize_25/latFeature_4\n",
      "Number of CpGs connected: 95\n",
      "/home/sonja/PROJECTS/VAE_methylation/perturbations/results/l1_regularisation/latSize_25/latFeature_5\n",
      "Number of CpGs connected: 88\n",
      "/home/sonja/PROJECTS/VAE_methylation/perturbations/results/l1_regularisation/latSize_25/latFeature_6\n",
      "Number of CpGs connected: 75\n",
      "/home/sonja/PROJECTS/VAE_methylation/perturbations/results/l1_regularisation/latSize_25/latFeature_7\n",
      "Number of CpGs connected: 54\n",
      "/home/sonja/PROJECTS/VAE_methylation/perturbations/results/l1_regularisation/latSize_25/latFeature_8\n",
      "Number of CpGs connected: 69\n",
      "/home/sonja/PROJECTS/VAE_methylation/perturbations/results/l1_regularisation/latSize_25/latFeature_9\n",
      "Number of CpGs connected: 27\n",
      "/home/sonja/PROJECTS/VAE_methylation/perturbations/results/l1_regularisation/latSize_25/latFeature_10\n",
      "Number of CpGs connected: 63\n",
      "/home/sonja/PROJECTS/VAE_methylation/perturbations/results/l1_regularisation/latSize_25/latFeature_11\n",
      "Number of CpGs connected: 54\n",
      "/home/sonja/PROJECTS/VAE_methylation/perturbations/results/l1_regularisation/latSize_25/latFeature_12\n",
      "Number of CpGs connected: 118\n",
      "/home/sonja/PROJECTS/VAE_methylation/perturbations/results/l1_regularisation/latSize_25/latFeature_13\n",
      "Number of CpGs connected: 90\n",
      "/home/sonja/PROJECTS/VAE_methylation/perturbations/results/l1_regularisation/latSize_25/latFeature_14\n",
      "Number of CpGs connected: 46\n",
      "/home/sonja/PROJECTS/VAE_methylation/perturbations/results/l1_regularisation/latSize_25/latFeature_15\n",
      "Number of CpGs connected: 88\n",
      "/home/sonja/PROJECTS/VAE_methylation/perturbations/results/l1_regularisation/latSize_25/latFeature_16\n",
      "Number of CpGs connected: 96\n",
      "/home/sonja/PROJECTS/VAE_methylation/perturbations/results/l1_regularisation/latSize_25/latFeature_17\n",
      "Number of CpGs connected: 80\n",
      "/home/sonja/PROJECTS/VAE_methylation/perturbations/results/l1_regularisation/latSize_25/latFeature_18\n",
      "Number of CpGs connected: 96\n",
      "/home/sonja/PROJECTS/VAE_methylation/perturbations/results/l1_regularisation/latSize_25/latFeature_19\n",
      "Number of CpGs connected: 24\n",
      "/home/sonja/PROJECTS/VAE_methylation/perturbations/results/l1_regularisation/latSize_25/latFeature_20\n",
      "Number of CpGs connected: 54\n",
      "/home/sonja/PROJECTS/VAE_methylation/perturbations/results/l1_regularisation/latSize_25/latFeature_21\n",
      "Number of CpGs connected: 75\n",
      "/home/sonja/PROJECTS/VAE_methylation/perturbations/results/l1_regularisation/latSize_25/latFeature_22\n",
      "Number of CpGs connected: 40\n",
      "/home/sonja/PROJECTS/VAE_methylation/perturbations/results/l1_regularisation/latSize_25/latFeature_23\n",
      "Number of CpGs connected: 43\n",
      "/home/sonja/PROJECTS/VAE_methylation/perturbations/results/l1_regularisation/latSize_25/latFeature_24\n",
      "Number of CpGs connected: 51\n",
      "[0.49533469201320723, 0.710380008652311, 0.6419278216090323, 0.734141872126626, 0.6202739698313602, 0.6364826680820138, 0.6575690876504283, 0.46105322118900605, 0.5198484488672455, 0.3239496613123818, 0.6608537023421897, 0.5604146858558751, 0.7650382057670628, 0.6499527425651356, 0.6539926989831246, 0.7557292937265023, 0.5696751082855034, 0.5964692925247925, 0.7916469403207993, 0.17987474280547755, 0.5733941278962639, 0.6896639532820986, 0.7122729544895308, 0.6791939975393559, 0.5910560349754794]\n"
     ]
    }
   ],
   "source": [
    "## 2. derive prediction for each latent feature with retrieved cpgs\n",
    "\n",
    "all_r2_cpgRetrieved=[]\n",
    "for latFeature_i in range(25): #25\n",
    "\n",
    "    PATH_pert= f\"/home/sonja/PROJECTS/VAE_methylation/perturbations/results/l1_regularisation/latSize_25/latFeature_{latFeature_i}\"\n",
    "    print(PATH_pert)\n",
    "\n",
    "    cpgs = pd.read_csv(f\"{PATH_pert}/cpgs_high.txt\", header=None) #cpgs_high_medium_low.txt\n",
    "    print(f\"Number of CpGs connected: {cpgs.shape[0]}\")\n",
    "\n",
    "    ## parse only CpGs connected to latent feature \n",
    "    X_train_latFeature = train_dataset[\"beta\"].loc[:,cpgs[0]]\n",
    "    y_train_latFeature = train_dataset[\"pheno\"][\"Age\"].values\n",
    "\n",
    "    X_test_latFeature = test_dataset[\"beta\"].loc[:,cpgs[0]]\n",
    "    y_test_latFeature = test_dataset[\"pheno\"][\"Age\"].values\n",
    "\n",
    "    ## predict with those CpGs\n",
    "    fi_i, r2_cpgRetrieved = RFregression(X_train=X_train_latFeature, \n",
    "                        y_train=y_train_latFeature,\n",
    "                        X_test=X_test_latFeature,\n",
    "                        y_test=y_test_latFeature,\n",
    "                        plot=False,\n",
    "                        color=\"blue\",\n",
    "                        title=f\"{len(cpgs[0])} CpGs of latent feature: {latFeature_i}\")\n",
    "\n",
    "    all_r2_cpgRetrieved.append(r2_cpgRetrieved)\n",
    "\n",
    "print(all_r2_cpgRetrieved)"
   ]
  },
  {
   "cell_type": "code",
   "execution_count": 140,
   "metadata": {},
   "outputs": [
    {
     "name": "stdout",
     "output_type": "stream",
     "text": [
      "/home/sonja/PROJECTS/VAE_methylation/perturbations/results/l1_regularisation/latSize_25/latFeature_0\n",
      "Number of CpGs connected: 87\n",
      "/home/sonja/PROJECTS/VAE_methylation/perturbations/results/l1_regularisation/latSize_25/latFeature_1\n",
      "Number of CpGs connected: 96\n",
      "/home/sonja/PROJECTS/VAE_methylation/perturbations/results/l1_regularisation/latSize_25/latFeature_2\n",
      "Number of CpGs connected: 77\n",
      "/home/sonja/PROJECTS/VAE_methylation/perturbations/results/l1_regularisation/latSize_25/latFeature_3\n",
      "Number of CpGs connected: 74\n",
      "/home/sonja/PROJECTS/VAE_methylation/perturbations/results/l1_regularisation/latSize_25/latFeature_4\n",
      "Number of CpGs connected: 95\n",
      "/home/sonja/PROJECTS/VAE_methylation/perturbations/results/l1_regularisation/latSize_25/latFeature_5\n",
      "Number of CpGs connected: 88\n",
      "/home/sonja/PROJECTS/VAE_methylation/perturbations/results/l1_regularisation/latSize_25/latFeature_6\n",
      "Number of CpGs connected: 75\n",
      "/home/sonja/PROJECTS/VAE_methylation/perturbations/results/l1_regularisation/latSize_25/latFeature_7\n",
      "Number of CpGs connected: 54\n",
      "/home/sonja/PROJECTS/VAE_methylation/perturbations/results/l1_regularisation/latSize_25/latFeature_8\n",
      "Number of CpGs connected: 69\n",
      "/home/sonja/PROJECTS/VAE_methylation/perturbations/results/l1_regularisation/latSize_25/latFeature_9\n",
      "Number of CpGs connected: 27\n",
      "/home/sonja/PROJECTS/VAE_methylation/perturbations/results/l1_regularisation/latSize_25/latFeature_10\n",
      "Number of CpGs connected: 63\n",
      "/home/sonja/PROJECTS/VAE_methylation/perturbations/results/l1_regularisation/latSize_25/latFeature_11\n",
      "Number of CpGs connected: 54\n",
      "/home/sonja/PROJECTS/VAE_methylation/perturbations/results/l1_regularisation/latSize_25/latFeature_12\n",
      "Number of CpGs connected: 118\n",
      "/home/sonja/PROJECTS/VAE_methylation/perturbations/results/l1_regularisation/latSize_25/latFeature_13\n",
      "Number of CpGs connected: 90\n",
      "/home/sonja/PROJECTS/VAE_methylation/perturbations/results/l1_regularisation/latSize_25/latFeature_14\n",
      "Number of CpGs connected: 46\n",
      "/home/sonja/PROJECTS/VAE_methylation/perturbations/results/l1_regularisation/latSize_25/latFeature_15\n",
      "Number of CpGs connected: 88\n",
      "/home/sonja/PROJECTS/VAE_methylation/perturbations/results/l1_regularisation/latSize_25/latFeature_16\n",
      "Number of CpGs connected: 96\n",
      "/home/sonja/PROJECTS/VAE_methylation/perturbations/results/l1_regularisation/latSize_25/latFeature_17\n",
      "Number of CpGs connected: 80\n",
      "/home/sonja/PROJECTS/VAE_methylation/perturbations/results/l1_regularisation/latSize_25/latFeature_18\n",
      "Number of CpGs connected: 96\n",
      "/home/sonja/PROJECTS/VAE_methylation/perturbations/results/l1_regularisation/latSize_25/latFeature_19\n",
      "Number of CpGs connected: 24\n",
      "/home/sonja/PROJECTS/VAE_methylation/perturbations/results/l1_regularisation/latSize_25/latFeature_20\n",
      "Number of CpGs connected: 54\n",
      "/home/sonja/PROJECTS/VAE_methylation/perturbations/results/l1_regularisation/latSize_25/latFeature_21\n",
      "Number of CpGs connected: 75\n",
      "/home/sonja/PROJECTS/VAE_methylation/perturbations/results/l1_regularisation/latSize_25/latFeature_22\n",
      "Number of CpGs connected: 40\n",
      "/home/sonja/PROJECTS/VAE_methylation/perturbations/results/l1_regularisation/latSize_25/latFeature_23\n",
      "Number of CpGs connected: 43\n",
      "/home/sonja/PROJECTS/VAE_methylation/perturbations/results/l1_regularisation/latSize_25/latFeature_24\n",
      "Number of CpGs connected: 51\n"
     ]
    }
   ],
   "source": [
    "## 3. Predictions using same number of random CpGs (median of distribution)\n",
    "\n",
    "all_r2_random = []\n",
    "\n",
    "for latFeature_i in range(25): #25\n",
    "\n",
    "    PATH_pert= f\"/home/sonja/PROJECTS/VAE_methylation/perturbations/results/l1_regularisation/latSize_25/latFeature_{latFeature_i}\"\n",
    "    print(PATH_pert)\n",
    "\n",
    "    cpgs = pd.read_csv(f\"{PATH_pert}/cpgs_high.txt\", header=None) #cpgs_high_medium_low.txt\n",
    "    print(f\"Number of CpGs connected: {cpgs.shape[0]}\")\n",
    "\n",
    "    random=[]\n",
    "    for i_iter in range(30):\n",
    "        ### Test: with xx random CpGs (same as best latent feature)\n",
    "        i = cpgs.shape[0]\n",
    "        cpgs = np.random.choice(train_dataset[\"beta\"].columns, i)\n",
    "\n",
    "\n",
    "        ## parse only CpGs connected to latent feature \n",
    "        X_train_latFeature = train_dataset[\"beta\"].loc[:,cpgs]\n",
    "        y_train_latFeature = train_dataset[\"pheno\"][\"Age\"].values\n",
    "\n",
    "        X_test_latFeature = test_dataset[\"beta\"].loc[:,cpgs]\n",
    "        y_test_latFeature = test_dataset[\"pheno\"][\"Age\"].values\n",
    "\n",
    "        ## predict with those CpGs\n",
    "        _, r2 = RFregression(X_train=X_train_latFeature, \n",
    "                                        y_train=y_train_latFeature,\n",
    "                                        X_test=X_test_latFeature,\n",
    "                                        y_test=y_test_latFeature,\n",
    "                                        plot=False)\n",
    "                                        # plot=True,\n",
    "                                        # color=\"cyan\")\n",
    "        random.append(r2)\n",
    "\n",
    "    all_r2_random.append(np.median(random))"
   ]
  },
  {
   "cell_type": "code",
   "execution_count": 149,
   "metadata": {},
   "outputs": [
    {
     "data": {
      "text/plain": [
       "(-0.5, 1.0)"
      ]
     },
     "execution_count": 149,
     "metadata": {},
     "output_type": "execute_result"
    },
    {
     "data": {
      "image/png": "[encoded data removed]",
      "text/plain": [
       "<Figure size 720x720 with 1 Axes>"
      ]
     },
     "metadata": {
      "needs_background": "light"
     },
     "output_type": "display_data"
    }
   ],
   "source": [
    "fig, ax = plt.subplots(figsize=(10,10))\n",
    "\n",
    "xs = np.arange(25)\n",
    "width = 0.35 \n",
    "rects1 = ax.bar(xs - width/2, all_r2_latFeature, width, label='x', color=\"darkblue\")\n",
    "rects2 = ax.bar(xs + width/2, all_r2_cpgRetrieved, width, label='x2',color=\"dodgerblue\")\n",
    "for x in xs:\n",
    "    ax.hlines(xmin=x+width/2-0.2, xmax=x+width/2+0.2, y=all_r2_random[x], linestyles='--', linewidth=2, color='r')\n",
    "\n",
    "ax.set_ylim(-0.5, 1)"
   ]
  },
  {
   "cell_type": "code",
   "execution_count": 157,
   "metadata": {},
   "outputs": [
    {
     "data": {
      "text/plain": [
       "<matplotlib.legend.Legend at 0x7f2264093490>"
      ]
     },
     "execution_count": 157,
     "metadata": {},
     "output_type": "execute_result"
    },
    {
     "data": {
      "image/png": "[encoded data removed]",
      "text/plain": [
       "<Figure size 720x720 with 1 Axes>"
      ]
     },
     "metadata": {
      "needs_background": "light"
     },
     "output_type": "display_data"
    }
   ],
   "source": [
    "delta_gain = np.array(all_r2_cpgRetrieved) - all_r2_random\n",
    "\n",
    "fig, ax = plt.subplots(figsize=(10,10))\n",
    "\n",
    "x = np.arange(25)\n",
    "width = 0.35 \n",
    "\n",
    "rects1 = ax.bar(x - width/2, all_r2_latFeature, width, color=\"darkblue\", label=\"R2 w/ latFeature\")\n",
    "rects2 = ax.bar(x + width/2, delta_gain, width, color=\"dodgerblue\", label=\"R2 (recoveredCpG - randomCpG)\")\n",
    "ax.set_ylim(-0.5, 0.8)\n",
    "ax.legend()"
   ]
  },
  {
   "cell_type": "code",
   "execution_count": 151,
   "metadata": {},
   "outputs": [
    {
     "data": {
      "text/plain": [
       "array([-0.15885521,  0.08670162, -0.02228945,  0.10989955, -0.03711912,\n",
       "       -0.03232533,  0.0336019 , -0.17043473, -0.12293931, -0.2121199 ,\n",
       "        0.08300769, -0.06567941,  0.09419156, -0.00727001,  0.03822085,\n",
       "        0.09305579, -0.05264005, -0.06427161,  0.10732838, -0.34548326,\n",
       "       -0.07685649,  0.07204864,  0.13094569,  0.07962899, -0.00038821])"
      ]
     },
     "execution_count": 151,
     "metadata": {},
     "output_type": "execute_result"
    }
   ],
   "source": [
    "delta_gain"
   ]
  },
  {
   "cell_type": "code",
   "execution_count": 136,
   "metadata": {},
   "outputs": [
    {
     "data": {
      "text/plain": [
       "[0.48994841405199396,\n",
       " 0.7356918637833261,\n",
       " 0.6176186824681976,\n",
       " 0.742448914306642,\n",
       " 0.6279816183598377]"
      ]
     },
     "execution_count": 136,
     "metadata": {},
     "output_type": "execute_result"
    }
   ],
   "source": [
    "all_r2_cpgRetrieved[:5]"
   ]
  },
  {
   "cell_type": "markdown",
   "metadata": {},
   "source": [
    "## Investigate CpGs from important latSpace Features\n",
    "\n",
    "1. check overlap between l1_regularisaton and no regularisation (explains difference in `delta_gain`?)\n",
    "2. overlap with EWAS CpGs?"
   ]
  },
  {
   "cell_type": "code",
   "execution_count": 17,
   "metadata": {},
   "outputs": [
    {
     "data": {
      "text/plain": [
       "[3, 12, 13, 23]"
      ]
     },
     "execution_count": 17,
     "metadata": {},
     "output_type": "execute_result"
    },
    {
     "data": {
      "image/png": "[encoded data removed]",
      "text/plain": [
       "<Figure size 432x288 with 1 Axes>"
      ]
     },
     "metadata": {
      "needs_background": "light"
     },
     "output_type": "display_data"
    }
   ],
   "source": [
    "fig, ax = plt.subplots()\n",
    "ax.bar(range(25), all_r2_latFeature)\n",
    "\n",
    "[i for i,x in enumerate(all_r2_latFeature) if x > 0]\n"
   ]
  },
  {
   "cell_type": "code",
   "execution_count": 175,
   "metadata": {},
   "outputs": [
    {
     "name": "stderr",
     "output_type": "stream",
     "text": [
      "/tmp/ipykernel_24472/1664444257.py:2: DtypeWarning: Columns (2,9) have mixed types. Specify dtype option on import or set low_memory=False.\n",
      "  ewas = pd.read_table(\"data/results.txt\")\n"
     ]
    }
   ],
   "source": [
    "### Read in EWAS results from EWAS cataloge (all results!)\n",
    "ewas = pd.read_table(\"data/results.txt\")\n",
    "studies = pd.read_table(\"data/studies.txt\")\n",
    "\n",
    "### Only include studies carreid out in Whole blood and measuring Age \n",
    "studies_filtered = studies[(studies[\"Tissue\"] == \"Whole blood\") & (studies[\"Trait\"].str.contains(\"age\", case=False))]\n",
    "ewas_studies = ewas[ewas[\"StudyID\"].isin(studies_filtered[\"StudyID\"])]"
   ]
  },
  {
   "cell_type": "code",
   "execution_count": 206,
   "metadata": {},
   "outputs": [
    {
     "name": "stdout",
     "output_type": "stream",
     "text": [
      "\n",
      "LatFeature: 12\n",
      "Number of not significant CpGs in cluster: 2 \t Ratio significant: 0.98\n",
      "['cg15425811', 'cg02940070']\n",
      "\n",
      "LatFeature: 13\n",
      "Number of not significant CpGs in cluster: 9 \t Ratio significant: 0.9\n",
      "['cg23503501', 'cg11141652', 'cg13306870', 'cg03648724', 'cg24694833', 'cg04234412', 'cg15425811', 'cg02940070', 'cg14780837']\n",
      "\n",
      "LatFeature: 0\n",
      "Number of not significant CpGs in cluster: 8 \t Ratio significant: 0.91\n",
      "['cg16686900', 'cg11141652', 'cg04234412', 'cg17099656', 'cg26494441', 'cg14942952', 'cg17005068', 'cg09033563']\n",
      "\n",
      "LatFeature: 9\n",
      "Number of not significant CpGs in cluster: 9 \t Ratio significant: 0.67\n",
      "['cg12419862', 'cg21256200', 'cg11141652', 'cg24694833', 'cg04234412', 'cg17005068', 'cg11466708', 'cg25703541', 'cg09033563']\n",
      "\n",
      "LatFeature: 19\n",
      "Number of not significant CpGs in cluster: 9 \t Ratio significant: 0.62\n",
      "['cg12419862', 'cg21256200', 'cg11141652', 'cg04234412', 'cg17005068', 'cg11466708', 'cg25703541', 'cg09033563', 'cg20007245']\n",
      "\n",
      "LatFeature: 18\n",
      "Number of not significant CpGs in cluster: 4 \t Ratio significant: 0.96\n",
      "['cg11141652', 'cg04234412', 'cg27376941', 'cg17099656']\n"
     ]
    }
   ],
   "source": [
    "for latFeature_i in [12, 13, 0, 9, 19, 18]: ### 12 & 13 are important; 0, 9, 19, 18 not so much \n",
    "\n",
    "    PATH_pert= f\"/home/sonja/PROJECTS/VAE_methylation/perturbations/results/l1_regularisation/latSize_25/latFeature_{latFeature_i}\"\n",
    "    print(f\"\\nLatFeature: {latFeature_i}\")\n",
    "\n",
    "    cpgs = pd.read_csv(f\"{PATH_pert}/cpgs_high.txt\", header=None)[0].tolist() #cpgs_high_medium_low.txt\n",
    "\n",
    "    ewas_filtered = ewas_studies[ewas_studies[\"CpG\"].isin(cpgs)]\n",
    "    #print(ewas_filtered.shape)\n",
    "\n",
    "    # ### How many CpGs are not significant?\n",
    "    num_notsig = len([i for i in cpgs if i not in ewas_filtered[\"CpG\"].unique()])\n",
    "    print(f\"Number of not significant CpGs in cluster: {num_notsig} \\t Ratio significant: {round(1-(num_notsig/len(cpgs)),2)}\")\n",
    "\n",
    "    # ### Which CpGs are not significant?\n",
    "    print([i for i in cpgs if i not in ewas_filtered[\"CpG\"].unique()])"
   ]
  },
  {
   "cell_type": "code",
   "execution_count": 205,
   "metadata": {},
   "outputs": [
    {
     "data": {
      "text/html": [
       "<div>\n",
       "<style scoped>\n",
       "    .dataframe tbody tr th:only-of-type {\n",
       "        vertical-align: middle;\n",
       "    }\n",
       "\n",
       "    .dataframe tbody tr th {\n",
       "        vertical-align: top;\n",
       "    }\n",
       "\n",
       "    .dataframe thead th {\n",
       "        text-align: right;\n",
       "    }\n",
       "</style>\n",
       "<table border=\"1\" class=\"dataframe\">\n",
       "  <thead>\n",
       "    <tr style=\"text-align: right;\">\n",
       "      <th></th>\n",
       "      <th>CpG</th>\n",
       "      <th>Location</th>\n",
       "      <th>Chr</th>\n",
       "      <th>Pos</th>\n",
       "      <th>Gene</th>\n",
       "      <th>Type</th>\n",
       "      <th>Beta</th>\n",
       "      <th>SE</th>\n",
       "      <th>P</th>\n",
       "      <th>Details</th>\n",
       "      <th>StudyID</th>\n",
       "    </tr>\n",
       "  </thead>\n",
       "  <tbody>\n",
       "    <tr>\n",
       "      <th>1263318</th>\n",
       "      <td>cg12325455</td>\n",
       "      <td>chr22:38092876</td>\n",
       "      <td>22</td>\n",
       "      <td>38092876.0</td>\n",
       "      <td>TRIOBP</td>\n",
       "      <td>Open sea</td>\n",
       "      <td>0.00170</td>\n",
       "      <td>NaN</td>\n",
       "      <td>0.000000</td>\n",
       "      <td>NaN</td>\n",
       "      <td>33450751_Mulder-RH_age_model_1_with_age_as_a_r...</td>\n",
       "    </tr>\n",
       "    <tr>\n",
       "      <th>969761</th>\n",
       "      <td>cg07895657</td>\n",
       "      <td>chr22:50616420</td>\n",
       "      <td>22</td>\n",
       "      <td>50616420.0</td>\n",
       "      <td>PANX2</td>\n",
       "      <td>Island</td>\n",
       "      <td>0.00330</td>\n",
       "      <td>0.00026</td>\n",
       "      <td>0.000000</td>\n",
       "      <td>NaN</td>\n",
       "      <td>33450751_Mulder-RH_age_model_1_with_age_as_a_f...</td>\n",
       "    </tr>\n",
       "    <tr>\n",
       "      <th>961089</th>\n",
       "      <td>cg07153010</td>\n",
       "      <td>chr22:21312388</td>\n",
       "      <td>22</td>\n",
       "      <td>21312388.0</td>\n",
       "      <td>-</td>\n",
       "      <td>South shore</td>\n",
       "      <td>0.00250</td>\n",
       "      <td>0.00016</td>\n",
       "      <td>0.000000</td>\n",
       "      <td>NaN</td>\n",
       "      <td>33450751_Mulder-RH_age_model_1_with_age_as_a_f...</td>\n",
       "    </tr>\n",
       "    <tr>\n",
       "      <th>960695</th>\n",
       "      <td>cg07127410</td>\n",
       "      <td>chr22:29427851</td>\n",
       "      <td>22</td>\n",
       "      <td>29427851.0</td>\n",
       "      <td>ZNRF3</td>\n",
       "      <td>South shore</td>\n",
       "      <td>-0.00710</td>\n",
       "      <td>0.00021</td>\n",
       "      <td>0.000000</td>\n",
       "      <td>NaN</td>\n",
       "      <td>33450751_Mulder-RH_age_model_1_with_age_as_a_f...</td>\n",
       "    </tr>\n",
       "    <tr>\n",
       "      <th>1263601</th>\n",
       "      <td>cg12379720</td>\n",
       "      <td>chr22:38092989</td>\n",
       "      <td>22</td>\n",
       "      <td>38092989.0</td>\n",
       "      <td>TRIOBP</td>\n",
       "      <td>Open sea</td>\n",
       "      <td>0.00190</td>\n",
       "      <td>NaN</td>\n",
       "      <td>0.000000</td>\n",
       "      <td>NaN</td>\n",
       "      <td>33450751_Mulder-RH_age_model_1_with_age_as_a_r...</td>\n",
       "    </tr>\n",
       "    <tr>\n",
       "      <th>...</th>\n",
       "      <td>...</td>\n",
       "      <td>...</td>\n",
       "      <td>...</td>\n",
       "      <td>...</td>\n",
       "      <td>...</td>\n",
       "      <td>...</td>\n",
       "      <td>...</td>\n",
       "      <td>...</td>\n",
       "      <td>...</td>\n",
       "      <td>...</td>\n",
       "      <td>...</td>\n",
       "    </tr>\n",
       "    <tr>\n",
       "      <th>1518489</th>\n",
       "      <td>cg12492885</td>\n",
       "      <td>chr22:24890814</td>\n",
       "      <td>22</td>\n",
       "      <td>24890814.0</td>\n",
       "      <td>C22orf45;UPB1</td>\n",
       "      <td>Island</td>\n",
       "      <td>0.00440</td>\n",
       "      <td>NaN</td>\n",
       "      <td>0.000085</td>\n",
       "      <td>NaN</td>\n",
       "      <td>33450751_Mulder-RH_age_model_2_at_9y_with_age_...</td>\n",
       "    </tr>\n",
       "    <tr>\n",
       "      <th>1085006</th>\n",
       "      <td>cg18465694</td>\n",
       "      <td>chr22:36806185</td>\n",
       "      <td>22</td>\n",
       "      <td>36806185.0</td>\n",
       "      <td>-</td>\n",
       "      <td>Island</td>\n",
       "      <td>-0.00069</td>\n",
       "      <td>0.00018</td>\n",
       "      <td>0.000087</td>\n",
       "      <td>NaN</td>\n",
       "      <td>33450751_Mulder-RH_age_model_1_with_age_as_a_f...</td>\n",
       "    </tr>\n",
       "    <tr>\n",
       "      <th>1041215</th>\n",
       "      <td>cg14325184</td>\n",
       "      <td>chr22:21025079</td>\n",
       "      <td>22</td>\n",
       "      <td>21025079.0</td>\n",
       "      <td>-</td>\n",
       "      <td>Island</td>\n",
       "      <td>-0.00054</td>\n",
       "      <td>0.00014</td>\n",
       "      <td>0.000087</td>\n",
       "      <td>NaN</td>\n",
       "      <td>33450751_Mulder-RH_age_model_1_with_age_as_a_f...</td>\n",
       "    </tr>\n",
       "    <tr>\n",
       "      <th>1006999</th>\n",
       "      <td>cg11247378</td>\n",
       "      <td>chr22:39784982</td>\n",
       "      <td>22</td>\n",
       "      <td>39784982.0</td>\n",
       "      <td>-</td>\n",
       "      <td>Island</td>\n",
       "      <td>-0.00090</td>\n",
       "      <td>0.00023</td>\n",
       "      <td>0.000088</td>\n",
       "      <td>NaN</td>\n",
       "      <td>33450751_Mulder-RH_age_model_1_with_age_as_a_f...</td>\n",
       "    </tr>\n",
       "    <tr>\n",
       "      <th>1536742</th>\n",
       "      <td>cg18445088</td>\n",
       "      <td>chr22:40081812</td>\n",
       "      <td>22</td>\n",
       "      <td>40081812.0</td>\n",
       "      <td>CACNA1I</td>\n",
       "      <td>Island</td>\n",
       "      <td>0.00370</td>\n",
       "      <td>NaN</td>\n",
       "      <td>0.000098</td>\n",
       "      <td>NaN</td>\n",
       "      <td>33450751_Mulder-RH_age_model_2_at_9y_with_age_...</td>\n",
       "    </tr>\n",
       "  </tbody>\n",
       "</table>\n",
       "<p>331 rows × 11 columns</p>\n",
       "</div>"
      ],
      "text/plain": [
       "                CpG        Location Chr         Pos           Gene  \\\n",
       "1263318  cg12325455  chr22:38092876  22  38092876.0         TRIOBP   \n",
       "969761   cg07895657  chr22:50616420  22  50616420.0          PANX2   \n",
       "961089   cg07153010  chr22:21312388  22  21312388.0              -   \n",
       "960695   cg07127410  chr22:29427851  22  29427851.0          ZNRF3   \n",
       "1263601  cg12379720  chr22:38092989  22  38092989.0         TRIOBP   \n",
       "...             ...             ...  ..         ...            ...   \n",
       "1518489  cg12492885  chr22:24890814  22  24890814.0  C22orf45;UPB1   \n",
       "1085006  cg18465694  chr22:36806185  22  36806185.0              -   \n",
       "1041215  cg14325184  chr22:21025079  22  21025079.0              -   \n",
       "1006999  cg11247378  chr22:39784982  22  39784982.0              -   \n",
       "1536742  cg18445088  chr22:40081812  22  40081812.0        CACNA1I   \n",
       "\n",
       "                Type     Beta       SE         P Details  \\\n",
       "1263318     Open sea  0.00170      NaN  0.000000     NaN   \n",
       "969761        Island  0.00330  0.00026  0.000000     NaN   \n",
       "961089   South shore  0.00250  0.00016  0.000000     NaN   \n",
       "960695   South shore -0.00710  0.00021  0.000000     NaN   \n",
       "1263601     Open sea  0.00190      NaN  0.000000     NaN   \n",
       "...              ...      ...      ...       ...     ...   \n",
       "1518489       Island  0.00440      NaN  0.000085     NaN   \n",
       "1085006       Island -0.00069  0.00018  0.000087     NaN   \n",
       "1041215       Island -0.00054  0.00014  0.000087     NaN   \n",
       "1006999       Island -0.00090  0.00023  0.000088     NaN   \n",
       "1536742       Island  0.00370      NaN  0.000098     NaN   \n",
       "\n",
       "                                                   StudyID  \n",
       "1263318  33450751_Mulder-RH_age_model_1_with_age_as_a_r...  \n",
       "969761   33450751_Mulder-RH_age_model_1_with_age_as_a_f...  \n",
       "961089   33450751_Mulder-RH_age_model_1_with_age_as_a_f...  \n",
       "960695   33450751_Mulder-RH_age_model_1_with_age_as_a_f...  \n",
       "1263601  33450751_Mulder-RH_age_model_1_with_age_as_a_r...  \n",
       "...                                                    ...  \n",
       "1518489  33450751_Mulder-RH_age_model_2_at_9y_with_age_...  \n",
       "1085006  33450751_Mulder-RH_age_model_1_with_age_as_a_f...  \n",
       "1041215  33450751_Mulder-RH_age_model_1_with_age_as_a_f...  \n",
       "1006999  33450751_Mulder-RH_age_model_1_with_age_as_a_f...  \n",
       "1536742  33450751_Mulder-RH_age_model_2_at_9y_with_age_...  \n",
       "\n",
       "[331 rows x 11 columns]"
      ]
     },
     "execution_count": 205,
     "metadata": {},
     "output_type": "execute_result"
    }
   ],
   "source": [
    "ewas_filtered_sorted = ewas_filtered.sort_values(by=\"P\")\n",
    "\n",
    "ewas_filtered_sorted"
   ]
  },
  {
   "cell_type": "code",
   "execution_count": null,
   "metadata": {},
   "outputs": [],
   "source": []
  }
 ],
 "metadata": {
  "interpreter": {
   "hash": "3992ab943128cc4cf985d7ce129cb55b97cc0536705b4d7d2d01b5a593c32f90"
  },
  "kernelspec": {
   "display_name": "Python 3.8.5 ('base')",
   "language": "python",
   "name": "python3"
  },
  "language_info": {
   "codemirror_mode": {
    "name": "ipython",
    "version": 3
   },
   "file_extension": ".py",
   "mimetype": "text/x-python",
   "name": "python",
   "nbconvert_exporter": "python",
   "pygments_lexer": "ipython3",
   "version": "3.8.5"
  },
  "orig_nbformat": 4
 },
 "nbformat": 4,
 "nbformat_minor": 2
}
