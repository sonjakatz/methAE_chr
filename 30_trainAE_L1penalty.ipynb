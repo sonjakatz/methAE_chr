{
 "cells": [
  {
   "cell_type": "code",
   "execution_count": 4,
   "id": "96116de5",
   "metadata": {},
   "outputs": [],
   "source": [
    "import pandas as pd\n",
    "import numpy as np\n",
    "import pickle \n",
    "import torch\n",
    "from data.prepareData import prepareDataLoader_fromPkl\n",
    "import matplotlib.pyplot as plt\n",
    "from scripts.visualisation import plot_cpg_reconstruction, plot_activations_latSpace\n",
    "# import seaborn as sns\n",
    "# from tensorflow.python.summary.summary_iterator import summary_iterator"
   ]
  },
  {
   "cell_type": "markdown",
   "id": "5a7f129f",
   "metadata": {},
   "source": [
    "# Trial - add L1 regularisation term"
   ]
  },
  {
   "cell_type": "code",
   "execution_count": 5,
   "id": "c72ddea7",
   "metadata": {},
   "outputs": [
    {
     "name": "stdout",
     "output_type": "stream",
     "text": [
      "Traceback (most recent call last):\r\n",
      "  File \"/trinity/home/skatz/PROJECTS/methylnet/4_methAE/methAE_chr/train_AE_l1reg.py\", line 7, in <module>\r\n",
      "    import torch\r\n",
      "ModuleNotFoundError: No module named 'torch'\r\n"
     ]
    }
   ],
   "source": [
    "################################ Early stopping allowed ################################\n",
    "\n",
    "!python train_AE_l1reg.py --name l1_regularisation/latSize_25 \\\n",
    "                    --train_file chr22_overlap_train_methyl_array.pkl \\\n",
    "                    --val_file chr22_overlap_val_methyl_array.pkl \\\n",
    "                    --hidden_layer_encoder_topology 2000 500 \\\n",
    "                    --latentSize 25 \\\n",
    "                    --learning_rate 1e-04 \\\n",
    "                    --n_epochs 500 \\\n",
    "                    --patienceEarlyStopping 30"
   ]
  },
  {
   "cell_type": "code",
   "execution_count": null,
   "id": "96e07302",
   "metadata": {},
   "outputs": [],
   "source": []
  },
  {
   "cell_type": "code",
   "execution_count": 7,
   "id": "d904ef23",
   "metadata": {},
   "outputs": [
    {
     "name": "stdout",
     "output_type": "stream",
     "text": [
      "Overwriting submit_l1reg.sh\n"
     ]
    }
   ],
   "source": [
    "%%writefile submit_l1reg.sh\n",
    "#!/bin/bash\n",
    "#SBATCH --ntasks=1\n",
    "#SBATCH --mem=14G\n",
    "#SBATCH -p interactive\n",
    "#SBATCH --gres=gpu:1\n",
    "#SBATCH -t 02:00:00\n",
    "#SBATCH -o out_%j.log\n",
    "#SBATCH -e error_%j.log\n",
    "\n",
    "#Load the modules & venv\n",
    "module purge\n",
    "module load Python/3.9.5-GCCcore-10.3.0\n",
    "source \"/tmp/${SLURM_JOB_USER}.${SLURM_JOB_ID}/prolog.env\"  # this is in tutorial script -- what does it do?\n",
    "source \"/trinity/home/skatz/venv_pytorch/bin/activate\"\n",
    "\n",
    "python train_AE_l1reg.py --name l1_regularisation/latSize_25 \\\n",
    "                    --train_file chr22_overlap_train_methyl_array.pkl \\\n",
    "                    --val_file chr22_overlap_val_methyl_array.pkl \\\n",
    "                    --hidden_layer_encoder_topology 2000 500 \\\n",
    "                    --latentSize 25 \\\n",
    "                    --learning_rate 1e-04 \\\n",
    "                    --n_epochs 500 \\\n",
    "                    --patienceEarlyStopping 30"
   ]
  },
  {
   "cell_type": "code",
   "execution_count": 8,
   "id": "289e7468",
   "metadata": {},
   "outputs": [
    {
     "name": "stdout",
     "output_type": "stream",
     "text": [
      "Submitted batch job 110081\r\n"
     ]
    }
   ],
   "source": [
    "!sbatch submit_l1reg.sh"
   ]
  },
  {
   "cell_type": "code",
   "execution_count": null,
   "id": "be6ead50",
   "metadata": {},
   "outputs": [],
   "source": []
  }
 ],
 "metadata": {
  "kernelspec": {
   "display_name": "Python 3 (ipykernel)",
   "language": "python",
   "name": "python3"
  },
  "language_info": {
   "codemirror_mode": {
    "name": "ipython",
    "version": 3
   },
   "file_extension": ".py",
   "mimetype": "text/x-python",
   "name": "python",
   "nbconvert_exporter": "python",
   "pygments_lexer": "ipython3",
   "version": "3.9.5"
  }
 },
 "nbformat": 4,
 "nbformat_minor": 5
}
