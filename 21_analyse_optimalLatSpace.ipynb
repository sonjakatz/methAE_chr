{
 "cells": [
  {
   "cell_type": "markdown",
   "metadata": {},
   "source": [
    "# Monitor: \n",
    "\n",
    "- Loss\n",
    "- pearson correlation\n",
    "- prediction R2 (=prediction performace)"
   ]
  },
  {
   "cell_type": "code",
   "execution_count": 9,
   "metadata": {},
   "outputs": [],
   "source": [
    "import pandas as pd\n",
    "import numpy as np\n",
    "import pickle \n",
    "import torch\n",
    "from scripts.visualisation import plot_cpg_reconstruction, plot_activations_latSpace\n",
    "from data.prepareData import prepareDataLoader_fromPkl\n",
    "import matplotlib.pyplot as plt\n",
    "\n",
    "from tensorflow.python.summary.summary_iterator import summary_iterator\n",
    "\n",
    "from sklearn.ensemble import RandomForestRegressor\n",
    "from sklearn.model_selection import cross_val_predict, cross_val_score"
   ]
  },
  {
   "cell_type": "markdown",
   "metadata": {},
   "source": [
    "# Load Data"
   ]
  },
  {
   "cell_type": "code",
   "execution_count": 3,
   "metadata": {},
   "outputs": [],
   "source": [
    "PATH_data = \"data\"\n",
    "PATH_results = \"logs\"\n",
    "\n",
    "batch_size = 64\n",
    "train_data = prepareDataLoader_fromPkl(f\"{PATH_data}/chr22_overlap_train_methyl_array.pkl\")\n",
    "train_dataloader = torch.utils.data.DataLoader(train_data,\n",
    "                                               batch_size=batch_size, \n",
    "                                               shuffle=False,\n",
    "                                               num_workers=6)                      \n",
    "val_data = prepareDataLoader_fromPkl(f\"{PATH_data}/chr22_overlap_val_methyl_array.pkl\")\n",
    "val_dataloader = torch.utils.data.DataLoader(train_data,\n",
    "                                               batch_size=batch_size, \n",
    "                                               shuffle=False,\n",
    "                                               num_workers=6)\n",
    "\n",
    "\n",
    "with open(os.path.join(PATH_data, \"chr22_overlap_test_methyl_array.pkl\"), \"rb\") as f: test_dataset = pickle.load(f) #\n",
    "test_tensor = torch.tensor(test_dataset[\"beta\"].values, dtype=torch.float32)"
   ]
  },
  {
   "cell_type": "markdown",
   "metadata": {},
   "source": [
    "# Monitor (validation) loss"
   ]
  },
  {
   "cell_type": "code",
   "execution_count": null,
   "metadata": {},
   "outputs": [],
   "source": [
    "# os.listdir() #after time and take latets event file"
   ]
  },
  {
   "cell_type": "code",
   "execution_count": 53,
   "metadata": {},
   "outputs": [],
   "source": [
    "val_loss = []\n",
    "for summary in summary_iterator(\"logs/dyingLatentFeatures/AE_10lat_noBatchNorm/events.out.tfevents.1649178827.sonja-ubuntu.21426.0\"):\n",
    "    if summary.summary.value:\n",
    "        if summary.summary.value[0].tag == \"Val - Loss\":\n",
    "            val_loss.append(summary.summary.value[0].simple_value)"
   ]
  },
  {
   "cell_type": "markdown",
   "metadata": {},
   "source": [
    "# Monitor pearson correlation of reconstruction"
   ]
  },
  {
   "cell_type": "code",
   "execution_count": null,
   "metadata": {},
   "outputs": [],
   "source": []
  },
  {
   "cell_type": "markdown",
   "metadata": {},
   "source": [
    "# Monitor prediction performance"
   ]
  },
  {
   "cell_type": "code",
   "execution_count": null,
   "metadata": {},
   "outputs": [],
   "source": []
  }
 ],
 "metadata": {
  "interpreter": {
   "hash": "3992ab943128cc4cf985d7ce129cb55b97cc0536705b4d7d2d01b5a593c32f90"
  },
  "kernelspec": {
   "display_name": "Python 3.8.5 ('base')",
   "language": "python",
   "name": "python3"
  },
  "language_info": {
   "codemirror_mode": {
    "name": "ipython",
    "version": 3
   },
   "file_extension": ".py",
   "mimetype": "text/x-python",
   "name": "python",
   "nbconvert_exporter": "python",
   "pygments_lexer": "ipython3",
   "version": "3.8.5"
  },
  "orig_nbformat": 4
 },
 "nbformat": 4,
 "nbformat_minor": 2
}
