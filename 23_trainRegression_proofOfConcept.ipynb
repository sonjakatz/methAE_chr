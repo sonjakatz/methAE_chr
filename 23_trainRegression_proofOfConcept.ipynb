{
 "cells": [
  {
   "cell_type": "markdown",
   "metadata": {},
   "source": [
    "# Idea & Plan\n",
    "\n",
    "A few (mostly one) latent feature is always much more important for prediction than the rest (check `feature_importance`) \n",
    "\n",
    "- Are the CpGs connected to this latent feature also important? \n",
    "- Can we recover the CpGs important for prediction through perturbation? --> **PROOF OF CONCEPT THAT PERTURBATIONS WORK?!**\n",
    "\n",
    "**Workflow**:\n",
    "\n",
    "1. Predict with input CpGs: maximum R2?\n",
    "2. Predict with all latent features: maximum R2 + important latent features? \n",
    "3. Predict only with important latent feature --> this is the maximum we can achieve!\n",
    "4. Recover CpGs connected to this latent feature through perturbations (`low` + `medium` + `high` effect)\n",
    "5. Predict AGE with those CpGs --> compare to other results!"
   ]
  },
  {
   "cell_type": "code",
   "execution_count": 1,
   "metadata": {},
   "outputs": [],
   "source": [
    "import pandas as pd\n",
    "import numpy as np\n",
    "import pickle \n",
    "import torch\n",
    "from data.prepareData import prepareDataLoader_fromPkl\n",
    "import seaborn as sns\n",
    "\n",
    "from sklearn.ensemble import RandomForestRegressor\n",
    "import matplotlib.pyplot as plt\n"
   ]
  },
  {
   "cell_type": "code",
   "execution_count": 5,
   "metadata": {},
   "outputs": [],
   "source": [
    "def RFregression(X_train, y_train, X_test, y_test, saveModel=False, plot=True, color=\"orange\", title=None):\n",
    "    ## Remove samples with NA in target\n",
    "    # Train\n",
    "    mask_train = ~np.isnan(y_train)\n",
    "    X_train = X_train[mask_train]\n",
    "    y_train = y_train[mask_train]\n",
    "    # Test\n",
    "    mask_test = ~np.isnan(y_test)\n",
    "    X_test = X_test[mask_test]\n",
    "    y_test = y_test[mask_test]\n",
    "\n",
    "    #print(X_train.shape, X_test.shape, y_train.shape, y_test.shape)\n",
    "\n",
    "    # Train RFregression model\n",
    "    regr = RandomForestRegressor(random_state=None)\n",
    "    regr.fit(X_train, y_train)\n",
    "    featureImportances = regr.feature_importances_\n",
    "\n",
    "    # Score on Test set\n",
    "    y_pred = regr.predict(X_test)\n",
    "    r2 = regr.score(X_test, y_test)\n",
    "\n",
    "    if saveModel:\n",
    "        # save model\n",
    "        outPath = f\"logs/{name}/regression/\"\n",
    "        os.makedirs(outPath, exist_ok=True)\n",
    "        pickle.dump(regr, open(f\"{outPath}/RFregressor.sav\", 'wb'))\n",
    "\n",
    "    if plot:\n",
    "        fig, (ax, ax2) = plt.subplots(1, 2,figsize=(15,5))\n",
    "        ax.scatter(y_test, y_pred, color=color)\n",
    "        ax.plot([0, 1], [0, 1], transform=ax.transAxes, color=\"red\", linestyle=\"dashed\", alpha=0.5)\n",
    "        ax.text(55, 10, f\"R² = {round(r2.mean(),2)}\")\n",
    "        ax.set_xlim(0,100)\n",
    "        ax.set_ylim(0,100)\n",
    "        if title: \n",
    "            ax.set_title(f\"{title}\")\n",
    "        else: \n",
    "            ax.set_title(f\"{X_train.shape[1]} features\")\n",
    "        ax.set_xlabel(\"True Age\")\n",
    "        ax.set_ylabel(\"Predicted Age\")\n",
    "\n",
    "        ax2.bar(x=range(len(featureImportances)), height=featureImportances, color=color)\n",
    "        ax2.set_title(\"Feature importance\")\n",
    "        ax2.set_xlabel(\"# Feature\")\n",
    "\n",
    "    return featureImportances, r2"
   ]
  },
  {
   "cell_type": "markdown",
   "metadata": {},
   "source": [
    "# Load Data"
   ]
  },
  {
   "cell_type": "code",
   "execution_count": 2,
   "metadata": {},
   "outputs": [],
   "source": [
    "PATH_data = \"data\"\n",
    "PATH_results = \"logs\"\n",
    "\n",
    "batch_size = 64\n",
    "with open(os.path.join(PATH_data, \"chr22_overlap_train_methyl_array.pkl\"), \"rb\") as f: train_dataset = pickle.load(f) #\n",
    "train_tensor = prepareDataLoader_fromPkl(f\"{PATH_data}/chr22_overlap_train_methyl_array.pkl\", colName=\"Age\").returnTensor_()\n",
    "\n",
    "with open(os.path.join(PATH_data, \"chr22_overlap_test_methyl_array.pkl\"), \"rb\") as f: test_dataset = pickle.load(f) #\n",
    "test_tensor = torch.tensor(test_dataset[\"beta\"].values, dtype=torch.float32)"
   ]
  },
  {
   "cell_type": "markdown",
   "metadata": {},
   "source": [
    "# Read in AE model (latent features = 25)"
   ]
  },
  {
   "cell_type": "code",
   "execution_count": 3,
   "metadata": {},
   "outputs": [],
   "source": [
    "name = f\"optLatSize/latSize_25\" \n",
    "global name\n",
    "model = torch.load(f\"logs/{name}/checkpoint/trainedModel.pth\", map_location=torch.device('cpu'))"
   ]
  },
  {
   "cell_type": "markdown",
   "metadata": {},
   "source": [
    "# From input CpGs "
   ]
  },
  {
   "cell_type": "markdown",
   "metadata": {},
   "source": [
    "## All input CpGs (4671 CpGs)"
   ]
  },
  {
   "cell_type": "code",
   "execution_count": null,
   "metadata": {},
   "outputs": [],
   "source": [
    "fi_all, _ = RFregression(X_train=train_tensor[0].detach().numpy(), \n",
    "                         y_train=train_tensor[1].detach().numpy(),\n",
    "                         X_test=test_dataset[\"beta\"].values,\n",
    "                         y_test=test_dataset[\"pheno\"][\"Age\"].values,\n",
    "                         plot=True,\n",
    "                         color=\"red\")"
   ]
  },
  {
   "cell_type": "markdown",
   "metadata": {},
   "source": [
    "## Top xx input Cpgs\n",
    "\n",
    "- tried Recursive Feature Addition - too slow"
   ]
  },
  {
   "cell_type": "code",
   "execution_count": null,
   "metadata": {},
   "outputs": [],
   "source": [
    "### Test: with xx best CpGs (from input)\n",
    "i_best = 10\n",
    "cpgs_best = pd.DataFrame(fi_all, index=test_dataset[\"beta\"].columns).sort_values(by=0, ascending=False)[:i_best].index\n",
    "\n",
    "## parse only CpGs connected to latent feature \n",
    "X_train_latFeature = train_dataset[\"beta\"].loc[:,cpgs_best]\n",
    "y_train_latFeature = train_dataset[\"pheno\"][\"Age\"].values\n",
    "X_test_latFeature = test_dataset[\"beta\"].loc[:,cpgs_best]\n",
    "y_test_latFeature = test_dataset[\"pheno\"][\"Age\"].values\n",
    "\n",
    "## predict with those CpGs\n",
    "_, r2 = RFregression(X_train=X_train_latFeature, \n",
    "                                y_train=y_train_latFeature,\n",
    "                                X_test=X_test_latFeature,\n",
    "                                y_test=y_test_latFeature,\n",
    "                                plot=True,\n",
    "                                color=\"darkred\")\n",
    "\n",
    "print(cpgs_best)"
   ]
  },
  {
   "cell_type": "code",
   "execution_count": null,
   "metadata": {},
   "outputs": [],
   "source": [
    "### check which number of top features is best\n",
    "\n",
    "r2_tmp = []\n",
    "\n",
    "tmp = list(range(5,501, 5)) #0\n",
    "#tmp[0] += 1\n",
    "\n",
    "for i_best in tmp: \n",
    "    ### Test: with xx best CpGs (from input)\n",
    "    cpgs_best = pd.DataFrame(fi_all, index=test_dataset[\"beta\"].columns).sort_values(by=0, ascending=False)[:i_best].index\n",
    "\n",
    "    ## parse only CpGs connected to latent feature \n",
    "    X_train_latFeature = train_dataset[\"beta\"].loc[:,cpgs_best]\n",
    "    y_train_latFeature = train_dataset[\"pheno\"][\"Age\"].values\n",
    "    X_test_latFeature = test_dataset[\"beta\"].loc[:,cpgs_best]\n",
    "    y_test_latFeature = test_dataset[\"pheno\"][\"Age\"].values\n",
    "\n",
    "    ## predict with those CpGs\n",
    "    _, r2 = RFregression(X_train=X_train_latFeature, \n",
    "                                    y_train=y_train_latFeature,\n",
    "                                    X_test=X_test_latFeature,\n",
    "                                    y_test=y_test_latFeature,\n",
    "                                    plot=False,\n",
    "                                    color=\"darkred\")\n",
    "\n",
    "    r2_tmp.append(r2)\n",
    "\n",
    "\n",
    "fig, ax = plt.subplots(figsize=(8,5))\n",
    "sns.lineplot(x=tmp, y=r2_tmp, color=\"darkred\", marker=\"o\")\n",
    "ax.set_xlabel(\"Number of features\")\n",
    "ax.set_ylabel(\"R2\")\n",
    "ax.set_title(\"Optimal number of CpG features\")"
   ]
  },
  {
   "cell_type": "code",
   "execution_count": null,
   "metadata": {},
   "outputs": [],
   "source": [
    "np.argmax(r2_tmp)\n",
    "tmp[np.argmax(r2_tmp)]"
   ]
  },
  {
   "cell_type": "code",
   "execution_count": null,
   "metadata": {},
   "outputs": [],
   "source": [
    "### Test: with xx best CpGs (from input)\n",
    "i_best = tmp[np.argmax(r2_tmp)]\n",
    "cpgs_best = pd.DataFrame(fi_all, index=test_dataset[\"beta\"].columns).sort_values(by=0, ascending=False)[:i_best].index\n",
    "\n",
    "## parse only CpGs connected to latent feature \n",
    "X_train_latFeature = train_dataset[\"beta\"].loc[:,cpgs_best]\n",
    "y_train_latFeature = train_dataset[\"pheno\"][\"Age\"].values\n",
    "X_test_latFeature = test_dataset[\"beta\"].loc[:,cpgs_best]\n",
    "y_test_latFeature = test_dataset[\"pheno\"][\"Age\"].values\n",
    "\n",
    "## predict with those CpGs\n",
    "_, r2 = RFregression(X_train=X_train_latFeature, \n",
    "                                y_train=y_train_latFeature,\n",
    "                                X_test=X_test_latFeature,\n",
    "                                y_test=y_test_latFeature,\n",
    "                                plot=True,\n",
    "                                color=\"brown\")\n",
    "\n",
    "print(cpgs_best)"
   ]
  },
  {
   "cell_type": "markdown",
   "metadata": {},
   "source": [
    "## Everything except top xx CpGs (e.g. top 100)"
   ]
  },
  {
   "cell_type": "code",
   "execution_count": null,
   "metadata": {},
   "outputs": [],
   "source": [
    "i_best = 100\n",
    "### everything BUT best `i_best` features\n",
    "cpgs_best = pd.DataFrame(fi_all, index=test_dataset[\"beta\"].columns).sort_values(by=0, ascending=False)[i_best:].index\n",
    "\n",
    "\n",
    "## parse only CpGs connected to latent feature \n",
    "X_train_latFeature = train_dataset[\"beta\"].loc[:,cpgs_best]\n",
    "y_train_latFeature = train_dataset[\"pheno\"][\"Age\"].values\n",
    "X_test_latFeature = test_dataset[\"beta\"].loc[:,cpgs_best]\n",
    "y_test_latFeature = test_dataset[\"pheno\"][\"Age\"].values\n",
    "\n",
    "## predict with those CpGs\n",
    "_, r2 = RFregression(X_train=X_train_latFeature, \n",
    "                                y_train=y_train_latFeature,\n",
    "                                X_test=X_test_latFeature,\n",
    "                                y_test=y_test_latFeature,\n",
    "                                plot=True,\n",
    "                                color=\"tomato\")\n",
    "\n",
    "print(cpgs_best.shape)"
   ]
  },
  {
   "cell_type": "markdown",
   "metadata": {},
   "source": [
    "# From all latent space features"
   ]
  },
  {
   "cell_type": "code",
   "execution_count": null,
   "metadata": {},
   "outputs": [],
   "source": [
    "# Generate latent space\n",
    "with torch.no_grad():\n",
    "    latSpace_train = model.generate_embedding(train_tensor[0])\n",
    "    latSpace_test = model.generate_embedding(test_tensor)  \n",
    "\n",
    "fi, r2 = RFregression(X_train=latSpace_train, \n",
    "                     y_train=train_tensor[1].detach().numpy(),\n",
    "                     X_test=latSpace_test,\n",
    "                     y_test=test_dataset[\"pheno\"][\"Age\"].values,\n",
    "                     plot=True,\n",
    "                     color=\"orange\")\n",
    "\n",
    "df_fi = pd.DataFrame(fi, index=range(latSpace_train.size(1)), columns=[\"fi\"])\n",
    "#df_fi"
   ]
  },
  {
   "cell_type": "markdown",
   "metadata": {},
   "source": [
    "## Pre-experiment: permutation == deletion == perturbation?"
   ]
  },
  {
   "cell_type": "code",
   "execution_count": null,
   "metadata": {},
   "outputs": [],
   "source": [
    "### Pre-experiment: permutation == deletion == perturbation?\n",
    "\n",
    "latFeature_i = [14,15,16]\n",
    "print(f\"Permuted feature: {latFeature_i}\")\n",
    "\n",
    "### PERTURBATION\n",
    "with torch.no_grad():\n",
    "    latSpace_train_pert = model.generate_embedding(train_tensor[0])\n",
    "    latSpace_train_pert[:,latFeature_i] = latSpace_train_pert[:,latFeature_i] + 10 #3*latSpace_train_pert[:,latFeature_i].std()\n",
    "    #\n",
    "    latSpace_test_pert = model.generate_embedding(test_tensor)  \n",
    "    latSpace_test_pert[:,latFeature_i] = latSpace_test_pert[:,latFeature_i] + 10 #3*latSpace_test_pert[:,latFeature_i].std()\n",
    "\n",
    "print(latSpace_train_pert.shape)\n",
    "fi_perm, _ = RFregression(X_train=latSpace_train_pert, \n",
    "                          y_train=train_tensor[1].detach().numpy(),\n",
    "                          X_test=latSpace_test_pert,\n",
    "                          y_test=test_dataset[\"pheno\"][\"Age\"].values,\n",
    "                          plot=True,\n",
    "                          color=\"moccasin\")\n",
    "\n",
    "\n",
    "### PERMUTATION\n",
    "with torch.no_grad():\n",
    "    latSpace_train_perm = model.generate_embedding(train_tensor[0])\n",
    "    latSpace_train_perm[:,latFeature_i] = torch.tensor(np.random.permutation(latSpace_train_perm[:,latFeature_i]))\n",
    "    #\n",
    "    latSpace_test_perm = model.generate_embedding(test_tensor)  \n",
    "    latSpace_test_perm[:,latFeature_i] = torch.tensor(np.random.permutation(latSpace_test_perm[:,latFeature_i]))\n",
    "\n",
    "print(latSpace_train_perm.shape)\n",
    "fi_perm, _ = RFregression(X_train=latSpace_train_perm, \n",
    "                     y_train=train_tensor[1].detach().numpy(),\n",
    "                     X_test=latSpace_test_perm,\n",
    "                     y_test=test_dataset[\"pheno\"][\"Age\"].values,\n",
    "                     plot=True,\n",
    "                     color=\"gold\")\n",
    "\n",
    "### DELETION\n",
    "with torch.no_grad():\n",
    "    latSpace_train_del = model.generate_embedding(train_tensor[0])\n",
    "    latSpace_train_del = np.delete(latSpace_train_del, latFeature_i, axis=1)\n",
    "    #\n",
    "    latSpace_test_del = model.generate_embedding(test_tensor)  \n",
    "    latSpace_test_del = np.delete(latSpace_test_del, latFeature_i, axis=1)\n",
    "\n",
    "print(latSpace_train_del.shape)\n",
    "fi_perm, _ = RFregression(X_train=latSpace_train_del, \n",
    "                     y_train=train_tensor[1].detach().numpy(),\n",
    "                     X_test=latSpace_test_del,\n",
    "                     y_test=test_dataset[\"pheno\"][\"Age\"].values,\n",
    "                     plot=True,\n",
    "                     color=\"goldenrod\")\n"
   ]
  },
  {
   "cell_type": "markdown",
   "metadata": {},
   "source": [
    "## RFE latent features \n",
    "Trying to solve mystery that all features are important?!"
   ]
  },
  {
   "cell_type": "code",
   "execution_count": null,
   "metadata": {},
   "outputs": [],
   "source": [
    "latFeature_i = [np.argmax(fi)]\n",
    "\n",
    "dic_rfe = dict()\n",
    "for i in range(25):\n",
    "    print(f\"Permuted feature: {latFeature_i}\")\n",
    "    ### PERMUTATION\n",
    "    with torch.no_grad():\n",
    "        latSpace_train_perm = model.generate_embedding(train_tensor[0])\n",
    "        latSpace_train_perm[:,latFeature_i] = torch.tensor(np.random.permutation(latSpace_train_perm[:,latFeature_i]))\n",
    "        #\n",
    "        latSpace_test_perm = model.generate_embedding(test_tensor)  \n",
    "        latSpace_test_perm[:,latFeature_i] = torch.tensor(np.random.permutation(latSpace_test_perm[:,latFeature_i]))\n",
    "\n",
    "    ## plot every 5 features\n",
    "    if len(latFeature_i) % 5 == 0:\n",
    "        print(f\"Number of permuted features: {len(latFeature_i)} - {latFeature_i}\")\n",
    "        fi_perm, r2_perm = RFregression(X_train=latSpace_train_perm, \n",
    "                            y_train=train_tensor[1].detach().numpy(),\n",
    "                            X_test=latSpace_test_perm,\n",
    "                            y_test=test_dataset[\"pheno\"][\"Age\"].values,\n",
    "                            plot=True,\n",
    "                            color=\"dodgerblue\", \n",
    "                            title=f\"Number of permuted features: {len(latFeature_i)}\")   ## make it even nicer by coloring the perturbed ones?!\n",
    "        plt.show()\n",
    "    else:\n",
    "        fi_perm, r2_perm = RFregression(X_train=latSpace_train_perm, \n",
    "                            y_train=train_tensor[1].detach().numpy(),\n",
    "                            X_test=latSpace_test_perm,\n",
    "                            y_test=test_dataset[\"pheno\"][\"Age\"].values,\n",
    "                            plot=False)\n",
    "\n",
    "    dic_rfe[str(latFeature_i)] = r2_perm\n",
    "    latFeature_i.append(np.argmax(fi_perm))\n",
    "    \n",
    "    i += 1\n",
    "\n"
   ]
  },
  {
   "cell_type": "code",
   "execution_count": null,
   "metadata": {},
   "outputs": [],
   "source": [
    "fig, ax = plt.subplots(figsize=(8,5))\n",
    "sns.lineplot(y=dic_rfe.values(), \n",
    "             x=[len(list(dic_rfe.keys())[i].split(\",\")) for i in range(len(dic_rfe.keys()))],\n",
    "             marker=\"o\",\n",
    "             ax=ax,\n",
    "             color=\"dodgerblue\",\n",
    "             label=\"permuation\")\n",
    "ax.scatter(x=0, y=r2, color=\"dodgerblue\", label=\"no permutation\", marker=\"x\")\n",
    "ax.legend()\n",
    "ax.set_xlabel(\"Number of permutated features\")\n",
    "ax.set_ylabel(\"R2\")\n",
    "ax.set_title(\"Prediction accuracy upon latent feature permutation\")"
   ]
  },
  {
   "cell_type": "code",
   "execution_count": null,
   "metadata": {},
   "outputs": [],
   "source": [
    "dic_rfe\n"
   ]
  },
  {
   "cell_type": "markdown",
   "metadata": {},
   "source": [
    "# Predict with individual (best) latent features"
   ]
  },
  {
   "cell_type": "code",
   "execution_count": null,
   "metadata": {},
   "outputs": [],
   "source": [
    "# Generate latent space\n",
    "\n",
    "i = 0 #np.argmax(fi)\n",
    "\n",
    "with torch.no_grad():\n",
    "    latSpace_train = model.generate_embedding(train_tensor[0])\n",
    "    latSpace_test = model.generate_embedding(test_tensor)  \n",
    "\n",
    "print(f\"Latent space feature with highest importance: {i}\")\n",
    "latSpace_train_highest = latSpace_train[:,i].reshape(-1, 1)\n",
    "latSpace_test_highest = latSpace_test[:,i].reshape(-1, 1)    \n",
    "\n",
    "_, _ = RFregression(X_train=latSpace_train_highest, \n",
    "                     y_train=train_tensor[1].detach().numpy(),\n",
    "                     X_test=latSpace_test_highest,\n",
    "                     y_test=test_dataset[\"pheno\"][\"Age\"].values,\n",
    "                     plot=True,\n",
    "                     color=\"green\")"
   ]
  },
  {
   "cell_type": "markdown",
   "metadata": {},
   "source": [
    "# CpG connections"
   ]
  },
  {
   "cell_type": "markdown",
   "metadata": {},
   "source": [
    "## Connection of input CpGs with highest importance\n",
    "\n",
    "- connected to many latent features? --> **YES**"
   ]
  },
  {
   "cell_type": "code",
   "execution_count": null,
   "metadata": {},
   "outputs": [],
   "source": [
    "PATH_allcpgs = \"/home/sonja/PROJECTS/VAE_methylation/perturbations/results/optLatSize/latSize_25/quantileCutoff_CpGfocus.csv\"\n",
    "connections_allcpgs = pd.read_csv(PATH_allcpgs, header=0, index_col=0)"
   ]
  },
  {
   "cell_type": "code",
   "execution_count": null,
   "metadata": {},
   "outputs": [],
   "source": [
    "connections_allcpgs"
   ]
  },
  {
   "cell_type": "code",
   "execution_count": null,
   "metadata": {},
   "outputs": [],
   "source": [
    "i_best = 50 #4671\n",
    "best_cpgs = pd.DataFrame(fi_all, index=test_dataset[\"beta\"].columns).sort_values(by=0, ascending=False)[:i_best].index\n",
    "#print(best_cpgs)\n",
    "\n",
    "### DENSITY\n",
    "fig, (ax, ax2) = plt.subplots(1,2,figsize=(16,6))\n",
    "## all CpGs\n",
    "sns.kdeplot(data=connections_allcpgs.sum(axis=0), label=\"all CpGs\", ax=ax)\n",
    "## best CpGs\n",
    "sns.kdeplot(data=connections_allcpgs.loc[:,best_cpgs].sum(axis=0), label=\"most important CpGs\", ax=ax)\n",
    "## same number of randomly drawn CpGs\n",
    "sns.kdeplot(data=connections_allcpgs.iloc[:,np.random.randint(len(connections_allcpgs.columns), size=i_best)].sum(axis=0), label=\"random CpGs\", ax=ax)\n",
    "ax.legend()\n",
    "ax.set_title(\"Connectedness of important CpGs \\n(per CpG)\")\n",
    "\n",
    "### PER LATENT FEATURE\n",
    "sns.barplot(y=connections_allcpgs.loc[:,best_cpgs].sum(axis=1), \n",
    "            x=connections_allcpgs.index, \n",
    "            ax=ax2)\n",
    "ax2.set_xticklabels(connections_allcpgs.index,rotation=90)\n",
    "ax2.set_ylabel(\"Sum of Connectedness of all CpGs\")\n",
    "ax2.set_title(\"Connectedness of important CpGs \\n(per latent feature)\")\n",
    "plt.suptitle(f\"Top {i_best} CpGs\", fontsize=20, fontweight =\"bold\", y=1.05)\n",
    "plt.show()\n",
    "\n",
    "print(\"Order of latent feature permutations:\")\n",
    "print(list(dic_rfe.keys())[-1])"
   ]
  },
  {
   "cell_type": "markdown",
   "metadata": {},
   "source": [
    "## Retrieve CpG connections for all features\n",
    "\n",
    "- retrieve CpGs (high effect of perturbation?) for each latent feature\n",
    "- replicate old findings "
   ]
  },
  {
   "cell_type": "markdown",
   "metadata": {},
   "source": [
    "## For all features"
   ]
  },
  {
   "cell_type": "code",
   "execution_count": null,
   "metadata": {},
   "outputs": [],
   "source": [
    "### Test: with CpGs from another (unimportant) latent feature\n",
    "\n",
    "all_r2 = []\n",
    "all_fi = []\n",
    "dic = dict()\n",
    "for latFeature_i in range(25): #25\n",
    "\n",
    "    print(f\"Latent space feature: {latFeature_i}\")\n",
    "    PATH_pert= f\"/home/sonja/PROJECTS/VAE_methylation/perturbations/results/optLatSize/latSize_25/latFeature_{latFeature_i}\"\n",
    "\n",
    "    cpgs = pd.read_csv(f\"{PATH_pert}/cpgs_high.txt\", header=None) #cpgs_high_medium_low.txt\n",
    "    print(f\"Number of CpGs connected: {cpgs.shape[0]}\")\n",
    "\n",
    "    ## parse only CpGs connected to latent feature \n",
    "    X_train_latFeature = train_dataset[\"beta\"].loc[:,cpgs[0]]\n",
    "    y_train_latFeature = train_dataset[\"pheno\"][\"Age\"].values\n",
    "\n",
    "    X_test_latFeature = test_dataset[\"beta\"].loc[:,cpgs[0]]\n",
    "    y_test_latFeature = test_dataset[\"pheno\"][\"Age\"].values\n",
    "\n",
    "    ## predict with those CpGs\n",
    "    fi_tmp, r2 = RFregression(X_train=X_train_latFeature, \n",
    "                                    y_train=y_train_latFeature,\n",
    "                                    X_test=X_test_latFeature,\n",
    "                                    y_test=y_test_latFeature,\n",
    "                                    plot=False)\n",
    "                                    #color=\"lightblue\")\n",
    "    print(r2)\n",
    "\n",
    "    all_fi.append(fi_tmp)\n",
    "    all_r2.append(r2)\n",
    "    dic[latFeature_i] = cpgs[0].tolist()\n",
    "\n",
    "print(all_r2)"
   ]
  },
  {
   "cell_type": "code",
   "execution_count": null,
   "metadata": {},
   "outputs": [],
   "source": [
    "all_r2"
   ]
  },
  {
   "cell_type": "code",
   "execution_count": null,
   "metadata": {},
   "outputs": [],
   "source": [
    "### TROUBLE PLOT\n",
    "\n",
    "fig, ax = plt.subplots(figsize=(8,5))\n",
    "sns.barplot(x=list(range(len(all_r2))), y=all_r2, ax=ax)\n",
    "ax.set_xlabel('Number of latent feature')\n",
    "ax.set_ylabel('R2')\n",
    "ax.set_title('Prediction with CpGs (high effect) for each latent feature')\n",
    "#ax.set_ylim(0.6, 0.8)"
   ]
  },
  {
   "cell_type": "markdown",
   "metadata": {},
   "source": [
    "### Analyse in more detail why retrieved latent feature CpGs perform so similar\n",
    "\n",
    "There should be a difference in mapped CpGs -- therefore also a difference in prediction performance...\n",
    "--> we don't see this!\n",
    "\n",
    "- we see that important CpGs have high connectivity and are mapped together in features (resulting in a high degree of connectedness for the features)\n",
    "- if latent feature inspected alone: diluted and unclear picture -- perturbation deliver too broad results?!"
   ]
  },
  {
   "cell_type": "code",
   "execution_count": null,
   "metadata": {},
   "outputs": [],
   "source": [
    "# def runRFR(cpglist, title, c):\n",
    "#     ## parse only CpGs connected to latent feature \n",
    "#     X_train_latFeature = train_dataset[\"beta\"].loc[:,cpglist]\n",
    "#     y_train_latFeature = train_dataset[\"pheno\"][\"Age\"].values\n",
    "#     X_test_latFeature = test_dataset[\"beta\"].loc[:,cpglist]\n",
    "#     y_test_latFeature = test_dataset[\"pheno\"][\"Age\"].values\n",
    "\n",
    "#     ## predict with those CpGs\n",
    "#     fi, r2 = RFregression(X_train=X_train_latFeature, \n",
    "#                                     y_train=y_train_latFeature,\n",
    "#                                     X_test=X_test_latFeature,\n",
    "#                                     y_test=y_test_latFeature,\n",
    "#                                     plot=True,\n",
    "#                                     color=c,\n",
    "#                                     title=title)\n",
    "#     plt.show()"
   ]
  },
  {
   "cell_type": "code",
   "execution_count": null,
   "metadata": {},
   "outputs": [],
   "source": [
    "## load feature importances of all CpGs\n",
    "df_fi = pd.DataFrame(fi_all, index=test_dataset[\"beta\"].columns).sort_values(by=0, ascending=False)\n",
    "df_fi['idx'] = range(df_fi.shape[0])"
   ]
  },
  {
   "cell_type": "code",
   "execution_count": null,
   "metadata": {},
   "outputs": [],
   "source": [
    "### CpGs overlapping between features\n",
    "\n",
    "#[12, 13, 3, 23, 11, 2, 15, 18, 22, 21, 5, 20, 14, 19, 9, 10, 24, 8, 1, 17, 16, 4, 7, 6, 10]\n",
    "\n",
    "cpgs_0 = dic[10]   ### This feature is very very unimportant for prediction - should have worthless CpGs connected to it \n",
    "cpgs_15 = dic[12]   ### This feature is important for prediction - should have important CpGs connected to it \n",
    "cpgs_3 = dic[13]     ### Another important feature\n",
    "cpgs_10 = dic[4]     ### Unimportant feature\n",
    "\n",
    "## 1. CpGs overlapping between important and unimportant features             ## Overlapping CpGs are not important at all - they can not be the reason for the same performance\n",
    "print([i for i in cpgs_15 if i in cpgs_0])\n",
    "print(df_fi.loc[[i for i in cpgs_15 if i in cpgs_0],:])     \n",
    "\n",
    "## 1B. CpGs overlapping between important features\n",
    "print([i for i in cpgs_15 if i in cpgs_3])\n",
    "print(df_fi.loc[[i for i in cpgs_15 if i in cpgs_3],:])   \n",
    "\n",
    "## 1c. CpGs overlapping between unimportant features\n",
    "print([i for i in cpgs_0 if i in cpgs_10])\n",
    "print(df_fi.loc[[i for i in cpgs_0 if i in cpgs_10],:])   \n"
   ]
  },
  {
   "cell_type": "markdown",
   "metadata": {},
   "source": [
    "## For a selected latent feature (e.g. 12)"
   ]
  },
  {
   "cell_type": "code",
   "execution_count": null,
   "metadata": {},
   "outputs": [],
   "source": [
    "latFeature_i = 12\n",
    "\n",
    "print(f\"Latent space feature with highest importance: {latFeature_i}\")\n",
    "PATH_pert= f\"/home/sonja/PROJECTS/VAE_methylation/perturbations/results/optLatSize/latSize_25/latFeature_{latFeature_i}\"\n",
    "\n",
    "cpgs = pd.read_csv(f\"{PATH_pert}/cpgs_high.txt\", header=None) #cpgs_high_medium_low.txt\n",
    "print(f\"Number of CpGs connected: {cpgs.shape[0]}\")\n",
    "\n",
    "## parse only CpGs connected to latent feature \n",
    "X_train_latFeature = train_dataset[\"beta\"].loc[:,cpgs[0]]\n",
    "y_train_latFeature = train_dataset[\"pheno\"][\"Age\"].values\n",
    "\n",
    "X_test_latFeature = test_dataset[\"beta\"].loc[:,cpgs[0]]\n",
    "y_test_latFeature = test_dataset[\"pheno\"][\"Age\"].values\n",
    "\n",
    "## predict with those CpGs\n",
    "fi_i, r2_cpgRetrieved = RFregression(X_train=X_train_latFeature, \n",
    "                    y_train=y_train_latFeature,\n",
    "                    X_test=X_test_latFeature,\n",
    "                    y_test=y_test_latFeature,\n",
    "                    plot=True,\n",
    "                    color=\"blue\",\n",
    "                    title=f\"{len(cpgs[0])} CpGs of latent feature: {latFeature_i}\")"
   ]
  },
  {
   "cell_type": "markdown",
   "metadata": {},
   "source": [
    "## For randomly selected CpGs (with same number of CpGs as latent features)"
   ]
  },
  {
   "cell_type": "code",
   "execution_count": null,
   "metadata": {},
   "outputs": [],
   "source": [
    "all_r2_random = []\n",
    "\n",
    "for i_iter in range(30):\n",
    "    ### Test: with xx random CpGs (same as best latent feature)\n",
    "    i = len(fi_i)\n",
    "    cpgs = np.random.choice(train_dataset[\"beta\"].columns, i)\n",
    "\n",
    "\n",
    "    ## parse only CpGs connected to latent feature \n",
    "    X_train_latFeature = train_dataset[\"beta\"].loc[:,cpgs]\n",
    "    y_train_latFeature = train_dataset[\"pheno\"][\"Age\"].values\n",
    "\n",
    "    X_test_latFeature = test_dataset[\"beta\"].loc[:,cpgs]\n",
    "    y_test_latFeature = test_dataset[\"pheno\"][\"Age\"].values\n",
    "\n",
    "    ## predict with those CpGs\n",
    "    _, r2 = RFregression(X_train=X_train_latFeature, \n",
    "                                    y_train=y_train_latFeature,\n",
    "                                    X_test=X_test_latFeature,\n",
    "                                    y_test=y_test_latFeature,\n",
    "                                    plot=False)\n",
    "                                    # plot=True,\n",
    "                                    # color=\"cyan\")\n",
    "    all_r2_random.append(r2)"
   ]
  },
  {
   "cell_type": "code",
   "execution_count": null,
   "metadata": {},
   "outputs": [],
   "source": [
    "fig, ax = plt.subplots(figsize=(7,7))\n",
    "\n",
    "print(np.array(all_r2_random).mean(), np.array(all_r2_random).std())\n",
    "\n",
    "sns.violinplot(data=all_r2_random, color=\"cornflowerblue\", inner=\"point\") #\"cornflowerblue\"\n",
    "ax.hlines(r2_cpgRetrieved, -0.5,0.5, color=\"red\", linestyles='dashed')\n",
    "ax.set_title(f\"R2 of {len(fi_i)} random CpGs\")\n",
    "ax.set_xticklabels(\"\")\n",
    "plt.show()\n",
    "\n",
    "print(np.array(all_r2_random).mean(), np.median(all_r2_random),np.array(all_r2_random).std())"
   ]
  },
  {
   "cell_type": "code",
   "execution_count": null,
   "metadata": {},
   "outputs": [],
   "source": [
    "np.mean(all_r2_random)"
   ]
  },
  {
   "cell_type": "markdown",
   "metadata": {},
   "source": [
    "# Idea: always put accuracy in relation to R2 of random CpGs\n",
    "\n",
    "because age prediction is so messy..."
   ]
  },
  {
   "cell_type": "code",
   "execution_count": 6,
   "metadata": {},
   "outputs": [
    {
     "name": "stdout",
     "output_type": "stream",
     "text": [
      "Latent space feature with highest importance: 0\n",
      "Latent space feature with highest importance: 1\n",
      "Latent space feature with highest importance: 2\n",
      "Latent space feature with highest importance: 3\n",
      "Latent space feature with highest importance: 4\n",
      "Latent space feature with highest importance: 5\n",
      "Latent space feature with highest importance: 6\n",
      "Latent space feature with highest importance: 7\n",
      "Latent space feature with highest importance: 8\n",
      "Latent space feature with highest importance: 9\n",
      "Latent space feature with highest importance: 10\n",
      "Latent space feature with highest importance: 11\n",
      "Latent space feature with highest importance: 12\n",
      "Latent space feature with highest importance: 13\n",
      "Latent space feature with highest importance: 14\n",
      "Latent space feature with highest importance: 15\n",
      "Latent space feature with highest importance: 16\n",
      "Latent space feature with highest importance: 17\n",
      "Latent space feature with highest importance: 18\n",
      "Latent space feature with highest importance: 19\n",
      "Latent space feature with highest importance: 20\n",
      "Latent space feature with highest importance: 21\n",
      "Latent space feature with highest importance: 22\n",
      "Latent space feature with highest importance: 23\n",
      "Latent space feature with highest importance: 24\n",
      "[-0.2534398407791656, -0.47484716359849144, -0.6003814882203817, 0.32720821782994114, -0.34097971570978136, -0.04402906995668121, 0.014941383477061754, -0.3241509108159608, -0.44437171480563764, -0.7325386577129742, -0.23259742732230415, -0.29874530223003015, -0.06768691349405742, 0.07953832403820305, 0.1814457289514796, 0.44149982976921454, -0.15641383138293907, 0.17865426708860033, -0.24927939844693325, 0.30482024303151345, 0.17946041096188303, -0.6170926761849718, -0.6739207506566487, -0.23562502481816971, -0.4695904400318167]\n"
     ]
    }
   ],
   "source": [
    "## 1. derive prediction for each latent feature only\n",
    "\n",
    "all_r2_latFeature = []\n",
    "\n",
    "for latFeature_i in range(25): #25\n",
    "    with torch.no_grad():\n",
    "        latSpace_train = model.generate_embedding(train_tensor[0])\n",
    "        latSpace_test = model.generate_embedding(test_tensor)  \n",
    "\n",
    "    print(f\"Latent space feature with highest importance: {latFeature_i}\")\n",
    "    latSpace_train_highest = latSpace_train[:,latFeature_i].reshape(-1, 1)\n",
    "    latSpace_test_highest = latSpace_test[:,latFeature_i].reshape(-1, 1)    \n",
    "\n",
    "    _, r2 = RFregression(X_train=latSpace_train_highest, \n",
    "                        y_train=train_tensor[1].detach().numpy(),\n",
    "                        X_test=latSpace_test_highest,\n",
    "                        y_test=test_dataset[\"pheno\"][\"Age\"].values,\n",
    "                        plot=False,\n",
    "                        color=\"green\")\n",
    "    all_r2_latFeature.append(r2)\n",
    "\n",
    "print(all_r2_latFeature)"
   ]
  },
  {
   "cell_type": "code",
   "execution_count": 11,
   "metadata": {},
   "outputs": [
    {
     "name": "stdout",
     "output_type": "stream",
     "text": [
      "/home/sonja/PROJECTS/VAE_methylation/perturbations/results/optLatSize/latSize_25/latFeature_0\n",
      "Number of CpGs connected: 108\n",
      "/home/sonja/PROJECTS/VAE_methylation/perturbations/results/optLatSize/latSize_25/latFeature_1\n",
      "Number of CpGs connected: 110\n",
      "/home/sonja/PROJECTS/VAE_methylation/perturbations/results/optLatSize/latSize_25/latFeature_2\n",
      "Number of CpGs connected: 82\n",
      "/home/sonja/PROJECTS/VAE_methylation/perturbations/results/optLatSize/latSize_25/latFeature_3\n",
      "Number of CpGs connected: 68\n",
      "/home/sonja/PROJECTS/VAE_methylation/perturbations/results/optLatSize/latSize_25/latFeature_4\n",
      "Number of CpGs connected: 78\n",
      "/home/sonja/PROJECTS/VAE_methylation/perturbations/results/optLatSize/latSize_25/latFeature_5\n",
      "Number of CpGs connected: 49\n",
      "/home/sonja/PROJECTS/VAE_methylation/perturbations/results/optLatSize/latSize_25/latFeature_6\n",
      "Number of CpGs connected: 49\n",
      "/home/sonja/PROJECTS/VAE_methylation/perturbations/results/optLatSize/latSize_25/latFeature_7\n",
      "Number of CpGs connected: 55\n",
      "/home/sonja/PROJECTS/VAE_methylation/perturbations/results/optLatSize/latSize_25/latFeature_8\n",
      "Number of CpGs connected: 22\n",
      "/home/sonja/PROJECTS/VAE_methylation/perturbations/results/optLatSize/latSize_25/latFeature_9\n",
      "Number of CpGs connected: 22\n",
      "/home/sonja/PROJECTS/VAE_methylation/perturbations/results/optLatSize/latSize_25/latFeature_10\n",
      "Number of CpGs connected: 98\n",
      "/home/sonja/PROJECTS/VAE_methylation/perturbations/results/optLatSize/latSize_25/latFeature_11\n",
      "Number of CpGs connected: 38\n",
      "/home/sonja/PROJECTS/VAE_methylation/perturbations/results/optLatSize/latSize_25/latFeature_12\n",
      "Number of CpGs connected: 58\n",
      "/home/sonja/PROJECTS/VAE_methylation/perturbations/results/optLatSize/latSize_25/latFeature_13\n",
      "Number of CpGs connected: 66\n",
      "/home/sonja/PROJECTS/VAE_methylation/perturbations/results/optLatSize/latSize_25/latFeature_14\n",
      "Number of CpGs connected: 78\n",
      "/home/sonja/PROJECTS/VAE_methylation/perturbations/results/optLatSize/latSize_25/latFeature_15\n",
      "Number of CpGs connected: 70\n",
      "/home/sonja/PROJECTS/VAE_methylation/perturbations/results/optLatSize/latSize_25/latFeature_16\n",
      "Number of CpGs connected: 71\n",
      "/home/sonja/PROJECTS/VAE_methylation/perturbations/results/optLatSize/latSize_25/latFeature_17\n",
      "Number of CpGs connected: 63\n",
      "/home/sonja/PROJECTS/VAE_methylation/perturbations/results/optLatSize/latSize_25/latFeature_18\n",
      "Number of CpGs connected: 40\n",
      "/home/sonja/PROJECTS/VAE_methylation/perturbations/results/optLatSize/latSize_25/latFeature_19\n",
      "Number of CpGs connected: 70\n",
      "/home/sonja/PROJECTS/VAE_methylation/perturbations/results/optLatSize/latSize_25/latFeature_20\n",
      "Number of CpGs connected: 80\n",
      "/home/sonja/PROJECTS/VAE_methylation/perturbations/results/optLatSize/latSize_25/latFeature_21\n",
      "Number of CpGs connected: 68\n",
      "/home/sonja/PROJECTS/VAE_methylation/perturbations/results/optLatSize/latSize_25/latFeature_22\n",
      "Number of CpGs connected: 93\n",
      "/home/sonja/PROJECTS/VAE_methylation/perturbations/results/optLatSize/latSize_25/latFeature_23\n",
      "Number of CpGs connected: 94\n",
      "/home/sonja/PROJECTS/VAE_methylation/perturbations/results/optLatSize/latSize_25/latFeature_24\n",
      "Number of CpGs connected: 99\n",
      "[0.6834866030294534, 0.6933620520512043, 0.6716871681420993, 0.7564743591510206, 0.6049373431911691, 0.644777399648643, 0.5379067112176755, 0.6967073916830233, 0.22732075512014238, 0.14893917951828628, 0.6571881427402418, 0.43304273296290163, 0.6835766871949231, 0.6025798640007782, 0.7776641194614051, 0.7695009716911492, 0.6306397927107714, 0.7384774485639567, 0.4226420763829678, 0.7834375009127272, 0.66518425600998, 0.6083643253314717, 0.5983838498549365, 0.6117542954375084, 0.673335705260628]\n"
     ]
    }
   ],
   "source": [
    "## 2. derive prediction for each latent feature with retrieved cpgs\n",
    "\n",
    "all_r2_cpgRetrieved=[]\n",
    "for latFeature_i in range(25): #25\n",
    "\n",
    "    PATH_pert= f\"/home/sonja/PROJECTS/VAE_methylation/perturbations/results/optLatSize/latSize_25/latFeature_{latFeature_i}\"\n",
    "    print(PATH_pert)\n",
    "\n",
    "    cpgs = pd.read_csv(f\"{PATH_pert}/cpgs_high.txt\", header=None) #cpgs_high_medium_low.txt\n",
    "    print(f\"Number of CpGs connected: {cpgs.shape[0]}\")\n",
    "\n",
    "    ## parse only CpGs connected to latent feature \n",
    "    X_train_latFeature = train_dataset[\"beta\"].loc[:,cpgs[0]]\n",
    "    y_train_latFeature = train_dataset[\"pheno\"][\"Age\"].values\n",
    "\n",
    "    X_test_latFeature = test_dataset[\"beta\"].loc[:,cpgs[0]]\n",
    "    y_test_latFeature = test_dataset[\"pheno\"][\"Age\"].values\n",
    "\n",
    "    ## predict with those CpGs\n",
    "    fi_i, r2_cpgRetrieved = RFregression(X_train=X_train_latFeature, \n",
    "                        y_train=y_train_latFeature,\n",
    "                        X_test=X_test_latFeature,\n",
    "                        y_test=y_test_latFeature,\n",
    "                        plot=False,\n",
    "                        color=\"blue\",\n",
    "                        title=f\"{len(cpgs[0])} CpGs of latent feature: {latFeature_i}\")\n",
    "\n",
    "    all_r2_cpgRetrieved.append(r2_cpgRetrieved)\n",
    "\n",
    "print(all_r2_cpgRetrieved)"
   ]
  },
  {
   "cell_type": "code",
   "execution_count": 12,
   "metadata": {},
   "outputs": [
    {
     "name": "stdout",
     "output_type": "stream",
     "text": [
      "/home/sonja/PROJECTS/VAE_methylation/perturbations/results/optLatSize/latSize_25/latFeature_0\n",
      "Number of CpGs connected: 108\n",
      "/home/sonja/PROJECTS/VAE_methylation/perturbations/results/optLatSize/latSize_25/latFeature_1\n",
      "Number of CpGs connected: 110\n",
      "/home/sonja/PROJECTS/VAE_methylation/perturbations/results/optLatSize/latSize_25/latFeature_2\n",
      "Number of CpGs connected: 82\n",
      "/home/sonja/PROJECTS/VAE_methylation/perturbations/results/optLatSize/latSize_25/latFeature_3\n",
      "Number of CpGs connected: 68\n",
      "/home/sonja/PROJECTS/VAE_methylation/perturbations/results/optLatSize/latSize_25/latFeature_4\n",
      "Number of CpGs connected: 78\n",
      "/home/sonja/PROJECTS/VAE_methylation/perturbations/results/optLatSize/latSize_25/latFeature_5\n",
      "Number of CpGs connected: 49\n",
      "/home/sonja/PROJECTS/VAE_methylation/perturbations/results/optLatSize/latSize_25/latFeature_6\n",
      "Number of CpGs connected: 49\n",
      "/home/sonja/PROJECTS/VAE_methylation/perturbations/results/optLatSize/latSize_25/latFeature_7\n",
      "Number of CpGs connected: 55\n",
      "/home/sonja/PROJECTS/VAE_methylation/perturbations/results/optLatSize/latSize_25/latFeature_8\n",
      "Number of CpGs connected: 22\n",
      "/home/sonja/PROJECTS/VAE_methylation/perturbations/results/optLatSize/latSize_25/latFeature_9\n",
      "Number of CpGs connected: 22\n",
      "/home/sonja/PROJECTS/VAE_methylation/perturbations/results/optLatSize/latSize_25/latFeature_10\n",
      "Number of CpGs connected: 98\n",
      "/home/sonja/PROJECTS/VAE_methylation/perturbations/results/optLatSize/latSize_25/latFeature_11\n",
      "Number of CpGs connected: 38\n",
      "/home/sonja/PROJECTS/VAE_methylation/perturbations/results/optLatSize/latSize_25/latFeature_12\n",
      "Number of CpGs connected: 58\n",
      "/home/sonja/PROJECTS/VAE_methylation/perturbations/results/optLatSize/latSize_25/latFeature_13\n",
      "Number of CpGs connected: 66\n",
      "/home/sonja/PROJECTS/VAE_methylation/perturbations/results/optLatSize/latSize_25/latFeature_14\n",
      "Number of CpGs connected: 78\n",
      "/home/sonja/PROJECTS/VAE_methylation/perturbations/results/optLatSize/latSize_25/latFeature_15\n",
      "Number of CpGs connected: 70\n",
      "/home/sonja/PROJECTS/VAE_methylation/perturbations/results/optLatSize/latSize_25/latFeature_16\n",
      "Number of CpGs connected: 71\n",
      "/home/sonja/PROJECTS/VAE_methylation/perturbations/results/optLatSize/latSize_25/latFeature_17\n",
      "Number of CpGs connected: 63\n",
      "/home/sonja/PROJECTS/VAE_methylation/perturbations/results/optLatSize/latSize_25/latFeature_18\n",
      "Number of CpGs connected: 40\n",
      "/home/sonja/PROJECTS/VAE_methylation/perturbations/results/optLatSize/latSize_25/latFeature_19\n",
      "Number of CpGs connected: 70\n",
      "/home/sonja/PROJECTS/VAE_methylation/perturbations/results/optLatSize/latSize_25/latFeature_20\n",
      "Number of CpGs connected: 80\n",
      "/home/sonja/PROJECTS/VAE_methylation/perturbations/results/optLatSize/latSize_25/latFeature_21\n",
      "Number of CpGs connected: 68\n",
      "/home/sonja/PROJECTS/VAE_methylation/perturbations/results/optLatSize/latSize_25/latFeature_22\n",
      "Number of CpGs connected: 93\n",
      "/home/sonja/PROJECTS/VAE_methylation/perturbations/results/optLatSize/latSize_25/latFeature_23\n",
      "Number of CpGs connected: 94\n",
      "/home/sonja/PROJECTS/VAE_methylation/perturbations/results/optLatSize/latSize_25/latFeature_24\n",
      "Number of CpGs connected: 99\n"
     ]
    }
   ],
   "source": [
    "## 3. Predictions using same number of random CpGs (median of distribution)\n",
    "\n",
    "all_r2_random = []\n",
    "\n",
    "for latFeature_i in range(25): #25\n",
    "\n",
    "    PATH_pert= f\"/home/sonja/PROJECTS/VAE_methylation/perturbations/results/optLatSize/latSize_25/latFeature_{latFeature_i}\"\n",
    "    print(PATH_pert)\n",
    "\n",
    "    cpgs = pd.read_csv(f\"{PATH_pert}/cpgs_high.txt\", header=None) #cpgs_high_medium_low.txt\n",
    "    print(f\"Number of CpGs connected: {cpgs.shape[0]}\")\n",
    "\n",
    "    random=[]\n",
    "    for i_iter in range(30):\n",
    "        ### Test: with xx random CpGs (same as best latent feature)\n",
    "        i = cpgs.shape[0]\n",
    "        cpgs = np.random.choice(train_dataset[\"beta\"].columns, i)\n",
    "\n",
    "\n",
    "        ## parse only CpGs connected to latent feature \n",
    "        X_train_latFeature = train_dataset[\"beta\"].loc[:,cpgs]\n",
    "        y_train_latFeature = train_dataset[\"pheno\"][\"Age\"].values\n",
    "\n",
    "        X_test_latFeature = test_dataset[\"beta\"].loc[:,cpgs]\n",
    "        y_test_latFeature = test_dataset[\"pheno\"][\"Age\"].values\n",
    "\n",
    "        ## predict with those CpGs\n",
    "        _, r2 = RFregression(X_train=X_train_latFeature, \n",
    "                                        y_train=y_train_latFeature,\n",
    "                                        X_test=X_test_latFeature,\n",
    "                                        y_test=y_test_latFeature,\n",
    "                                        plot=False)\n",
    "                                        # plot=True,\n",
    "                                        # color=\"cyan\")\n",
    "        random.append(r2)\n",
    "\n",
    "    all_r2_random.append(np.median(random))"
   ]
  },
  {
   "cell_type": "code",
   "execution_count": null,
   "metadata": {},
   "outputs": [],
   "source": [
    "all_r2_latFeature"
   ]
  },
  {
   "cell_type": "code",
   "execution_count": null,
   "metadata": {},
   "outputs": [],
   "source": [
    "all_r2_cpgRetrieved"
   ]
  },
  {
   "cell_type": "code",
   "execution_count": null,
   "metadata": {},
   "outputs": [],
   "source": [
    "all_r2_random\n"
   ]
  },
  {
   "cell_type": "code",
   "execution_count": 15,
   "metadata": {},
   "outputs": [
    {
     "data": {
      "text/plain": [
       "(-0.5, 1.0)"
      ]
     },
     "execution_count": 15,
     "metadata": {},
     "output_type": "execute_result"
    },
    {
     "data": {
      "image/png": "[encoded data removed]",
      "text/plain": [
       "<Figure size 720x720 with 1 Axes>"
      ]
     },
     "metadata": {
      "needs_background": "light"
     },
     "output_type": "display_data"
    }
   ],
   "source": [
    "fig, ax = plt.subplots(figsize=(10,10))\n",
    "\n",
    "xs = np.arange(25)\n",
    "width = 0.35 \n",
    "rects1 = ax.bar(xs - width/2, all_r2_latFeature, width, label='x', color=\"darkblue\")\n",
    "rects2 = ax.bar(xs + width/2, all_r2_cpgRetrieved, width, label='x2',color=\"dodgerblue\")\n",
    "for x in xs:\n",
    "    ax.hlines(xmin=x+width/2-0.2, xmax=x+width/2+0.2, y=all_r2_random[x], linestyles='--', linewidth=2, color='r')\n",
    "\n",
    "ax.set_ylim(-0.5, 1)"
   ]
  },
  {
   "cell_type": "code",
   "execution_count": 16,
   "metadata": {},
   "outputs": [
    {
     "data": {
      "text/plain": [
       "<matplotlib.legend.Legend at 0x7f90eddd0130>"
      ]
     },
     "execution_count": 16,
     "metadata": {},
     "output_type": "execute_result"
    },
    {
     "data": {
      "image/png": "[encoded data removed]",
      "text/plain": [
       "<Figure size 720x720 with 1 Axes>"
      ]
     },
     "metadata": {
      "needs_background": "light"
     },
     "output_type": "display_data"
    }
   ],
   "source": [
    "delta_gain = np.array(all_r2_cpgRetrieved) - all_r2_random\n",
    "\n",
    "fig, ax = plt.subplots(figsize=(10,10))\n",
    "\n",
    "x = np.arange(25)\n",
    "width = 0.35 \n",
    "\n",
    "rects1 = ax.bar(x - width/2, all_r2_latFeature, width, color=\"darkblue\", label=\"R2 w/ latFeature\")\n",
    "rects2 = ax.bar(x + width/2, delta_gain, width, color=\"dodgerblue\", label=\"R2 (recoveredCpG - randomCpG)\")\n",
    "ax.set_ylim(-0.5, 0.8)\n",
    "ax.legend()"
   ]
  },
  {
   "cell_type": "markdown",
   "metadata": {},
   "source": [
    "## Investigate CpGs from important latSpace Features\n",
    "\n",
    "1. check overlap between l1_regularisaton and no regularisation (explains difference in `delta_gain`?)\n",
    "2. overlap with EWAS CpGs?"
   ]
  },
  {
   "cell_type": "code",
   "execution_count": 7,
   "metadata": {},
   "outputs": [
    {
     "data": {
      "text/plain": [
       "[3, 6, 13, 14, 15, 17, 19, 20]"
      ]
     },
     "execution_count": 7,
     "metadata": {},
     "output_type": "execute_result"
    },
    {
     "data": {
      "image/png": "[encoded data removed]",
      "text/plain": [
       "<Figure size 432x288 with 1 Axes>"
      ]
     },
     "metadata": {
      "needs_background": "light"
     },
     "output_type": "display_data"
    }
   ],
   "source": [
    "fig, ax = plt.subplots()\n",
    "ax.bar(range(25), all_r2_latFeature)\n",
    "\n",
    "[i for i,x in enumerate(all_r2_latFeature) if x > 0]\n"
   ]
  },
  {
   "cell_type": "code",
   "execution_count": 10,
   "metadata": {},
   "outputs": [],
   "source": [
    "### Read in EWAS results from EWAS cataloge (all results!)\n",
    "ewas = pd.read_table(\"data/results.txt\", low_memory=False)\n",
    "studies = pd.read_table(\"data/studies.txt\")\n",
    "\n",
    "### Only include studies carreid out in Whole blood and measuring Age \n",
    "studies_filtered = studies[(studies[\"Tissue\"] == \"Whole blood\") & (studies[\"Trait\"].str.contains(\"age\", case=False))]\n",
    "ewas_studies = ewas[ewas[\"StudyID\"].isin(studies_filtered[\"StudyID\"])]"
   ]
  },
  {
   "cell_type": "code",
   "execution_count": 13,
   "metadata": {},
   "outputs": [
    {
     "name": "stdout",
     "output_type": "stream",
     "text": [
      "\n",
      "LatFeature: 15\n",
      "Number of not significant CpGs in cluster: 4 \t Ratio significant: 0.95\n",
      "['cg11141652', 'cg04234412', 'cg27376941', 'cg17005068']\n",
      "\n",
      "LatFeature: 5\n",
      "Number of not significant CpGs in cluster: 4 \t Ratio significant: 0.95\n",
      "['cg11141652', 'cg04234412', 'cg17005068', 'cg00740510']\n",
      "\n",
      "LatFeature: 9\n",
      "Number of not significant CpGs in cluster: 9 \t Ratio significant: 0.67\n",
      "['cg12419862', 'cg21256200', 'cg11141652', 'cg24694833', 'cg04234412', 'cg17005068', 'cg11466708', 'cg25703541', 'cg09033563']\n"
     ]
    }
   ],
   "source": [
    "for latFeature_i in [15, 5, 9]: # 15 is important, 5 & 9 not so much\n",
    "\n",
    "    PATH_pert= f\"/home/sonja/PROJECTS/VAE_methylation/perturbations/results/l1_regularisation/latSize_25/latFeature_{latFeature_i}\"\n",
    "    print(f\"\\nLatFeature: {latFeature_i}\")\n",
    "\n",
    "    cpgs = pd.read_csv(f\"{PATH_pert}/cpgs_high.txt\", header=None)[0].tolist() #cpgs_high_medium_low.txt\n",
    "\n",
    "    ewas_filtered = ewas_studies[ewas_studies[\"CpG\"].isin(cpgs)]\n",
    "    #print(ewas_filtered.shape)\n",
    "\n",
    "    # ### How many CpGs are not significant?\n",
    "    num_notsig = len([i for i in cpgs if i not in ewas_filtered[\"CpG\"].unique()])\n",
    "    print(f\"Number of not significant CpGs in cluster: {num_notsig} \\t Ratio significant: {round(1-(num_notsig/len(cpgs)),2)}\")\n",
    "\n",
    "    # ### Which CpGs are not significant?\n",
    "    print([i for i in cpgs if i not in ewas_filtered[\"CpG\"].unique()])"
   ]
  },
  {
   "cell_type": "code",
   "execution_count": 20,
   "metadata": {},
   "outputs": [
    {
     "name": "stdout",
     "output_type": "stream",
     "text": [
      "Number of not significant CpGs in cluster: 813 \t Ratio significant: 0.83\n"
     ]
    }
   ],
   "source": [
    "# tmpCpGs = test_dataset[\"beta\"].columns.tolist()\n",
    "\n",
    "# num_notsig = len([i for i in tmpCpGs if i not in ewas_studies[\"CpG\"].unique()])\n",
    "# print(f\"Number of not significant CpGs in cluster: {num_notsig} \\t Ratio significant: {round(1-(num_notsig/len(tmpCpGs)),2)}\")"
   ]
  },
  {
   "cell_type": "code",
   "execution_count": 23,
   "metadata": {},
   "outputs": [
    {
     "data": {
      "text/plain": [
       "3858"
      ]
     },
     "execution_count": 23,
     "metadata": {},
     "output_type": "execute_result"
    }
   ],
   "source": [
    "len(tmpCpGs)-813"
   ]
  },
  {
   "cell_type": "code",
   "execution_count": null,
   "metadata": {},
   "outputs": [],
   "source": []
  }
 ],
 "metadata": {
  "interpreter": {
   "hash": "3992ab943128cc4cf985d7ce129cb55b97cc0536705b4d7d2d01b5a593c32f90"
  },
  "kernelspec": {
   "display_name": "Python 3.8.5 ('base')",
   "language": "python",
   "name": "python3"
  },
  "language_info": {
   "codemirror_mode": {
    "name": "ipython",
    "version": 3
   },
   "file_extension": ".py",
   "mimetype": "text/x-python",
   "name": "python",
   "nbconvert_exporter": "python",
   "pygments_lexer": "ipython3",
   "version": "3.8.5"
  },
  "orig_nbformat": 4
 },
 "nbformat": 4,
 "nbformat_minor": 2
}
